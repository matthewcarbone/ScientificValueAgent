{
 "cells": [
  {
   "cell_type": "code",
   "execution_count": null,
   "id": "9b0f74b9-cb13-4f43-bf4b-afe47baf145f",
   "metadata": {},
   "outputs": [],
   "source": [
    "%load_ext autoreload\n",
    "%autoreload 2\n",
    "%config Completer.use_jedi = False"
   ]
  },
  {
   "cell_type": "markdown",
   "id": "bb6d903c-d364-4598-8e03-f735f12463c6",
   "metadata": {},
   "source": [
    "Notebook local path should be at `ScientificValueAgent/figures`."
   ]
  },
  {
   "cell_type": "code",
   "execution_count": null,
   "id": "68d9ceee-3f21-446a-b48a-092d5bb511c9",
   "metadata": {},
   "outputs": [],
   "source": [
    "import sys\n",
    "sys.path.append(\"..\")"
   ]
  },
  {
   "cell_type": "code",
   "execution_count": null,
   "id": "e8e3981a-c176-4f5c-b0d4-2445e277bab1",
   "metadata": {},
   "outputs": [],
   "source": [
    "from itertools import product\n",
    "\n",
    "import matplotlib.pyplot as plt\n",
    "import matplotlib as mpl\n",
    "from matplotlib import cm\n",
    "import numpy as np\n",
    "import pandas as pd\n",
    "import plotly.graph_objects as go\n",
    "from scipy.spatial import distance_matrix"
   ]
  },
  {
   "cell_type": "code",
   "execution_count": null,
   "id": "8fc26b18-c721-453c-bd35-8271421cd30b",
   "metadata": {},
   "outputs": [],
   "source": [
    "from sva import utils\n",
    "from sva.truth.uv import truth_uv\n",
    "from sva.value import default_asymmetric_value_function\n",
    "from sva.experiments import UVData, UVExperiment"
   ]
  },
  {
   "cell_type": "markdown",
   "id": "48186279-79f9-46f6-ae02-9796a9296980",
   "metadata": {},
   "source": [
    "Set some plotting defaults."
   ]
  },
  {
   "cell_type": "code",
   "execution_count": null,
   "id": "599e9082-d385-48dd-b341-07a133dd0157",
   "metadata": {},
   "outputs": [],
   "source": [
    "utils.set_defaults()"
   ]
  },
  {
   "cell_type": "markdown",
   "id": "2cad6ac1-6915-4f9a-8090-a4b9871c7a81",
   "metadata": {
    "tags": []
   },
   "source": [
    "# UV-vis experiment results"
   ]
  },
  {
   "cell_type": "code",
   "execution_count": null,
   "id": "401e5520-11d7-4b80-bd43-fa4662c1452f",
   "metadata": {},
   "outputs": [],
   "source": [
    "df = pd.read_csv(\"../sva/truth/uv_data.csv\")\n",
    "df = df.drop_duplicates(subset=[\"NCit\", \"pH\", \"HA\"])\n",
    "X = df[[\"NCit\", \"pH\", \"HA\"]].to_numpy()\n",
    "Y = df.iloc[:, 4:].to_numpy()\n",
    "grid = np.array([float(xx) for xx in df.columns.tolist()[4:]])"
   ]
  },
  {
   "cell_type": "markdown",
   "id": "1b743158-a310-4bc5-80ae-b751a5db5111",
   "metadata": {
    "tags": []
   },
   "source": [
    "## Pure SVF analysis"
   ]
  },
  {
   "cell_type": "markdown",
   "id": "d3d9ce25-7d44-441c-a759-bed1ccdd2978",
   "metadata": {},
   "source": [
    "Analyze the raw data using SVF only. First, we plot all available data in three dimensions, coloring the points by the calculated scientific value using only known measurements."
   ]
  },
  {
   "cell_type": "code",
   "execution_count": null,
   "id": "3b5c8d8a-1ee1-4025-a8d5-ce07815d5c45",
   "metadata": {},
   "outputs": [],
   "source": [
    "U = default_asymmetric_value_function(X, Y)\n",
    "U = (U - U.min()) / (U.max() - U.min())"
   ]
  },
  {
   "cell_type": "markdown",
   "id": "36c8ef84-af39-4143-9d71-85294529219e",
   "metadata": {},
   "source": [
    "Optional, interactive visualization."
   ]
  },
  {
   "cell_type": "code",
   "execution_count": null,
   "id": "0a2c1600-1148-4f3e-b947-9d568dab0337",
   "metadata": {},
   "outputs": [],
   "source": [
    "scat = go.Scatter3d(\n",
    "    x=X[:, 0],\n",
    "    y=X[:, 1],\n",
    "    z=X[:, 2],\n",
    "    marker=dict(color=U, size=5),\n",
    "    marker_colorscale=\"viridis\",\n",
    "    mode='markers'\n",
    ")\n",
    "\n",
    "\n",
    "fig = go.Figure(data=[scat])\n",
    "\n",
    "fig.update_layout(\n",
    "    # title='something', \n",
    "    autosize=False,\n",
    "    width=500, \n",
    "    height=500,\n",
    "    margin=dict(l=0, r=0, b=0, t=0),\n",
    "    scene=dict(\n",
    "        xaxis_title=\"NCit\",\n",
    "        yaxis_title='\"pH\"',\n",
    "        zaxis_title=\"HA\",\n",
    "    ),\n",
    ")\n",
    "\n",
    "fig.show()\n",
    "# fig.write_image(\"test.pdf\")\n",
    "# plt.savefig(\"test.pdf\", bbox_inches=\"tight\", dpi=300)"
   ]
  },
  {
   "cell_type": "markdown",
   "id": "acc08918-8d94-4a3b-bfe2-a68e4b9a83e7",
   "metadata": {},
   "source": [
    "Next, we can find groupings of points which are clusters of low value, and clusters of high value. For the low value points, we choose some of the edge regions of the plot. For the high value points, we choose points nearby the more \"central\" high value cluster."
   ]
  },
  {
   "cell_type": "code",
   "execution_count": null,
   "id": "83369456-d01d-45dc-af37-96c4a3c5255a",
   "metadata": {},
   "outputs": [],
   "source": [
    "low_value_cluster_1 = np.array([[2, -16, 2], [1, -16, 2]])\n",
    "low_value_cluster_2 = np.array([[6, -16, 16], [7, -16, 14], [5.25, -16, 14]])\n",
    "low_value_cluster_3 = np.array([[12, 16, 11], [11, 16, 11]])\n",
    "low_value_cluster_4 = np.array([[1, 16, 2], [2, 16, 2]])"
   ]
  },
  {
   "cell_type": "code",
   "execution_count": null,
   "id": "3a0b6800-db83-4854-b05c-a6be10d93732",
   "metadata": {},
   "outputs": [],
   "source": [
    "highest_value_point = X[np.argmax(U), :]\n",
    "distances_to_highest_value_point = distance_matrix(highest_value_point.reshape(-1, 3), X).squeeze()\n",
    "argsorted = np.argsort(distances_to_highest_value_point)"
   ]
  },
  {
   "cell_type": "code",
   "execution_count": null,
   "id": "99d9a519-02c5-4d8f-88b5-c7ddb874a450",
   "metadata": {},
   "outputs": [],
   "source": [
    "n_closest_points = 10\n",
    "high_value_cluster = X[argsorted, :][:n_closest_points, :]"
   ]
  },
  {
   "cell_type": "markdown",
   "id": "9e3e6bec-5fac-48b2-a15d-05b1335fabd4",
   "metadata": {},
   "source": [
    "Plot the UV-Vis spectra from these clusters."
   ]
  },
  {
   "cell_type": "code",
   "execution_count": null,
   "id": "5f4d2008-e229-413c-89b6-a6577b92bf3b",
   "metadata": {},
   "outputs": [],
   "source": [
    "def get_indexes_by_cluster(cluster, X=X):\n",
    "    indexes = []\n",
    "    for point in cluster:\n",
    "        where = np.all(X == point, axis=1)\n",
    "        where = np.where(where)[0].item()\n",
    "        indexes.append(where)\n",
    "    return np.array(indexes)"
   ]
  },
  {
   "cell_type": "code",
   "execution_count": null,
   "id": "c6008d42-7620-42bb-8539-5dd5aee34ddd",
   "metadata": {},
   "outputs": [],
   "source": [
    "low_value_spectra = [\n",
    "    Y[get_indexes_by_cluster(low_value_cluster_1), :],\n",
    "    Y[get_indexes_by_cluster(low_value_cluster_2), :],\n",
    "    Y[get_indexes_by_cluster(low_value_cluster_3), :],\n",
    "    Y[get_indexes_by_cluster(low_value_cluster_4), :],\n",
    "]"
   ]
  },
  {
   "cell_type": "code",
   "execution_count": null,
   "id": "9be3ed45-6bf0-4d28-a0f2-f6c9050fd447",
   "metadata": {},
   "outputs": [],
   "source": [
    "low_value_value = [\n",
    "    U[get_indexes_by_cluster(low_value_cluster_1)],\n",
    "    U[get_indexes_by_cluster(low_value_cluster_2)],\n",
    "    U[get_indexes_by_cluster(low_value_cluster_3)],\n",
    "    U[get_indexes_by_cluster(low_value_cluster_4)],\n",
    "]"
   ]
  },
  {
   "cell_type": "code",
   "execution_count": null,
   "id": "ee4dbac9-74c2-43bf-b618-b74c5b5a6ce7",
   "metadata": {},
   "outputs": [],
   "source": [
    "high_value_spectra = Y[get_indexes_by_cluster(high_value_cluster), :]\n",
    "high_value_value = U[get_indexes_by_cluster(high_value_cluster)]"
   ]
  },
  {
   "cell_type": "code",
   "execution_count": null,
   "id": "3e69ee82-019b-4249-88f6-ca15834a37c1",
   "metadata": {},
   "outputs": [],
   "source": [
    "prop_cycle = plt.rcParams['axes.prop_cycle']\n",
    "colors = prop_cycle.by_key()['color']"
   ]
  },
  {
   "cell_type": "code",
   "execution_count": null,
   "id": "f5679214-41e2-4c98-ac7e-c97cf3747fe4",
   "metadata": {},
   "outputs": [],
   "source": [
    "fig, axs = plt.subplots(1, 4, figsize=(6, 1), sharey=True, sharex=True)\n",
    "\n",
    "# Very low value\n",
    "ax = axs[0]\n",
    "ii = 0\n",
    "spectral_data = low_value_spectra[ii]\n",
    "value = low_value_value[ii]\n",
    "mu = value.mean()\n",
    "sd = value.std()\n",
    "for jj, spec in enumerate(spectral_data):\n",
    "    ax.plot(grid, spec, color=colors[ii])\n",
    "# ax.text(0.1, 0.8, f\"${mu:.02f} \\pm {sd:.02f}$\", ha=\"left\", va=\"top\", transform=ax.transAxes, color=colors[ii])\n",
    "print(f\"${mu:.02f} \\pm {sd:.02f}$\")\n",
    "    \n",
    "ii = 3\n",
    "spectral_data = low_value_spectra[ii]\n",
    "value = low_value_value[ii]\n",
    "for jj, spec in enumerate(spectral_data):\n",
    "    mu = value.mean()\n",
    "    sd = value.std()\n",
    "    ax.plot(grid, spec, color=colors[ii])\n",
    "# ax.text(0.1, 0.7, f\"${mu:.02f} \\pm {sd:.02f}$\", ha=\"left\", va=\"top\", transform=ax.transAxes, color=colors[ii])\n",
    "    \n",
    "ax.text(0.05, 0.5, \"(a)\", ha=\"left\", va=\"top\", transform=axs[0].transAxes)  # For the other svg\n",
    "ax.text(0.9, 0.9, \"(b)\", ha=\"right\", va=\"top\", transform=axs[0].transAxes)\n",
    "print(f\"${mu:.02f} \\pm {sd:.02f}$\")\n",
    "\n",
    "\n",
    "\n",
    "# Low value\n",
    "ax = axs[1]\n",
    "ii = 2\n",
    "spectral_data = low_value_spectra[ii]\n",
    "value = low_value_value[ii]\n",
    "mu = value.mean()\n",
    "sd = value.std()\n",
    "for jj, spec in enumerate(spectral_data):\n",
    "    ax.plot(grid, spec, color=colors[ii])\n",
    "ax.text(0.9, 0.9, \"(c)\", ha=\"right\", va=\"top\", transform=ax.transAxes)\n",
    "# ax.text(0.1, 0.8, f\"${mu:.02f} \\pm {sd:.02f}$\", ha=\"left\", va=\"top\", transform=ax.transAxes, color=colors[ii])\n",
    "print(f\"${mu:.02f} \\pm {sd:.02f}$\")\n",
    "\n",
    "\n",
    "# Medium value\n",
    "ax = axs[2]\n",
    "ii = 1\n",
    "spectral_data = low_value_spectra[ii]\n",
    "value = low_value_value[ii]\n",
    "mu = value.mean()\n",
    "sd = value.std()\n",
    "for jj, spec in enumerate(spectral_data):\n",
    "    ax.plot(grid, spec, color=colors[ii])\n",
    "ax.text(0.9, 0.9, \"(d)\", ha=\"right\", va=\"top\", transform=ax.transAxes)\n",
    "# ax.text(0.1, 0.8, f\"${mu:.02f} \\pm {sd:.02f}$\", ha=\"left\", va=\"top\", transform=ax.transAxes, color=colors[ii])\n",
    "print(f\"${mu:.02f} \\pm {sd:.02f}$\")\n",
    "\n",
    "        \n",
    "# High value\n",
    "ax = axs[3]\n",
    "for jj, spec in enumerate(high_value_spectra):\n",
    "    ax.plot(grid, spec, color=\"black\")\n",
    "mu = high_value_value.mean()\n",
    "sd = high_value_value.std()\n",
    "ax.text(0.9, 0.9, \"(e)\", ha=\"right\", va=\"top\", transform=ax.transAxes)\n",
    "# ax.text(0.9, 0.8, f\"${mu:.02f} \\pm {sd:.02f}$\", ha=\"right\", va=\"top\", transform=ax.transAxes)\n",
    "print(f\"${mu:.02f} \\pm {sd:.02f}$\")\n",
    "\n",
    "for ax in axs:\n",
    "    utils.set_grids(ax)\n",
    "    # ax.set_ylim(top=3.5)\n",
    "    ax.set_yticklabels([])\n",
    "    ax.set_xticks([500, 700])\n",
    "\n",
    "ax = fig.add_subplot(111, frameon=False)\n",
    "plt.tick_params(labelcolor='none', top='off', bottom='off', left='off', right='off')\n",
    "ax.set_xticks([])\n",
    "ax.set_yticks([])\n",
    "ax.set_ylabel(\"Abs.~[a.u.]\")\n",
    "ax.set_xlabel(r\"$\\lambda$~[nm]\", labelpad=15)\n",
    "\n",
    "    \n",
    "plt.subplots_adjust(hspace=0.1)\n",
    "\n",
    "# plt.show()\n",
    "plt.savefig(\"uv_subfigure_b.svg\", dpi=300, bbox_inches=\"tight\")"
   ]
  },
  {
   "cell_type": "markdown",
   "id": "2e83b4d3-3c2f-4032-b005-312cfa3c0eca",
   "metadata": {},
   "source": [
    "Matplotlib version of the 3d scatter plot."
   ]
  },
  {
   "cell_type": "code",
   "execution_count": null,
   "id": "cf1401ca-ff1d-468a-bb50-2973b96ecde8",
   "metadata": {},
   "outputs": [],
   "source": [
    "fig = plt.figure(figsize=(5, 5))\n",
    "ax = fig.add_subplot(projection='3d')\n",
    "\n",
    "ax.scatter(*low_value_cluster_1.T, color=colors[0], alpha=1, marker=\"o\", s=50)\n",
    "ax.scatter(*low_value_cluster_2.T, color=colors[1], alpha=1, marker=\"o\", s=50)\n",
    "ax.scatter(*low_value_cluster_3.T, color=colors[2], alpha=1, marker=\"o\", s=50)\n",
    "ax.scatter(*low_value_cluster_4.T, color=colors[3], alpha=1, marker=\"o\", s=50)\n",
    "# ax.scatter(*high_value_cluster.T, color=\"black\", alpha=1, marker=\"o\", s=50)\n",
    "ax.scatter(X[:, 0], X[:, 1], X[:, 2], c=U, alpha=0.9, marker=\"o\", s=20)\n",
    "\n",
    "\n",
    "\n",
    "ax.set_box_aspect((\n",
    "    np.ptp(X[:, 0]),\n",
    "    np.ptp(X[:, 1]),\n",
    "    np.ptp(X[:, 2])\n",
    "))\n",
    "ax.view_init(40, 225)\n",
    "ax.set_xlabel(\"Volume NaCit [$\\mu$L]\")\n",
    "ax.set_ylabel(\"Volume OH$^-$ [$\\mu$L]\", labelpad=20)\n",
    "ax.set_zlabel(\"Volume HAuCl$_4$ [$\\mu$L]\")\n",
    "\n",
    "ax.set_zticks([2, 6, 10, 14])\n",
    "ax.set_xticks([2, 6, 10, 14])\n",
    "\n",
    "# plt.show()\n",
    "plt.savefig(\"uv_subfigure_a_2.svg\", dpi=300, bbox_inches=\"tight\")"
   ]
  }
 ],
 "metadata": {
  "kernelspec": {
   "display_name": "Python 3 (ipykernel)",
   "language": "python",
   "name": "python3"
  },
  "language_info": {
   "codemirror_mode": {
    "name": "ipython",
    "version": 3
   },
   "file_extension": ".py",
   "mimetype": "text/x-python",
   "name": "python",
   "nbconvert_exporter": "python",
   "pygments_lexer": "ipython3",
   "version": "3.9.16"
  }
 },
 "nbformat": 4,
 "nbformat_minor": 5
}
