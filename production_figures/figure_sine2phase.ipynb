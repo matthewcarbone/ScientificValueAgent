{
 "cells": [
  {
   "cell_type": "code",
   "execution_count": null,
   "id": "9b0f74b9-cb13-4f43-bf4b-afe47baf145f",
   "metadata": {},
   "outputs": [],
   "source": [
    "%load_ext autoreload\n",
    "%autoreload 2\n",
    "%config Completer.use_jedi = False"
   ]
  },
  {
   "cell_type": "markdown",
   "id": "bb6d903c-d364-4598-8e03-f735f12463c6",
   "metadata": {},
   "source": [
    "Notebook local path should be at `ScientificValueAgent/production_figures`."
   ]
  },
  {
   "cell_type": "code",
   "execution_count": null,
   "id": "68d9ceee-3f21-446a-b48a-092d5bb511c9",
   "metadata": {},
   "outputs": [],
   "source": [
    "import sys\n",
    "sys.path.append(\"..\")"
   ]
  },
  {
   "cell_type": "code",
   "execution_count": null,
   "id": "e8e3981a-c176-4f5c-b0d4-2445e277bab1",
   "metadata": {},
   "outputs": [],
   "source": [
    "from itertools import product\n",
    "from pathlib import Path\n",
    "\n",
    "import matplotlib.pyplot as plt\n",
    "import matplotlib as mpl\n",
    "import numpy as np\n",
    "from tqdm import tqdm\n",
    "from scipy.spatial import distance_matrix"
   ]
  },
  {
   "cell_type": "code",
   "execution_count": null,
   "id": "8fc26b18-c721-453c-bd35-8271421cd30b",
   "metadata": {},
   "outputs": [],
   "source": [
    "from sva import utils"
   ]
  },
  {
   "cell_type": "markdown",
   "id": "48186279-79f9-46f6-ae02-9796a9296980",
   "metadata": {},
   "source": [
    "Set some plotting defaults."
   ]
  },
  {
   "cell_type": "code",
   "execution_count": null,
   "id": "599e9082-d385-48dd-b341-07a133dd0157",
   "metadata": {},
   "outputs": [],
   "source": [
    "utils.set_defaults()"
   ]
  },
  {
   "cell_type": "markdown",
   "id": "2cad6ac1-6915-4f9a-8090-a4b9871c7a81",
   "metadata": {
    "tags": []
   },
   "source": [
    "# Two-phase sine result"
   ]
  },
  {
   "cell_type": "code",
   "execution_count": null,
   "id": "cf0fc662-3a56-4bfa-a792-66204d731111",
   "metadata": {},
   "outputs": [],
   "source": [
    "from sva.postprocessing import read_data, parse_results_by_acquisition_function\n",
    "from sva.truth.sine2phase import (\n",
    "    phase_1_sine_on_2d_raster,\n",
    "    truth_sine2phase,\n",
    "    sine2phase_interpolant_2d,\n",
    "    sine2phase_compute_metrics_all_acquisition_functions_and_LTB,\n",
    "    sine2phase_residual_2d_phase_relative_mae,\n",
    ")\n",
    "from sva.truth.common import limited_time_budget, get_phase_plot_info"
   ]
  },
  {
   "cell_type": "markdown",
   "id": "9e766271-cfba-4f33-8104-0ae68d9dfdff",
   "metadata": {},
   "source": [
    "Get the results. This is a few GB of raw data and thus could take a little time to load."
   ]
  },
  {
   "cell_type": "code",
   "execution_count": null,
   "id": "52607c0f-f17a-4a30-9009-69cb4f9785d1",
   "metadata": {
    "tags": []
   },
   "outputs": [],
   "source": [
    "results = read_data(\"../results/results_23-05-02-sine2phase/\")"
   ]
  },
  {
   "cell_type": "code",
   "execution_count": null,
   "id": "008c577d-5caa-4b89-b069-449c83a5878f",
   "metadata": {},
   "outputs": [],
   "source": [
    "results_by_acqf = parse_results_by_acquisition_function(results)"
   ]
  },
  {
   "cell_type": "markdown",
   "id": "4bffcfcb-fbf8-4760-bc67-53312d2ac7ea",
   "metadata": {
    "tags": []
   },
   "source": [
    "## Core manuscript figure"
   ]
  },
  {
   "cell_type": "code",
   "execution_count": null,
   "id": "0a97e3a8-e402-4229-b35d-70ec22fb7ad6",
   "metadata": {},
   "outputs": [],
   "source": [
    "x, y, Z = get_phase_plot_info(phase_1_sine_on_2d_raster)\n",
    "X, Y = np.meshgrid(x, y)\n",
    "gradZ = np.array(np.gradient(Z))\n",
    "gradZ = np.sqrt((gradZ**2).sum(axis=0))"
   ]
  },
  {
   "cell_type": "code",
   "execution_count": null,
   "id": "327735e2-bbb5-4cf8-9d07-d84a8ea0dd41",
   "metadata": {},
   "outputs": [],
   "source": [
    "extent = (x[0], x[-1], y[0], y[-1])\n",
    "scale = 1\n",
    "lw = 0.5\n",
    "\n",
    "g = np.linspace(0, 1, 200)"
   ]
  },
  {
   "cell_type": "markdown",
   "id": "1c17e853-1450-4024-9f28-efd16b80c708",
   "metadata": {},
   "source": [
    "### Subfigure (a)"
   ]
  },
  {
   "cell_type": "code",
   "execution_count": null,
   "id": "88b5ac53-ab1f-48b1-bb03-6f5c1e5121f4",
   "metadata": {},
   "outputs": [],
   "source": [
    "color=\"black\"\n",
    "\n",
    "fig, ax = plt.subplots(1, 1, figsize=(2*scale, 2*scale), sharex=True, sharey=True)\n",
    "\n",
    "im = ax.imshow(Z, interpolation='bilinear', origin='lower', cmap=mpl.cm.seismic, extent=extent, alpha=0.6)\n",
    "\n",
    "ax.text(0.05, 0.95, r\"(a)\", ha=\"left\", va=\"top\", transform=ax.transAxes, color=color)\n",
    "ax.text(0.95, 0.95, \"Phase 1\", ha=\"right\", va=\"top\", transform=ax.transAxes, color=color)\n",
    "ax.text(0.05, 0.05, \"Phase 2\", ha=\"left\", va=\"bottom\", transform=ax.transAxes, color=color)\n",
    "\n",
    "ax.set_xticks([0, 1])\n",
    "ax.set_yticks([0, 1])\n",
    "\n",
    "utils.set_grids(ax, grid=False)\n",
    "ax.set_ylabel(\"$x_2$~[a.u.]\")\n",
    "ax.set_xlabel(\"$x_1$~[a.u.]\")\n",
    "\n",
    "plt.savefig(\"figures_sine2phase/sine2phase_subfigure_a.svg\", dpi=300, bbox_inches=\"tight\")\n",
    "# plt.show()"
   ]
  },
  {
   "cell_type": "markdown",
   "id": "1c6a7fff-4d93-4fc0-a240-7fc223189b75",
   "metadata": {},
   "source": [
    "### Subfigure $p(x)$ colorbar"
   ]
  },
  {
   "cell_type": "code",
   "execution_count": null,
   "id": "dc7e31e7-f227-4ca8-a510-fc484858f79f",
   "metadata": {},
   "outputs": [],
   "source": [
    "fig, ax = plt.subplots(1, 1, figsize=(2*scale, 2*scale), sharex=True, sharey=True)\n",
    "\n",
    "im = ax.imshow(Z, interpolation='bilinear', origin='lower', cmap=mpl.cm.seismic, extent=extent, alpha=0.6)\n",
    "\n",
    "cbar = utils.add_colorbar(im, aspect=20)\n",
    "cbar.set_ticks([0, 1])\n",
    "cbar.set_label(r\"$p(\\mathbf{x})$\", labelpad=-10)\n",
    "\n",
    "ax.remove()\n",
    "\n",
    "plt.savefig(\"figures_sine2phase/sine2phase_p_cbar.svg\", dpi=300, bbox_inches=\"tight\")\n",
    "# plt.show()"
   ]
  },
  {
   "cell_type": "markdown",
   "id": "5b7ac2bf-63ee-4c01-90b6-5d9bbaff29a7",
   "metadata": {},
   "source": [
    "### Subfigure (b)"
   ]
  },
  {
   "cell_type": "code",
   "execution_count": null,
   "id": "332d7a3d-334e-499d-b845-3862a3ad3660",
   "metadata": {},
   "outputs": [],
   "source": [
    "single_result = results_by_acqf[\"UpperConfidenceBound10\"][0]\n",
    "Z = single_result._record[-1][\"mu\"].reshape(50, 50).T\n",
    "Z = Z - Z.min()\n",
    "Z = Z / Z.max()\n",
    "cmap = mpl.cm.magma"
   ]
  },
  {
   "cell_type": "code",
   "execution_count": null,
   "id": "2e8bf2a4-aa40-44c4-a40b-f1a77370eaf5",
   "metadata": {},
   "outputs": [],
   "source": [
    "fig, ax = plt.subplots(1, 1, figsize=(2*scale, 2*scale), sharex=True, sharey=True)\n",
    "\n",
    "im = ax.imshow(Z, interpolation='bilinear', origin='lower', cmap=cmap, extent=extent, alpha=0.4)\n",
    "\n",
    "sine = 0.5 + np.sin(2.0 * np.pi * g) / 4\n",
    "sine_upper = sine + 0.05\n",
    "sine_lower = sine - 0.05\n",
    "\n",
    "# ax.fill_between(g, sine_lower, sine_upper, hatch=\"|\"*10, color=None, alpha=0, linewidth=0)\n",
    "color=\"k\"\n",
    "ax.plot(g, sine, f\"{color}--\", linewidth=lw,)\n",
    "# ax.plot(g, sine_upper, f\"{color}--\", linewidth=lw)\n",
    "# ax.plot(g, sine_lower, f\"{color}--\", linewidth=lw)\n",
    "\n",
    "X = single_result.data.X\n",
    "ax.scatter(X[:, 0], X[:, 1], color=\"black\", s=0.5, zorder=3)\n",
    "\n",
    "ax.text(0.05, 0.95, r\"(b)\", ha=\"left\", va=\"top\", transform=ax.transAxes)\n",
    "\n",
    "ax.set_xticks([0, 1])\n",
    "ax.set_yticks([0, 1])\n",
    "\n",
    "utils.set_grids(ax, grid=False)\n",
    "ax.set_ylabel(\"$x_2$~[a.u.]\")\n",
    "ax.set_xlabel(\"$x_1$~[a.u.]\")\n",
    "\n",
    "plt.savefig(\"figures_sine2phase/sine2phase_subfigure_b.svg\", dpi=300, bbox_inches=\"tight\")\n",
    "# plt.show()"
   ]
  },
  {
   "cell_type": "markdown",
   "id": "8e2811d8-af80-4072-82c9-25ccf822d2a3",
   "metadata": {},
   "source": [
    "### Subfigure value colorbar"
   ]
  },
  {
   "cell_type": "code",
   "execution_count": null,
   "id": "9790d326-5a0f-4651-8ed5-3d945f15a9f4",
   "metadata": {},
   "outputs": [],
   "source": [
    "fig, ax = plt.subplots(1, 1, figsize=(2*scale, 2*scale), sharex=True, sharey=True)\n",
    "\n",
    "im = ax.imshow(Z, interpolation='bilinear', origin='lower', cmap=cmap, extent=extent, alpha=0.4)\n",
    "\n",
    "cbar = utils.add_colorbar(im, aspect=20)\n",
    "cbar.set_ticks([0, 1])\n",
    "cbar.set_label(r\"$U(\\mathbf{x})$\", labelpad=-10)\n",
    "\n",
    "ax.remove()\n",
    "\n",
    "plt.savefig(\"figures_sine2phase/sine2phase_U_cbar.svg\", dpi=300, bbox_inches=\"tight\")\n",
    "# plt.show()"
   ]
  },
  {
   "cell_type": "markdown",
   "id": "a1115843-0696-4840-9597-c22087f1d050",
   "metadata": {},
   "source": [
    "### Subfigure (c): select metrics"
   ]
  },
  {
   "cell_type": "code",
   "execution_count": null,
   "id": "eee6cdac-e9f4-4466-8e19-66f4eaea7e46",
   "metadata": {},
   "outputs": [],
   "source": [
    "acquisition_function_name_maps = {\n",
    "    \"Linear\": \"LTB\",\n",
    "    \"UpperConfidenceBound10\": \"UCB(10)\",\n",
    "    \"ExpectedImprovement\": \"EI\",\n",
    "    \"UpperConfidenceBound1\": \"UCB(1)\",\n",
    "    \"UpperConfidenceBound20\": \"UCB(20)\",\n",
    "    \"UpperConfidenceBound100\": \"UCB(100)\"\n",
    "}"
   ]
  },
  {
   "cell_type": "code",
   "execution_count": null,
   "id": "c878d601-6b2e-4a43-abc0-1b3247c89edf",
   "metadata": {},
   "outputs": [],
   "source": [
    "metrics_grid = list(range(6, 251, 6)) + [250]\n",
    "metrics_grid = np.unique(metrics_grid).tolist()\n",
    "metrics_grid_linear = [ii for ii in range(2, 16)]\n",
    "grid_points = 200\n",
    "metric = \"mse\""
   ]
  },
  {
   "cell_type": "code",
   "execution_count": null,
   "id": "cdab8ff6-3b34-4fbf-8d19-0717c475fe6c",
   "metadata": {},
   "outputs": [],
   "source": [
    "all_metrics_linear = sine2phase_compute_metrics_all_acquisition_functions_and_LTB(\n",
    "    results_by_acqf,\n",
    "    metrics_grid=metrics_grid,\n",
    "    metrics_grid_linear=metrics_grid_linear,\n",
    "    metric=metric,\n",
    "    grid_points=grid_points,\n",
    "    interpolation_method=\"linear\",\n",
    "    disable_pbar=False,\n",
    ")"
   ]
  },
  {
   "cell_type": "code",
   "execution_count": null,
   "id": "442ceaf2-ce3f-48bb-b12a-8a8d449ca329",
   "metadata": {},
   "outputs": [],
   "source": [
    "only_plot = [\"LTB\", \"EI\", \"UCB(10)\"]"
   ]
  },
  {
   "cell_type": "code",
   "execution_count": null,
   "id": "3da253f8-41a4-48c8-b053-50ae409e0056",
   "metadata": {},
   "outputs": [],
   "source": [
    "fig, ax = plt.subplots(1, 1, figsize=(1.5, 2))\n",
    "    \n",
    "for acquisition_function_name in acquisition_function_name_maps.keys():\n",
    "\n",
    "    values = all_metrics_linear[\"metrics\"][acquisition_function_name]\n",
    "    metrics_grid = all_metrics_linear[\"metrics_grid\"]\n",
    "    metrics_grid_linear = all_metrics_linear[\"metrics_grid_linear\"]\n",
    "    label = acquisition_function_name_maps[acquisition_function_name]\n",
    "    \n",
    "    if only_plot is None or label in only_plot:\n",
    "        mu = np.log(values).mean(axis=1)\n",
    "        sd = np.log(values).std(axis=1) * 2\n",
    "        label = label if label != \"LTB\" else \"Grid\"\n",
    "        if label == \"Grid\":\n",
    "            ax.plot(metrics_grid_linear, mu, label=label)\n",
    "            ax.fill_between(metrics_grid_linear, mu - sd, mu + sd, linewidth=0, alpha=0.3)\n",
    "        else:\n",
    "            ax.plot(metrics_grid, mu, label=label)\n",
    "            ax.fill_between(metrics_grid, mu - sd, mu + sd, linewidth=0, alpha=0.3)\n",
    "\n",
    "utils.set_grids(ax)\n",
    "ax.tick_params(which=\"minor\", bottom=False, top=False)\n",
    "ax.set_xticks([4, 50, 150, 250])\n",
    "# ax.set_yscale('log')\n",
    "\n",
    "# yticks = np.array([-1, -2, -3])\n",
    "# ax.set_yticks((10.0**yticks).tolist())\n",
    "# ax.set_yticklabels([f\"${ii}$\" for ii in yticks])\n",
    "\n",
    "# ax.axhline(0.1, color=\"black\", linewidth=0.5, linestyle=\"--\", zorder=-1)\n",
    "\n",
    "# ax.legend(frameon=False, bbox_to_anchor=(1, 0.5), loc=\"center left\")\n",
    "ax.legend(frameon=False, loc=\"upper right\", fontsize=8)\n",
    "# ax.text(0.05, 0.05, r\"$\\mu \\pm \\sigma / 3$\", ha=\"left\", va=\"bottom\", transform=ax.transAxes)\n",
    "ax.text(0.05, 0.05, r\"(c)\", ha=\"left\", va=\"bottom\", transform=ax.transAxes)\n",
    "ax.set_ylim(top=0.5, bottom=-7.5)\n",
    "\n",
    "ax.set_xlabel(r\"$N$\")\n",
    "ax.set_ylabel(r\"$\\ln$(MSE)\")\n",
    "\n",
    "plt.savefig(\"figures_sine2phase/sine2phase_subfigure_c.svg\", dpi=300, bbox_inches=\"tight\")\n",
    "# plt.show()"
   ]
  },
  {
   "cell_type": "markdown",
   "id": "84bb0440-fb57-4557-84d4-486216b72c51",
   "metadata": {},
   "source": [
    "## Plot of the basis functions"
   ]
  },
  {
   "cell_type": "code",
   "execution_count": null,
   "id": "bfd9ad71-6f7c-48e5-85bf-5778e9548a20",
   "metadata": {
    "tags": []
   },
   "outputs": [],
   "source": [
    "from sva.truth.common import mu_Gaussians"
   ]
  },
  {
   "cell_type": "code",
   "execution_count": null,
   "id": "fc48cf2d-dc05-4c49-8a60-7638ef09d3c3",
   "metadata": {
    "tags": []
   },
   "outputs": [],
   "source": [
    "E = np.linspace(-1, 1, 100)"
   ]
  },
  {
   "cell_type": "code",
   "execution_count": null,
   "id": "75eaa3ea-a482-4a49-abdf-5fa097fa219e",
   "metadata": {
    "tags": []
   },
   "outputs": [],
   "source": [
    "pure1 = mu_Gaussians(0)\n",
    "pure2 = mu_Gaussians(1)"
   ]
  },
  {
   "cell_type": "code",
   "execution_count": null,
   "id": "21a90200-e947-4790-8bf2-febcb7b36594",
   "metadata": {
    "tags": []
   },
   "outputs": [],
   "source": [
    "fig, ax = plt.subplots(1, 1, figsize=(3, 2))\n",
    "\n",
    "ax.plot(E, pure1, color=\"red\", label=\"Phase 1\")\n",
    "ax.plot(E, pure2, color=\"blue\", label=\"Phase 2\")\n",
    "\n",
    "ax.legend(frameon=False, bbox_to_anchor=(1.0, 0.5), loc=\"center left\")\n",
    "ax.set_xlabel(\"$Q$~[a.u.]\")\n",
    "ax.set_ylabel(\"$I(Q)$~[a.u.]\")\n",
    "\n",
    "plt.savefig(\"sine2phase_phases.pdf\", bbox_inches=\"tight\", dpi=300)"
   ]
  }
 ],
 "metadata": {
  "kernelspec": {
   "display_name": "Python 3 (ipykernel)",
   "language": "python",
   "name": "python3"
  },
  "language_info": {
   "codemirror_mode": {
    "name": "ipython",
    "version": 3
   },
   "file_extension": ".py",
   "mimetype": "text/x-python",
   "name": "python",
   "nbconvert_exporter": "python",
   "pygments_lexer": "ipython3",
   "version": "3.9.16"
  },
  "toc-showtags": false
 },
 "nbformat": 4,
 "nbformat_minor": 5
}
