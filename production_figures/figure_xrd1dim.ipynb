{
 "cells": [
  {
   "cell_type": "code",
   "execution_count": null,
   "id": "9b0f74b9-cb13-4f43-bf4b-afe47baf145f",
   "metadata": {},
   "outputs": [],
   "source": [
    "%load_ext autoreload\n",
    "%autoreload 2\n",
    "%config Completer.use_jedi = False"
   ]
  },
  {
   "cell_type": "markdown",
   "id": "bb6d903c-d364-4598-8e03-f735f12463c6",
   "metadata": {},
   "source": [
    "Notebook local path should be at `ScientificValueAgent/figures`."
   ]
  },
  {
   "cell_type": "code",
   "execution_count": null,
   "id": "68d9ceee-3f21-446a-b48a-092d5bb511c9",
   "metadata": {},
   "outputs": [],
   "source": [
    "import sys\n",
    "sys.path.append(\"..\")"
   ]
  },
  {
   "cell_type": "code",
   "execution_count": null,
   "id": "e8e3981a-c176-4f5c-b0d4-2445e277bab1",
   "metadata": {},
   "outputs": [],
   "source": [
    "from collections import Counter\n",
    "from copy import deepcopy\n",
    "from itertools import product\n",
    "from pathlib import Path\n",
    "\n",
    "import matplotlib.pyplot as plt\n",
    "import matplotlib as mpl\n",
    "import numpy as np\n",
    "import pickle\n",
    "from scipy.spatial import distance_matrix\n",
    "from sklearn.cluster import KMeans\n",
    "from sklearn.linear_model import LogisticRegression\n",
    "from tqdm import tqdm\n",
    "import warnings"
   ]
  },
  {
   "cell_type": "code",
   "execution_count": null,
   "id": "8fc26b18-c721-453c-bd35-8271421cd30b",
   "metadata": {},
   "outputs": [],
   "source": [
    "from sva import utils"
   ]
  },
  {
   "cell_type": "markdown",
   "id": "48186279-79f9-46f6-ae02-9796a9296980",
   "metadata": {},
   "source": [
    "Set some plotting defaults."
   ]
  },
  {
   "cell_type": "code",
   "execution_count": null,
   "id": "599e9082-d385-48dd-b341-07a133dd0157",
   "metadata": {},
   "outputs": [],
   "source": [
    "utils.set_defaults()"
   ]
  },
  {
   "cell_type": "markdown",
   "id": "2cad6ac1-6915-4f9a-8090-a4b9871c7a81",
   "metadata": {
    "tags": []
   },
   "source": [
    "# Multi-phase one-dimensional XRD results"
   ]
  },
  {
   "cell_type": "code",
   "execution_count": null,
   "id": "cf0fc662-3a56-4bfa-a792-66204d731111",
   "metadata": {},
   "outputs": [],
   "source": [
    "from sva.postprocessing import read_data, parse_results_by_acquisition_function\n",
    "from sva.truth.xrd1dim import (\n",
    "    _get_1d_phase_data,\n",
    "    residual_1d_phase_relative_mae,\n",
    "    xrd1dim_compute_metrics_all_acquisition_functions_and_LTB,\n",
    "    _get_1d_phase_fractions,\n",
    "    truth_xrd1dim,\n",
    "    residual_1d_phase_mse\n",
    ")"
   ]
  },
  {
   "cell_type": "markdown",
   "id": "4bffcfcb-fbf8-4760-bc67-53312d2ac7ea",
   "metadata": {
    "tags": []
   },
   "source": [
    "## Core manuscript figures"
   ]
  },
  {
   "cell_type": "code",
   "execution_count": null,
   "id": "ba98eb8c-d355-429a-8a33-f6fc70edd262",
   "metadata": {},
   "outputs": [],
   "source": [
    "results_Adam = read_data(\"../results/results_23-05-02-xrd1dim/\")"
   ]
  },
  {
   "cell_type": "code",
   "execution_count": null,
   "id": "008c577d-5caa-4b89-b069-449c83a5878f",
   "metadata": {},
   "outputs": [],
   "source": [
    "results_by_acqf_Adam = parse_results_by_acquisition_function(results_Adam)"
   ]
  },
  {
   "cell_type": "code",
   "execution_count": null,
   "id": "9a06a9a0-e0c6-4f3f-b21f-dfea11181970",
   "metadata": {},
   "outputs": [],
   "source": [
    "cache = Path(\"cache\")\n",
    "cache.mkdir(exist_ok=True)"
   ]
  },
  {
   "cell_type": "markdown",
   "id": "1c17e853-1450-4024-9f28-efd16b80c708",
   "metadata": {},
   "source": [
    "### Subfigure (a) and (b)"
   ]
  },
  {
   "cell_type": "code",
   "execution_count": null,
   "id": "928bb216-ce49-4f41-85d0-802aea5ace5e",
   "metadata": {},
   "outputs": [],
   "source": [
    "acquisition_function = \"UpperConfidenceBound10\"\n",
    "all_results_Adam = np.array([xx.data.X.squeeze() for xx in results_by_acqf_Adam[acquisition_function]])"
   ]
  },
  {
   "cell_type": "markdown",
   "id": "36de6cd6-f41d-415a-81f0-c978f16e3fa4",
   "metadata": {},
   "source": [
    "Get the phases..."
   ]
  },
  {
   "cell_type": "code",
   "execution_count": null,
   "id": "efbdac02-59e7-4b7d-b50d-5ac09e2ce147",
   "metadata": {},
   "outputs": [],
   "source": [
    "x_grid = np.linspace(0, 100, 1000)\n",
    "phases = _get_1d_phase_fractions(x_grid).T"
   ]
  },
  {
   "cell_type": "markdown",
   "id": "9d1a4f79-4b5b-4dc4-9f0b-09fd0d185716",
   "metadata": {},
   "source": [
    "Resolve by the experiment iteration..."
   ]
  },
  {
   "cell_type": "code",
   "execution_count": null,
   "id": "932e40e7-f23a-4e4f-8516-5a853a870e89",
   "metadata": {},
   "outputs": [],
   "source": [
    "all_results_Adam_n_resolved = [all_results_Adam[:, :nn].flatten() for nn in range(3, all_results_Adam.shape[1] + 1)]"
   ]
  },
  {
   "cell_type": "code",
   "execution_count": null,
   "id": "bf95efbc-37a6-4e8e-80cb-694ba531774e",
   "metadata": {},
   "outputs": [],
   "source": [
    "all_results_Adam_n_resolved_coordinates = []\n",
    "for ii, res in enumerate(all_results_Adam_n_resolved):\n",
    "    n = len(res)\n",
    "    coords = (np.ones(shape=(n,)) * ii).astype(int)\n",
    "    arr = np.array([res, coords]).T\n",
    "    all_results_Adam_n_resolved_coordinates.append(arr)\n",
    "all_results_Adam_n_resolved_coordinates = np.concatenate(all_results_Adam_n_resolved_coordinates, axis=0)\n",
    "all_results_Adam_n_resolved_coordinates[:, 1] += 3"
   ]
  },
  {
   "cell_type": "code",
   "execution_count": null,
   "id": "38a5c248-0790-4a34-82d7-784b61362c99",
   "metadata": {},
   "outputs": [],
   "source": [
    "vmax = 1500"
   ]
  },
  {
   "cell_type": "code",
   "execution_count": null,
   "id": "4a93568c-4183-40cd-9a40-d20f34bafff3",
   "metadata": {},
   "outputs": [],
   "source": [
    "fig, axs = plt.subplots(2, 1, figsize=(3, 3), gridspec_kw={'height_ratios':[1, 2]}, sharex=True)\n",
    "\n",
    "ax = axs[0]\n",
    "ax.plot(x_grid, phases[:, 0], label=\"1\")\n",
    "ax.plot(x_grid, phases[:, 1], label=\"2\")\n",
    "ax.plot(x_grid, phases[:, 2], label=\"3\")\n",
    "ax.plot(x_grid, phases[:, 3], label=\"4\")\n",
    "axlims = ax.get_ylim()\n",
    "ax.text(1.05, 1.0, \"Phase\", ha=\"left\", va=\"bottom\", transform=ax.transAxes)\n",
    "ax.text(0.025, 0.9, \"(a)\", ha=\"left\", va=\"top\", transform=ax.transAxes)\n",
    "ax.legend(frameon=False, bbox_to_anchor=(1.0, 0.5), loc=\"center left\")\n",
    "\n",
    "ax.fill_betweenx(np.linspace(*axlims, 10), 10, 50, color=\"black\", alpha=0.1, linewidth=0)\n",
    "ax.fill_betweenx(np.linspace(*axlims, 10), 60, 80, color=\"black\", alpha=0.1, linewidth=0)\n",
    "ax.fill_betweenx(np.linspace(*axlims, 10), 88.5, 91.5, color=\"black\", alpha=0.1, linewidth=0)\n",
    "\n",
    "utils.set_grids(ax)\n",
    "ax.set_ylabel(\"$p(x)$\")\n",
    "ax.set_ylim(*axlims)\n",
    "\n",
    "ax = axs[1]\n",
    "ax.hist2d(all_results_Adam_n_resolved_coordinates[:, 0], all_results_Adam_n_resolved_coordinates[:, 1], bins=[100, 247], cmap=\"viridis\", vmax=vmax, rasterized=True)\n",
    "ax.set_yticks([3, 50, 150, 250])\n",
    "ax.set_xticks([0, 20, 40, 60, 80, 100])\n",
    "utils.set_grids(ax)\n",
    "ax.tick_params(which=\"minor\", left=False, right=False)\n",
    "ax.set_ylabel(r\"$N$\")\n",
    "ax.set_xlabel(\"$x$~[a.u.]\")\n",
    "ax.text(0.025, 0.9, \"(b)\", ha=\"left\", va=\"top\", transform=ax.transAxes, color=\"white\")\n",
    "\n",
    "# plt.savefig(\"figures_xrd1dim/xrd1dim_subfigure_a.svg\", dpi=300, bbox_inches=\"tight\")\n",
    "plt.show()"
   ]
  },
  {
   "cell_type": "markdown",
   "id": "b5cbe80b-1c84-461c-8aa7-c3d5cd62b491",
   "metadata": {},
   "source": [
    "### Subfigure (a) colorbar"
   ]
  },
  {
   "cell_type": "code",
   "execution_count": null,
   "id": "3dafb5ea-fbdd-4172-b69c-1d22a188bd84",
   "metadata": {},
   "outputs": [],
   "source": [
    "fig, ax = plt.subplots(1, 1, figsize=(2, 2), sharex=True, sharey=True)\n",
    "\n",
    "im = ax.hist2d(all_results_Adam_n_resolved_coordinates[:, 0], all_results_Adam_n_resolved_coordinates[:, 1], bins=[150, 247], cmap=\"viridis\", vmax=vmax)\n",
    "\n",
    "cbar = utils.add_colorbar(im[-1], aspect=20)\n",
    "cbar.set_ticks([0, vmax])\n",
    "cbar.set_ticklabels([0, f\"$\\geq$ %i\" % int(vmax / 300)])\n",
    "cbar.set_label(r\"Average Counts\", labelpad=-10)\n",
    "\n",
    "ax.remove()\n",
    "\n",
    "# plt.savefig(\"figures_xrd1dim/xrd1dim_cbar.svg\", dpi=300, bbox_inches=\"tight\")\n",
    "plt.show()"
   ]
  },
  {
   "cell_type": "markdown",
   "id": "a1115843-0696-4840-9597-c22087f1d050",
   "metadata": {},
   "source": [
    "### Subfigure (c): select metrics"
   ]
  },
  {
   "cell_type": "markdown",
   "id": "9f00c9cc-eb25-4d33-8c89-135236e859e6",
   "metadata": {},
   "source": [
    "The metrics for this part take a long time to calculate, so we cache them."
   ]
  },
  {
   "cell_type": "code",
   "execution_count": null,
   "id": "eee6cdac-e9f4-4466-8e19-66f4eaea7e46",
   "metadata": {},
   "outputs": [],
   "source": [
    "acquisition_function_name_maps = {\n",
    "    \"Linear\": \"LTB\",\n",
    "    \"UpperConfidenceBound10\": \"UCB(10)\",\n",
    "    \"ExpectedImprovement\": \"EI\",\n",
    "    \"UpperConfidenceBound1\": \"UCB(1)\",\n",
    "    \"UpperConfidenceBound20\": \"UCB(20)\",\n",
    "    \"UpperConfidenceBound100\": \"UCB(100)\"\n",
    "}"
   ]
  },
  {
   "cell_type": "code",
   "execution_count": null,
   "id": "5cad0121-600a-496d-8583-841b1a69e990",
   "metadata": {},
   "outputs": [],
   "source": [
    "metrics_grid = list(range(3, 251, 10))\n",
    "linspace_points = 10000"
   ]
  },
  {
   "cell_type": "code",
   "execution_count": null,
   "id": "f2916149-c90d-4f8c-80ff-0fb0d1f10d94",
   "metadata": {},
   "outputs": [],
   "source": [
    "path = cache / \"xrd1dim_all.pkl\"\n",
    "if not path.exists():\n",
    "    print(\"Recalculating...\")\n",
    "    _m = xrd1dim_compute_metrics_all_acquisition_functions_and_LTB(\n",
    "        results_by_acqf_Adam,\n",
    "        metrics_grid=metrics_grid,\n",
    "        metrics_grid_linear=metrics_grid,\n",
    "        metric=\"mse\",\n",
    "        grid_points=linspace_points,\n",
    "        disable_pbar=False,\n",
    "        xmin=0.0,\n",
    "        xmax=100.0,\n",
    "    )\n",
    "    all_metrics = _m[\"metrics\"]\n",
    "    pickle.dump(all_metrics, open(path, \"wb\"), protocol=pickle.HIGHEST_PROTOCOL)\n",
    "else:\n",
    "    all_metrics = pickle.load(open(path, \"rb\"))"
   ]
  },
  {
   "cell_type": "code",
   "execution_count": null,
   "id": "442ceaf2-ce3f-48bb-b12a-8a8d449ca329",
   "metadata": {},
   "outputs": [],
   "source": [
    "only_plot = [\"LTB\", \"EI\", \"UCB(10)\"]"
   ]
  },
  {
   "cell_type": "code",
   "execution_count": null,
   "id": "79b0a549-fed0-4233-aa01-783356b20cd1",
   "metadata": {},
   "outputs": [],
   "source": [
    "fig, ax = plt.subplots(1, 1, figsize=(2, 3))\n",
    "\n",
    "for acquisition_function_name in acquisition_function_name_maps.keys():\n",
    "    values = all_metrics[acquisition_function_name]\n",
    "    label = acquisition_function_name_maps[acquisition_function_name]\n",
    "    if only_plot is None or label in only_plot:\n",
    "        v = np.log(values)\n",
    "        mu = np.nanmean(v, axis=1)\n",
    "        sd = np.nanstd(v, axis=1) * 2\n",
    "        ax.plot(metrics_grid, mu, label=label if label != \"LTB\" else \"Grid\")\n",
    "        ax.fill_between(metrics_grid, mu - sd, mu + sd, linewidth=0, alpha=0.3)\n",
    "\n",
    "utils.set_grids(ax)\n",
    "ax.tick_params(which=\"minor\", bottom=False, top=False)\n",
    "ax.set_xticks([3, 50, 150, 250])\n",
    "\n",
    "ax.legend(frameon=False, loc=\"upper right\")\n",
    "# ax.text(0.1, 0.05, r\"$\\mu \\pm \\sigma / 3$\", ha=\"left\", va=\"bottom\", transform=ax.transAxes)\n",
    "ax.text(0.1, 0.95, r\"(c)\", ha=\"left\", va=\"top\", transform=ax.transAxes)\n",
    "\n",
    "# ax.set_yscale(\"log\")\n",
    "yticks = np.array([-2, -5, -8, -11, -14])\n",
    "ax.set_yticks((yticks).tolist())\n",
    "ax.set_yticklabels([f\"${ii}$\" for ii in yticks])\n",
    "# ax.set_ylim(10**-5.3, 10**-0.7)\n",
    "ax.tick_params(axis='y', which='minor', left=True, right=True)\n",
    "\n",
    "ax.set_xlabel(r\"$N$\")\n",
    "ax.set_ylabel(r\"$\\ln$(MSE)\")\n",
    "\n",
    "# plt.savefig(\"figures_xrd1dim/xrd1dim_subfigure_c.svg\", dpi=300, bbox_inches=\"tight\")\n",
    "plt.show()"
   ]
  },
  {
   "cell_type": "markdown",
   "id": "39ee004a-222d-411d-85ce-d1726b62fa6a",
   "metadata": {},
   "source": [
    "## Supplemental"
   ]
  },
  {
   "cell_type": "markdown",
   "id": "6bd84a7e-ff89-4028-bb8b-212021aac2f4",
   "metadata": {},
   "source": [
    "### Bayes clustering"
   ]
  },
  {
   "cell_type": "code",
   "execution_count": null,
   "id": "1dbb4f61-b9ba-4a52-8683-8636ce1cbc0c",
   "metadata": {
    "tags": []
   },
   "outputs": [],
   "source": [
    "max_queries = 250\n",
    "grid_points = 10000\n",
    "N_exp = 10"
   ]
  },
  {
   "cell_type": "code",
   "execution_count": null,
   "id": "889898a4-f2b4-4c68-a269-7c45bef54bdb",
   "metadata": {
    "tags": []
   },
   "outputs": [],
   "source": [
    "np.random.seed(123)\n",
    "\n",
    "with warnings.catch_warnings():\n",
    "    warnings.simplefilter(\"ignore\")\n",
    "\n",
    "    for k_clusters in [3, 4, 5]:\n",
    "        metrics_grid = list(range(k_clusters, max_queries + 1, 10))\n",
    "        all_metrics[f\"Bayesian_{k_clusters}\"] = []\n",
    "\n",
    "        for exp in tqdm(range(N_exp)):\n",
    "            k_means = KMeans(k_clusters, n_init=\"auto\")\n",
    "            clf = LogisticRegression()\n",
    "            x = list(np.linspace(0, 100, k_clusters))\n",
    "            y = truth_xrd1dim(np.array(x))  # This won't take single items, so we feed it the entire array each time???\n",
    "\n",
    "            for _ in range(k_clusters + 1, max_queries + 1):\n",
    "                labels = k_means.fit_predict(y)\n",
    "                clf.fit(np.array(x).reshape(-1, 1), labels)\n",
    "                linspace = np.linspace(0, 100, 1000).reshape(-1, 1)\n",
    "                proby = clf.predict_proba(linspace)\n",
    "                shannon = np.sum(proby * np.log(1 / proby), axis=-1)\n",
    "                max_entropy_loc = float(linspace[np.argmax(shannon)])\n",
    "\n",
    "                x.append(max_entropy_loc)\n",
    "                y = truth_xrd1dim(np.array(x))\n",
    "\n",
    "            _metrics = []\n",
    "            for N in metrics_grid:\n",
    "                res = residual_1d_phase_mse(\n",
    "                    np.array(x)[:N].reshape(-1, 1),\n",
    "                    linspace_points=grid_points,\n",
    "                    use_only=None,\n",
    "                )\n",
    "                _metrics.append(res)\n",
    "            all_metrics[f\"Bayesian_{k_clusters}\"].append(_metrics)\n",
    "\n",
    "for k_clusters in [3, 4, 5]:\n",
    "    all_metrics[f\"Bayesian_{k_clusters}\"] = np.array(all_metrics[f\"Bayesian_{k_clusters}\"])"
   ]
  },
  {
   "cell_type": "code",
   "execution_count": null,
   "id": "6424d938-6d29-490e-a0e5-deaf90a33075",
   "metadata": {
    "tags": []
   },
   "outputs": [],
   "source": [
    "metric_grids_bayesian = []\n",
    "for k_clusters in [3, 4, 5]:\n",
    "    metric_grids_bayesian.append(list(range(k_clusters, max_queries + 1, 10)))"
   ]
  },
  {
   "cell_type": "code",
   "execution_count": null,
   "id": "0c982850-5dba-4f4a-8d21-030d24f9d27c",
   "metadata": {
    "tags": []
   },
   "outputs": [],
   "source": [
    "fig, ax = plt.subplots(1, 1, figsize=(2, 3))\n",
    "\n",
    "for acquisition_function_name in acquisition_function_name_maps.keys():\n",
    "    values = all_metrics[acquisition_function_name]\n",
    "    label = acquisition_function_name_maps[acquisition_function_name]\n",
    "    if only_plot is None or label in only_plot:\n",
    "        v = np.log(values)\n",
    "        mu = np.nanmean(v, axis=1)\n",
    "        sd = np.nanstd(v, axis=1) * 2\n",
    "        ax.plot(metrics_grid, mu, label=label if label != \"LTB\" else \"Grid\")\n",
    "        ax.fill_between(metrics_grid, mu - sd, mu + sd, linewidth=0, alpha=0.3)\n",
    "\n",
    "\n",
    "acquisition_function_name_maps_bayesian = {\n",
    "    f\"Bayesian_{k_clusters}\": f\"Bayesian_{k_clusters}_clusters\" for k_clusters in [3, 4, 5]\n",
    "}\n",
    "for ii, acquisition_function_name in enumerate(acquisition_function_name_maps_bayesian.keys()):\n",
    "    values = all_metrics[acquisition_function_name]\n",
    "    label = acquisition_function_name_maps_bayesian[acquisition_function_name]\n",
    "    mu = np.nanmean(np.log(values), axis=0)\n",
    "    sd = np.nanstd(np.log(values), axis=0) * 2\n",
    "    ax.plot(metric_grids_bayesian[ii], mu, label=label.replace(\"_\", \" \"))\n",
    "    ax.fill_between(metric_grids_bayesian[ii], mu - sd, mu + sd, linewidth=0, alpha=0.3)\n",
    "\n",
    "\n",
    "utils.set_grids(ax)\n",
    "ax.tick_params(which=\"minor\", bottom=False, top=False)\n",
    "ax.set_xticks([3, 50, 150, 250])\n",
    "\n",
    "ax.legend(frameon=False, loc=\"center left\", bbox_to_anchor=(1, 0.5))\n",
    "# ax.text(0.1, 0.05, r\"$\\mu \\pm \\sigma / 3$\", ha=\"left\", va=\"bottom\", transform=ax.transAxes)\n",
    "# ax.text(0.1, 0.95, r\"(c)\", ha=\"left\", va=\"top\", transform=ax.transAxes)\n",
    "\n",
    "# ax.set_yscale(\"log\")\n",
    "yticks = np.array([-2, -5, -8, -11, -14])\n",
    "ax.set_yticks((yticks).tolist())\n",
    "ax.set_yticklabels([f\"${ii}$\" for ii in yticks])\n",
    "# ax.set_ylim(10**-5.3, 10**-0.7)\n",
    "ax.tick_params(axis='y', which='minor', left=True, right=True)\n",
    "\n",
    "ax.set_xlabel(r\"$N$\")\n",
    "ax.set_ylabel(r\"$\\ln$(MSE)\")\n",
    "\n",
    "# plt.savefig(\"figures_xrd1dim/SI_xrd1dim_Bayesian.svg\", dpi=300, bbox_inches=\"tight\")\n",
    "plt.show()"
   ]
  },
  {
   "cell_type": "markdown",
   "id": "2214e075-ef20-47c9-abb2-56ba12262656",
   "metadata": {},
   "source": [
    "### Average value of the GP modeling SVF"
   ]
  },
  {
   "cell_type": "code",
   "execution_count": null,
   "id": "d68f649b-590b-4099-8a95-fc89bee719ff",
   "metadata": {},
   "outputs": [],
   "source": [
    "x_grid = np.linspace(0, 100, 1000)\n",
    "phases = _get_1d_phase_fractions(x_grid).T"
   ]
  },
  {
   "cell_type": "code",
   "execution_count": null,
   "id": "7f1c8356-e64c-4cf5-90a6-02eb5499e60d",
   "metadata": {
    "tags": []
   },
   "outputs": [],
   "source": [
    "from sva.experiments import Experiment, Data\n",
    "from sva.value import default_asymmetric_value_function\n",
    "from sva.truth.xrd1dim import truth_xrd1dim"
   ]
  },
  {
   "cell_type": "markdown",
   "id": "48f7b83a-f7eb-49a5-bcaf-568fa53546bb",
   "metadata": {},
   "source": [
    "EI"
   ]
  },
  {
   "cell_type": "code",
   "execution_count": null,
   "id": "90cc9b05-239d-4208-9c59-4e8bffa44ee3",
   "metadata": {
    "tags": []
   },
   "outputs": [],
   "source": [
    "data = Data.from_initial_conditions(\n",
    "    truth=truth_xrd1dim,\n",
    "    value=default_asymmetric_value_function,\n",
    "    seed=124,\n",
    "    how=\"random\",\n",
    "    xmin=0.0,\n",
    "    xmax=100.0,\n",
    "    ndim=1,\n",
    "    value_kwargs={\"sd\": None, \"multiplier\": 1.0},\n",
    ")\n",
    "experiment_EI = Experiment(\n",
    "    data=data,\n",
    "    acqf_signature=\"botorch.acquisition:ExpectedImprovement\",\n",
    "    acqf_kwargs={},\n",
    ")\n",
    "experiment_EI.run(max_n_dat=250, pbar=True, record_gp_every=1, points_per_dimension_full_grid=100, fit_with_Adam=True)"
   ]
  },
  {
   "cell_type": "markdown",
   "id": "873f60c0-652d-4eb3-83c6-f76fb2a462fc",
   "metadata": {},
   "source": [
    "UCB(1)"
   ]
  },
  {
   "cell_type": "code",
   "execution_count": null,
   "id": "cb1b880f-4eb0-456e-bbd9-6fb1994a954d",
   "metadata": {
    "tags": []
   },
   "outputs": [],
   "source": [
    "data = Data.from_initial_conditions(\n",
    "    truth=truth_xrd1dim,\n",
    "    value=default_asymmetric_value_function,\n",
    "    seed=124,\n",
    "    how=\"random\",\n",
    "    xmin=0.0,\n",
    "    xmax=100.0,\n",
    "    ndim=1,\n",
    "    value_kwargs={\"sd\": None, \"multiplier\": 1.0},\n",
    ")\n",
    "experiment_UCB1 = Experiment(\n",
    "    data=data,\n",
    "    acqf_signature=\"botorch.acquisition:UpperConfidenceBound\",\n",
    "    acqf_kwargs={\"beta\": 1.0},\n",
    ")\n",
    "experiment_UCB1.run(max_n_dat=250, pbar=True, record_gp_every=1, points_per_dimension_full_grid=100, fit_with_Adam=True)"
   ]
  },
  {
   "cell_type": "markdown",
   "id": "99a92a3e-57c2-4469-983f-38327ae8d6e2",
   "metadata": {},
   "source": [
    "UCB(10)"
   ]
  },
  {
   "cell_type": "code",
   "execution_count": null,
   "id": "2eeb2225-e181-419f-b5e7-93c4a51c33f1",
   "metadata": {
    "tags": []
   },
   "outputs": [],
   "source": [
    "data = Data.from_initial_conditions(\n",
    "    truth=truth_xrd1dim,\n",
    "    value=default_asymmetric_value_function,\n",
    "    seed=124,\n",
    "    how=\"random\",\n",
    "    xmin=0.0,\n",
    "    xmax=100.0,\n",
    "    ndim=1,\n",
    "    value_kwargs={\"sd\": None, \"multiplier\": 1.0},\n",
    ")\n",
    "experiment_UCB10 = Experiment(\n",
    "    data=data,\n",
    "    acqf_signature=\"botorch.acquisition:UpperConfidenceBound\",\n",
    "    acqf_kwargs={\"beta\": 10.0},\n",
    ")\n",
    "experiment_UCB10.run(max_n_dat=250, pbar=True, record_gp_every=1, points_per_dimension_full_grid=100, fit_with_Adam=True)"
   ]
  },
  {
   "cell_type": "markdown",
   "id": "924b1d05-d5dc-4da2-9fd0-18f896e5f5f2",
   "metadata": {},
   "source": [
    "UCB(20)"
   ]
  },
  {
   "cell_type": "code",
   "execution_count": null,
   "id": "53f84325-5cce-473f-b833-f75042f1258d",
   "metadata": {
    "tags": []
   },
   "outputs": [],
   "source": [
    "data = Data.from_initial_conditions(\n",
    "    truth=truth_xrd1dim,\n",
    "    value=default_asymmetric_value_function,\n",
    "    seed=124,\n",
    "    how=\"random\",\n",
    "    xmin=0.0,\n",
    "    xmax=100.0,\n",
    "    ndim=1,\n",
    "    value_kwargs={\"sd\": None, \"multiplier\": 1.0},\n",
    ")\n",
    "experiment_UCB20 = Experiment(\n",
    "    data=data,\n",
    "    acqf_signature=\"botorch.acquisition:UpperConfidenceBound\",\n",
    "    acqf_kwargs={\"beta\": 20.0},\n",
    ")\n",
    "experiment_UCB20.run(max_n_dat=250, pbar=True, record_gp_every=1, points_per_dimension_full_grid=100, fit_with_Adam=True)"
   ]
  },
  {
   "cell_type": "markdown",
   "id": "094c31cd-7bef-49a3-b495-19f5e0fb601e",
   "metadata": {},
   "source": [
    "UCB(100)"
   ]
  },
  {
   "cell_type": "code",
   "execution_count": null,
   "id": "fa6879a2-5a38-4fab-b46c-d9593a3ca762",
   "metadata": {
    "tags": []
   },
   "outputs": [],
   "source": [
    "data = Data.from_initial_conditions(\n",
    "    truth=truth_xrd1dim,\n",
    "    value=default_asymmetric_value_function,\n",
    "    seed=124,\n",
    "    how=\"random\",\n",
    "    xmin=0.0,\n",
    "    xmax=100.0,\n",
    "    ndim=1,\n",
    "    value_kwargs={\"sd\": None, \"multiplier\": 1.0},\n",
    ")\n",
    "experiment_UCB100 = Experiment(\n",
    "    data=data,\n",
    "    acqf_signature=\"botorch.acquisition:UpperConfidenceBound\",\n",
    "    acqf_kwargs={\"beta\": 100.0},\n",
    ")\n",
    "experiment_UCB100.run(max_n_dat=250, pbar=True, record_gp_every=1, points_per_dimension_full_grid=100, fit_with_Adam=True)"
   ]
  },
  {
   "cell_type": "markdown",
   "id": "20b86455-5c00-4711-af09-3e21dc730af0",
   "metadata": {},
   "source": [
    "Random"
   ]
  },
  {
   "cell_type": "code",
   "execution_count": null,
   "id": "c80adb4d-1448-4159-bee1-1841e4cd6af0",
   "metadata": {
    "tags": []
   },
   "outputs": [],
   "source": [
    "data = Data.from_initial_conditions(\n",
    "    truth=truth_xrd1dim,\n",
    "    value=default_asymmetric_value_function,\n",
    "    seed=124,\n",
    "    how=\"random\",\n",
    "    xmin=0.0,\n",
    "    xmax=100.0,\n",
    "    ndim=1,\n",
    "    value_kwargs={\"sd\": None, \"multiplier\": 1.0},\n",
    ")\n",
    "experiment_random = Experiment(\n",
    "    data=data,\n",
    "    acqf_signature=\"random\",\n",
    ")\n",
    "experiment_random.run(max_n_dat=250, pbar=True, record_gp_every=1, points_per_dimension_full_grid=100, fit_with_Adam=True)"
   ]
  },
  {
   "cell_type": "markdown",
   "id": "7ca836df-bdfc-403c-adbf-31beb65b9d83",
   "metadata": {},
   "source": [
    "Plot everything"
   ]
  },
  {
   "cell_type": "code",
   "execution_count": null,
   "id": "6b6e3055-12c6-48c2-abac-a9b3ad5a9d6d",
   "metadata": {
    "tags": []
   },
   "outputs": [],
   "source": [
    "extent = (-0.1, 100.1, 247, 3)\n",
    "\n",
    "fig, axs = plt.subplots(7, 1, figsize=(4, 8), gridspec_kw={'height_ratios':[1] + [1.75] * 6}, sharex=True)\n",
    "\n",
    "ax = axs[0]\n",
    "ax.plot(x_grid, phases[:, 0], label=\"1\")\n",
    "ax.plot(x_grid, phases[:, 1], label=\"2\")\n",
    "ax.plot(x_grid, phases[:, 2], label=\"3\")\n",
    "ax.plot(x_grid, phases[:, 3], label=\"4\")\n",
    "ax.set_ylabel(r\"$p(x)$\")\n",
    "# axlims = ax.get_ylim()\n",
    "# ax.text(1.05, 1.0, \"Phase\", ha=\"left\", va=\"bottom\", transform=ax.transAxes)\n",
    "# ax.text(0.025, 0.9, \"(a)\", ha=\"left\", va=\"top\", transform=ax.transAxes)\n",
    "# ax.legend(frameon=False, bbox_to_anchor=(1.0, 0.5), loc=\"center left\")\n",
    "\n",
    "\n",
    "ax = axs[1]\n",
    "svf = np.array([v[\"mu\"] for v in experiment_EI._record])\n",
    "svf = svf[::-1, :]\n",
    "svf = svf / svf.max(axis=1, keepdims=True)\n",
    "\n",
    "ax.imshow(svf, cmap=\"viridis\", rasterized=True, aspect=\"auto\", extent=extent)\n",
    "ytick_labels = np.array([3, 50, 150, 249])\n",
    "ax.set_yticks(ytick_labels - 3)\n",
    "ax.set_yticklabels(ytick_labels[::-1])\n",
    "ax.set_xticks(np.array([0, 20, 40, 60, 80, 100]))\n",
    "ax.text(0.05, 0.9, \"EI\", ha=\"left\", va=\"top\", transform=ax.transAxes, color=\"white\")\n",
    "\n",
    "ax = axs[2]\n",
    "svf = np.array([v[\"mu\"] for v in experiment_UCB1._record])\n",
    "svf = svf[::-1, :]\n",
    "svf = svf / svf.max(axis=1, keepdims=True)\n",
    "\n",
    "ax.imshow(svf, cmap=\"viridis\", rasterized=True, aspect=\"auto\", extent=extent)\n",
    "ytick_labels = np.array([3, 50, 150, 249])\n",
    "ax.set_yticks(ytick_labels - 3)\n",
    "ax.set_yticklabels(ytick_labels[::-1])\n",
    "ax.set_xticks(np.array([0, 20, 40, 60, 80, 100]))\n",
    "ax.text(0.05, 0.9, \"UCB(1)\", ha=\"left\", va=\"top\", transform=ax.transAxes, color=\"white\")\n",
    "\n",
    "ax = axs[3]\n",
    "svf = np.array([v[\"mu\"] for v in experiment_UCB10._record])\n",
    "svf = svf[::-1, :]\n",
    "svf = svf / svf.max(axis=1, keepdims=True)\n",
    "\n",
    "ax.imshow(svf, cmap=\"viridis\", rasterized=True, aspect=\"auto\", extent=extent)\n",
    "ytick_labels = np.array([3, 50, 150, 249])\n",
    "ax.set_yticks(ytick_labels - 3)\n",
    "ax.set_yticklabels(ytick_labels[::-1])\n",
    "ax.set_xticks(np.array([0, 20, 40, 60, 80, 100]))\n",
    "ax.text(0.05, 0.9, \"UCB(10)\", ha=\"left\", va=\"top\", transform=ax.transAxes, color=\"white\")\n",
    "\n",
    "ax = axs[4]\n",
    "svf = np.array([v[\"mu\"] for v in experiment_UCB20._record])\n",
    "svf = svf[::-1, :]\n",
    "svf = svf / svf.max(axis=1, keepdims=True)\n",
    "\n",
    "ax.imshow(svf, cmap=\"viridis\", rasterized=True, aspect=\"auto\", extent=extent)\n",
    "ytick_labels = np.array([3, 50, 150, 249])\n",
    "ax.set_yticks(ytick_labels - 3)\n",
    "ax.set_yticklabels(ytick_labels[::-1])\n",
    "ax.set_xticks(np.array([0, 20, 40, 60, 80, 100]))\n",
    "ax.text(0.05, 0.9, \"UCB(20)\", ha=\"left\", va=\"top\", transform=ax.transAxes, color=\"white\")\n",
    "\n",
    "ax = axs[5]\n",
    "svf = np.array([v[\"mu\"] for v in experiment_UCB100._record])\n",
    "svf = svf[::-1, :]\n",
    "svf = svf / svf.max(axis=1, keepdims=True)\n",
    "\n",
    "ax.imshow(svf, cmap=\"viridis\", rasterized=True, aspect=\"auto\", extent=extent)\n",
    "ytick_labels = np.array([3, 50, 150, 249])\n",
    "ax.set_yticks(ytick_labels - 3)\n",
    "ax.set_yticklabels(ytick_labels[::-1])\n",
    "ax.set_xticks(np.array([0, 20, 40, 60, 80, 100]))\n",
    "ax.text(0.05, 0.9, \"UCB(100)\", ha=\"left\", va=\"top\", transform=ax.transAxes, color=\"white\")\n",
    "\n",
    "ax = axs[6]\n",
    "svf = np.array([v[\"mu\"] for v in experiment_random._record])\n",
    "svf = svf[::-1, :]\n",
    "svf = svf / svf.max(axis=1, keepdims=True)\n",
    "\n",
    "ax.imshow(svf, cmap=\"viridis\", rasterized=True, aspect=\"auto\", extent=extent)\n",
    "ytick_labels = np.array([3, 50, 150, 249])\n",
    "ax.set_yticks(ytick_labels - 3)\n",
    "ax.set_yticklabels(ytick_labels[::-1])\n",
    "ax.set_xticks(np.array([0, 20, 40, 60, 80, 100]))\n",
    "ax.text(0.05, 0.9, \"Random\", ha=\"left\", va=\"top\", transform=ax.transAxes, color=\"white\")\n",
    "ax.set_xlabel(r\"$x$~[a.u.]\")\n",
    "ax.set_ylabel(r\"$N$\")\n",
    "\n",
    "# plt.savefig(\"figures_xrd1dim/SI_xrd1dim_SVF.svg\", dpi=300, bbox_inches=\"tight\")\n",
    "plt.show()"
   ]
  },
  {
   "cell_type": "markdown",
   "id": "91a5944d-f888-4b14-9003-5bfdd17719c5",
   "metadata": {},
   "source": [
    "### Noise ablation experiment"
   ]
  },
  {
   "cell_type": "code",
   "execution_count": null,
   "id": "c5085a40-b65c-4bcd-820b-b3656dad88b3",
   "metadata": {
    "tags": []
   },
   "outputs": [],
   "source": [
    "from sva.experiments import Experiment, Data\n",
    "from sva.value import default_asymmetric_value_function\n",
    "from sva.truth.xrd1dim import truth_xrd1dim"
   ]
  },
  {
   "cell_type": "code",
   "execution_count": null,
   "id": "349924cf-66d7-4ae2-9b47-4eb740417814",
   "metadata": {
    "tags": []
   },
   "outputs": [],
   "source": [
    "experiments = []\n",
    "noise_values = [round(0.1 + ii * 0.1, 1) for ii in range(7)] + [10.0]  # 10 is a crazy noisy control"
   ]
  },
  {
   "cell_type": "markdown",
   "id": "fa9b67bd-3792-4785-9be9-04b000355c58",
   "metadata": {},
   "source": [
    "We run a noise ablation experiment, treating the observation as somewhat random _every time_ the truth function is called. This mimics irreducible noise during experiment."
   ]
  },
  {
   "cell_type": "code",
   "execution_count": null,
   "id": "9b0db310-7fd3-4127-a872-71b511c30adc",
   "metadata": {
    "tags": []
   },
   "outputs": [],
   "source": [
    "for noise in noise_values:\n",
    "\n",
    "    data = Data.from_initial_conditions(\n",
    "        truth=truth_xrd1dim,\n",
    "        value=default_asymmetric_value_function,\n",
    "        seed=124,\n",
    "        how=\"random\",\n",
    "        xmin=0.0,\n",
    "        xmax=100.0,\n",
    "        ndim=1,\n",
    "        value_kwargs={\"sd\": None, \"multiplier\": 1.0},\n",
    "        truth_kwargs={\"noise\": noise, \"noise_seed\": None},\n",
    "    )\n",
    "\n",
    "    e = Experiment(\n",
    "        data=data,\n",
    "        acqf_signature=\"botorch.acquisition:ExpectedImprovement\",\n",
    "        acqf_kwargs={},\n",
    "    )\n",
    "\n",
    "    e.run(max_n_dat=50, pbar=True, record_gp_every=1, points_per_dimension_full_grid=100, fit_with_Adam=True)\n",
    "\n",
    "    experiments.append(e)"
   ]
  },
  {
   "cell_type": "code",
   "execution_count": null,
   "id": "3a730588-c076-41a2-aed6-b3fe8815668d",
   "metadata": {
    "tags": []
   },
   "outputs": [],
   "source": [
    "x_grid = np.linspace(0, 100, 1000)\n",
    "phases = _get_1d_phase_fractions(x_grid).T\n",
    "Q_grid = np.linspace(0, 9, 1000)"
   ]
  },
  {
   "cell_type": "code",
   "execution_count": null,
   "id": "58fbed80-e733-4e0a-acf1-9ca8b8d6ecbd",
   "metadata": {
    "tags": []
   },
   "outputs": [],
   "source": [
    "extent = (-0.1, 100.1, 47, 0)\n",
    "\n",
    "fig, axs = plt.subplots(\n",
    "    len(experiments[:-1]) + 1, 2,\n",
    "    figsize=(7, 8),\n",
    "    gridspec_kw={'height_ratios':[1] + [1.75] * len(experiments[:-1])}\n",
    ")\n",
    "\n",
    "ax = axs[0, 0]\n",
    "ax.plot(x_grid, phases[:, 0], label=\"1\")\n",
    "ax.plot(x_grid, phases[:, 1], label=\"2\")\n",
    "ax.plot(x_grid, phases[:, 2], label=\"3\")\n",
    "ax.plot(x_grid, phases[:, 3], label=\"4\")\n",
    "ax.set_ylabel(r\"$p(x)$\")\n",
    "ax.set_xticks([])\n",
    "axs[0, 1].set_xticks([])\n",
    "ax.set_xlim(0, 100)\n",
    "\n",
    "for ii, (exp, noise) in enumerate(zip(experiments[:-1], noise_values)):\n",
    "    ax = axs[ii + 1, 0]\n",
    "    svf = np.array([v[\"mu\"] for v in exp._record])\n",
    "    svf = svf[::-1, :]\n",
    "    svf = svf / svf.max(axis=1, keepdims=True)\n",
    "\n",
    "    ax.imshow(svf, cmap=\"viridis\", rasterized=True, aspect=\"auto\", extent=extent)\n",
    "    ytick_labels = np.array([3, 50])\n",
    "    ax.set_yticks(ytick_labels - 3)\n",
    "    ax.set_yticklabels(ytick_labels[::-1])\n",
    "    ax.set_xticks(np.array([0, 20, 40, 60, 80, 100]))\n",
    "    \n",
    "    if ii != len(experiments) - 2:\n",
    "        ax.set_xticks([])\n",
    "    \n",
    "\n",
    "    \n",
    "for ii, (exp, noise) in enumerate(zip(experiments[:-1], noise_values)):\n",
    "    ax = axs[ii + 1, 1]\n",
    "    ax.text(1.04, 0.5, r\"$\\sigma=%.01f$\" % noise, ha=\"left\", va=\"center\", transform=ax.transAxes, color=\"black\", rotation=90)\n",
    "    x = np.linspace(0, 100, 100)\n",
    "    noisy_truth = truth_xrd1dim(x, noise=noise, noise_seed=None)\n",
    "    \n",
    "    if ii == 0:\n",
    "        label1 = r\"$x=88$\"\n",
    "        label2 = r\"$x=92$\"\n",
    "    else:\n",
    "        label1 = 0\n",
    "        label2 = 0\n",
    "    ax.plot(Q_grid, noisy_truth[88, :], label=label1)\n",
    "    ax.plot(Q_grid, noisy_truth[92, :], label=label2)\n",
    "    if ii == 0:\n",
    "        ax.legend(frameon=False, fontsize=8)\n",
    "    \n",
    "    if ii != len(experiments) - 2:\n",
    "        ax.set_xticks([])\n",
    "    else:\n",
    "        ax.set_xticks([0, 9])\n",
    "        ax.set_xlabel(r\"$Q$~[\\AA$^{-1}$]\")\n",
    "\n",
    "    \n",
    "axs[4, 0].set_ylabel(r\"$N$\")\n",
    "axs[4, 1].set_ylabel(r\"$I(Q)$~[a.u.]\")\n",
    "axs[-1, 0].set_xlabel(r\"$x$~[a.u.]\")\n",
    "\n",
    "axs[0, 1].set_axis_off()\n",
    "\n",
    "plt.subplots_adjust(wspace=0.3)\n",
    "\n",
    "# plt.savefig(\"figures_xrd1dim/SI_xrd1dim_noise_ablation.pdf\", dpi=300, bbox_inches=\"tight\")\n",
    "plt.show()"
   ]
  },
  {
   "cell_type": "markdown",
   "id": "fedc687b-d924-4a8c-859c-5be5e4b8e121",
   "metadata": {},
   "source": [
    "### Noisy observations"
   ]
  },
  {
   "cell_type": "code",
   "execution_count": null,
   "id": "461010bd-f1f9-475e-be16-df811c64b31b",
   "metadata": {
    "tags": []
   },
   "outputs": [],
   "source": [
    "noise_values = [0.1, 0.2, 0.3, 0.4, 0.5, 0.6, 0.7]\n",
    "Q_grid = np.linspace(0, 9, 1000)\n",
    "\n",
    "fig, axs = plt.subplots(len(noise_values), 1, figsize=(3, len(noise_values)), sharex=True, sharey=True)\n",
    "\n",
    "\n",
    "for ii, (noise, ax) in enumerate(zip(noise_values, axs)):\n",
    "    phases = _get_1d_phase_data(noise=noise, noise_seed=124)\n",
    "    ax.plot(Q_grid, phases[0, :], label=\"Phase 1\")\n",
    "    ax.plot(Q_grid, phases[1, :], label=\"Phase 2\")\n",
    "    ax.plot(Q_grid, phases[2, :], label=\"Phase 3\")\n",
    "    ax.plot(Q_grid, phases[3, :], label=\"Phase 4\")\n",
    "    utils.set_grids(ax)\n",
    "    if ii == 0:\n",
    "        ax.legend(frameon=False, fontsize=6)\n",
    "    ax.text(0.5, 0.9, r\"$\\sigma=%.01f$\" % noise, ha=\"center\", va=\"top\", transform=ax.transAxes)\n",
    "    \n",
    "    \n",
    "axs[len(noise_values) // 2].set_ylabel(r\"$I(Q)$~[a.u.]\")\n",
    "\n",
    "axs[-1].set_xticks([0, 9])\n",
    "axs[-1].set_xlabel(r\"$Q$~[\\AA$^{-1}$]\")\n",
    "\n",
    "# plt.savefig(\"figures_xrd1dim/SI_xrd1dim_noisy_phases.pdf\", dpi=300, bbox_inches=\"tight\")\n",
    "plt.show()"
   ]
  },
  {
   "cell_type": "markdown",
   "id": "abd46dc3-78c1-4463-aabf-c2b958a8d8f2",
   "metadata": {},
   "source": [
    "### Sigma=0.1 (S1)"
   ]
  },
  {
   "cell_type": "code",
   "execution_count": null,
   "id": "cdd6096e-5520-4ba4-837d-33d8c7243605",
   "metadata": {
    "tags": []
   },
   "outputs": [],
   "source": [
    "phases = _get_1d_phase_data()\n",
    "Q_grid = np.linspace(0, 9, 1000)"
   ]
  },
  {
   "cell_type": "code",
   "execution_count": null,
   "id": "2b55417a-5d2d-468b-94cd-8287821f91b8",
   "metadata": {
    "tags": []
   },
   "outputs": [],
   "source": [
    "fig, ax = plt.subplots(1, 1, figsize=(3, 1))\n",
    "\n",
    "for ii in range(4):\n",
    "    ax.plot(Q_grid, phases[ii, :], label=f\"Phase {ii+1}\")\n",
    "ax.legend(frameon=False, fontsize=6)\n",
    "ax.set_xticks([0, 9])\n",
    "\n",
    "ax.set_xlabel(r\"$Q$~[\\AA$^{-1}$]\")\n",
    "ax.set_ylabel(r\"$I(Q)$~[a.u.]\")\n",
    "\n",
    "# plt.savefig(\"figures_xrd1dim/SI_xrd1dim_pure_phases_xrd_patterns.pdf\", dpi=300, bbox_inches=\"tight\")\n",
    "plt.show()"
   ]
  },
  {
   "cell_type": "markdown",
   "id": "09af9575-1b60-401f-ba43-e6fcd5edc7ef",
   "metadata": {
    "tags": []
   },
   "source": [
    "### Compare Adam and LGBFS"
   ]
  },
  {
   "cell_type": "code",
   "execution_count": null,
   "id": "48c7f4e3-2a41-4439-b416-07ff8bb0a3a8",
   "metadata": {
    "tags": []
   },
   "outputs": [],
   "source": [
    "results_LGBFS = read_data(\"../legacy/Legacy_Figures_v2/results/results_22-12-21_xrd1dim\")"
   ]
  },
  {
   "cell_type": "code",
   "execution_count": null,
   "id": "3dcaf227-7c8b-4c54-9f86-309a249896ca",
   "metadata": {
    "tags": []
   },
   "outputs": [],
   "source": [
    "results_by_acqf_LGBFS = parse_results_by_acquisition_function(results_LGBFS)"
   ]
  },
  {
   "cell_type": "code",
   "execution_count": null,
   "id": "b9a8a479-3cff-4e5b-b6ce-5b5913caa095",
   "metadata": {},
   "outputs": [],
   "source": [
    "acquisition_function_name_maps = {\n",
    "    \"ExpectedImprovement\": \"EI\",\n",
    "    \"UpperConfidenceBound1\": \"UCB(1)\",\n",
    "    \"UpperConfidenceBound10\": \"UCB(10)\",\n",
    "    \"UpperConfidenceBound20\": \"UCB(20)\",\n",
    "    \"UpperConfidenceBound100\": \"UCB(100)\"\n",
    "}"
   ]
  },
  {
   "cell_type": "code",
   "execution_count": null,
   "id": "7ac37154-d1b1-46bd-a2fa-06d2feec72c4",
   "metadata": {},
   "outputs": [],
   "source": [
    "bins = 50\n",
    "\n",
    "fig, axs = plt.subplots(2, len(acquisition_function_name_maps), figsize=(7, 2), sharex=True)\n",
    "\n",
    "for ii, (key, value) in enumerate(acquisition_function_name_maps.items()):\n",
    "\n",
    "    all_results_LGBFS = np.array([xx.data.X.squeeze() for xx in results_by_acqf_LGBFS[key]])\n",
    "    all_results_Adam = np.array([xx.data.X.squeeze() for xx in results_by_acqf_Adam[key]])\n",
    "\n",
    "    ax = axs[0, ii]\n",
    "    ax.hist(all_results_LGBFS.flatten(), bins=bins)\n",
    "    ax.set_title(value)\n",
    "    \n",
    "    ax = axs[1, ii]\n",
    "    ax.hist(all_results_Adam.flatten(), bins=bins)\n",
    "\n",
    "for ax in axs.flatten():\n",
    "    utils.set_grids(ax)\n",
    "    ax.set_yticks([])\n",
    "    \n",
    "axs[0, -1].text(1.1, 0.5, \"LGBFS\", ha=\"left\", va=\"center\", transform=axs[0, -1].transAxes, rotation=90)\n",
    "axs[1, -1].text(1.1, 0.5, \"Adam\", ha=\"left\", va=\"center\", transform=axs[1, -1].transAxes, rotation=90)\n",
    "\n",
    "ax = fig.add_subplot(111, frameon=False)\n",
    "# hide tick and tick label of the big axes\n",
    "plt.tick_params(labelcolor='none', top='off', bottom='off', left='off', right='off')\n",
    "ax.set_xticks([])\n",
    "ax.set_yticks([])\n",
    "# Use `labelpad=...` for padding when using ax.set_xlabel(...)\n",
    "# or ax.set_ylabel(...)\n",
    "ax.set_ylabel(\"Counts\")\n",
    "ax.set_xlabel(r\"$x$~[a.u.]\", labelpad=12)\n",
    "\n",
    "plt.subplots_adjust(hspace=0.05, wspace=0.15)\n",
    "\n",
    "# plt.savefig(\"SI_xrd1d_compare_Adam_LGBFS.pdf\", dpi=300, bbox_inches=\"tight\")\n",
    "plt.show()"
   ]
  },
  {
   "cell_type": "markdown",
   "id": "eb243700-7f89-4e0f-ad91-6e440547f80a",
   "metadata": {},
   "source": [
    "### Phase-resolve metrics"
   ]
  },
  {
   "cell_type": "code",
   "execution_count": null,
   "id": "eaf02e3c-5855-4bb4-b634-9d797e798ba8",
   "metadata": {},
   "outputs": [],
   "source": [
    "acquisition_function_name_maps = {\n",
    "    \"Linear\": \"Grid\",\n",
    "    \"ExpectedImprovement\": \"EI\",\n",
    "    \"UpperConfidenceBound1\": \"UCB(1)\",\n",
    "    \"UpperConfidenceBound10\": \"UCB(10)\",\n",
    "    \"UpperConfidenceBound20\": \"UCB(20)\",\n",
    "    \"UpperConfidenceBound100\": \"UCB(100)\"\n",
    "}"
   ]
  },
  {
   "cell_type": "code",
   "execution_count": null,
   "id": "552ec1f2-cfba-4604-b214-3761f12b6bc3",
   "metadata": {},
   "outputs": [],
   "source": [
    "metrics_grid = list(range(3, 251, 10))\n",
    "linspace_points = 10000"
   ]
  },
  {
   "cell_type": "code",
   "execution_count": null,
   "id": "a01e2f8f-c0af-4b29-84a8-bc0263af2a48",
   "metadata": {},
   "outputs": [],
   "source": [
    "path = cache / \"xrd1dim_linear.pkl\"\n",
    "if not path.exists():\n",
    "    print(\"Recalculating...\")\n",
    "    _m = xrd1dim_compute_metrics_all_acquisition_functions_and_LTB(\n",
    "        results_by_acqf_Adam,\n",
    "        metrics_grid=metrics_grid,\n",
    "        metrics_grid_linear=metrics_grid,\n",
    "        metric=\"mse\",\n",
    "        grid_points=linspace_points,\n",
    "        disable_pbar=False,\n",
    "        xmin=9.0,\n",
    "        xmax=51.0,\n",
    "    )\n",
    "    all_metrics_linear = _m[\"metrics\"]\n",
    "    pickle.dump(all_metrics_linear, open(path, \"wb\"), protocol=pickle.HIGHEST_PROTOCOL)\n",
    "else:\n",
    "    all_metrics_linear = pickle.load(open(path, \"rb\"))"
   ]
  },
  {
   "cell_type": "code",
   "execution_count": null,
   "id": "b84428e2-d15c-41d3-9c29-0ae9f17568e6",
   "metadata": {},
   "outputs": [],
   "source": [
    "path = cache / \"xrd1dim_quad.pkl\"\n",
    "if not path.exists():\n",
    "    print(\"Recalculating...\")\n",
    "    _m = xrd1dim_compute_metrics_all_acquisition_functions_and_LTB(\n",
    "        results_by_acqf_Adam,\n",
    "        metrics_grid=metrics_grid,\n",
    "        metrics_grid_linear=metrics_grid,\n",
    "        metric=\"mse\",\n",
    "        grid_points=linspace_points,\n",
    "        disable_pbar=False,\n",
    "        xmin=59.0,\n",
    "        xmax=81.0,\n",
    "    )\n",
    "    all_metrics_quad = _m[\"metrics\"]\n",
    "    pickle.dump(all_metrics_quad, open(path, \"wb\"), protocol=pickle.HIGHEST_PROTOCOL)\n",
    "else:\n",
    "    all_metrics_quad = pickle.load(open(path, \"rb\"))"
   ]
  },
  {
   "cell_type": "code",
   "execution_count": null,
   "id": "5c6276d5-517a-4fad-a8ef-7ca8cc96ca43",
   "metadata": {},
   "outputs": [],
   "source": [
    "path = cache / \"xrd1dim_sharp.pkl\"\n",
    "if not path.exists():\n",
    "    print(\"Recalculating...\")\n",
    "    _m = xrd1dim_compute_metrics_all_acquisition_functions_and_LTB(\n",
    "        results_by_acqf_Adam,\n",
    "        metrics_grid=metrics_grid,\n",
    "        metrics_grid_linear=metrics_grid,\n",
    "        metric=\"mse\",\n",
    "        grid_points=linspace_points,\n",
    "        disable_pbar=False,\n",
    "        xmin=88.0,\n",
    "        xmax=92.0,\n",
    "    )\n",
    "    all_metrics_sharp = _m[\"metrics\"]\n",
    "    pickle.dump(all_metrics_sharp, open(path, \"wb\"), protocol=pickle.HIGHEST_PROTOCOL)\n",
    "else:\n",
    "    all_metrics_sharp = pickle.load(open(path, \"rb\"))"
   ]
  },
  {
   "cell_type": "code",
   "execution_count": null,
   "id": "eae877ed-1b65-4694-9197-1b17cfeda0f7",
   "metadata": {},
   "outputs": [],
   "source": [
    "only_plot = [\"Grid\", \"EI\", \"UCB(1)\", \"UCB(10)\", \"UCB(20)\", \"UCB(100)\"]"
   ]
  },
  {
   "cell_type": "code",
   "execution_count": null,
   "id": "5a32513a-d450-445a-bd79-3145af1579f7",
   "metadata": {},
   "outputs": [],
   "source": [
    "fig, axs = plt.subplots(1, 3, figsize=(6, 3), sharex=True, sharey=True)\n",
    "\n",
    "for ii, all_metrics in enumerate([all_metrics_linear, all_metrics_quad, all_metrics_sharp]):\n",
    "    ax = axs[ii]\n",
    "    utils.set_grids(ax)\n",
    "    ax.tick_params(which=\"minor\", bottom=False, top=False)\n",
    "    ax.set_xticks([3, 50, 150, 250])\n",
    "\n",
    "    for acquisition_function_name in acquisition_function_name_maps.keys():\n",
    "        values = all_metrics[acquisition_function_name]\n",
    "        label = acquisition_function_name_maps[acquisition_function_name]\n",
    "        if only_plot is None or label in only_plot:\n",
    "            v = np.log(values)\n",
    "            mu = np.nanmean(v, axis=1)\n",
    "            sd = np.nanstd(v, axis=1) * 2\n",
    "            ax.plot(metrics_grid, mu, label=label)\n",
    "            ax.fill_between(metrics_grid, mu - sd, mu + sd, linewidth=0, alpha=0.3)\n",
    "\n",
    "axs[2].legend(frameon=False, bbox_to_anchor=(1, 0.5), loc=\"center left\")\n",
    "# axs[0].text(0.5, 0.95, r\"$\\mu \\pm 2\\sigma$\", ha=\"center\", va=\"top\", transform=axs[0].transAxes)\n",
    "\n",
    "axs[0].text(0.05, 0.05, r\"(a)\", ha=\"left\", va=\"bottom\", transform=axs[0].transAxes)\n",
    "axs[1].text(0.05, 0.05, r\"(b)\", ha=\"left\", va=\"bottom\", transform=axs[1].transAxes)\n",
    "axs[2].text(0.05, 0.05, r\"(c)\", ha=\"left\", va=\"bottom\", transform=axs[2].transAxes)\n",
    "\n",
    "axs[0].set_title(\"linear\")\n",
    "axs[1].set_title(\"quadratic\")\n",
    "axs[2].set_title(\"sharp\")\n",
    "\n",
    "axs[1].set_xlabel(r\"$N$\")\n",
    "axs[0].set_ylabel(r\"$\\ln$(MSE)\")\n",
    "\n",
    "# plt.savefig(\"figures_xrd1dim/SI_xrd1dim_phase_resolved_metric.pdf\", dpi=300, bbox_inches=\"tight\")\n",
    "plt.show()"
   ]
  },
  {
   "cell_type": "markdown",
   "id": "fc519d2f-2b60-494b-a511-6c68ed6777a7",
   "metadata": {},
   "source": [
    "### Hist"
   ]
  },
  {
   "cell_type": "code",
   "execution_count": null,
   "id": "6c684720-c764-4db7-9be9-958be91469e2",
   "metadata": {},
   "outputs": [],
   "source": [
    "acquisition_function_name_maps = {\n",
    "    \"ExpectedImprovement\": \"EI\",\n",
    "    \"UpperConfidenceBound1\": \"UCB(1)\",\n",
    "    \"UpperConfidenceBound10\": \"UCB(10)\",\n",
    "    \"UpperConfidenceBound20\": \"UCB(20)\",\n",
    "    \"UpperConfidenceBound100\": \"UCB(100)\"\n",
    "}"
   ]
  },
  {
   "cell_type": "code",
   "execution_count": null,
   "id": "9238f181-a9c2-44c0-abaf-a6b424db37b7",
   "metadata": {
    "tags": []
   },
   "outputs": [],
   "source": [
    "all_points = dict()\n",
    "for acquisition_function_name, values in results_by_acqf_Adam.items():\n",
    "    tmp_metrics = [exp.data.X for exp in values]\n",
    "    all_points[acquisition_function_name] = np.array(tmp_metrics)"
   ]
  },
  {
   "cell_type": "code",
   "execution_count": null,
   "id": "4bf81d42-d876-44ef-a078-0fab689b62d0",
   "metadata": {
    "tags": []
   },
   "outputs": [],
   "source": [
    "x_grid = np.linspace(0, 100, 1000)\n",
    "phases = _get_1d_phase_fractions(x_grid).T"
   ]
  },
  {
   "cell_type": "code",
   "execution_count": null,
   "id": "d265e138-1a11-4cd7-a45a-08419b6aa165",
   "metadata": {
    "tags": []
   },
   "outputs": [],
   "source": [
    "L = len(acquisition_function_name_maps) + 1\n",
    "\n",
    "fig, axs = plt.subplots(L, 1, figsize=(3, L), sharex=True, sharey=False)\n",
    "\n",
    "\n",
    "ax = axs[0]\n",
    "ax.plot(x_grid, phases[:, 0], label=\"1\")\n",
    "ax.plot(x_grid, phases[:, 1], label=\"2\")\n",
    "ax.plot(x_grid, phases[:, 2], label=\"3\")\n",
    "ax.plot(x_grid, phases[:, 3], label=\"4\")\n",
    "axlims = ax.get_ylim()\n",
    "# ax.legend(frameon=False, bbox_to_anchor=(1.0, 0.5), loc=\"center left\")\n",
    "\n",
    "ax.fill_betweenx(np.linspace(*axlims, 10), 10, 50, color=\"black\", alpha=0.1, linewidth=0)\n",
    "ax.fill_betweenx(np.linspace(*axlims, 10), 60, 80, color=\"black\", alpha=0.1, linewidth=0)\n",
    "ax.fill_betweenx(np.linspace(*axlims, 10), 88.5, 91.5, color=\"black\", alpha=0.1, linewidth=0)\n",
    "\n",
    "utils.set_grids(ax)\n",
    "ax.set_ylabel(\"$p(x)$\")\n",
    "ax.set_ylim(*axlims)\n",
    "\n",
    "for ii, acquisition_function_name in enumerate(acquisition_function_name_maps.keys()):\n",
    "    \n",
    "    ax = axs[ii + 1]\n",
    "    \n",
    "    value = all_points[acquisition_function_name].squeeze()\n",
    "    all_results_Adam_n_resolved = [value[:, :nn].flatten() for nn in range(3, value.shape[1] + 1)]\n",
    "    \n",
    "    all_results_Adam_n_resolved_coordinates = []\n",
    "    for ii, res in enumerate(all_results_Adam_n_resolved):\n",
    "        n = len(res)\n",
    "        coords = (np.ones(shape=(n,)) * ii).astype(int)\n",
    "        arr = np.array([res, coords]).T\n",
    "        all_results_Adam_n_resolved_coordinates.append(arr)\n",
    "    all_results_Adam_n_resolved_coordinates = np.concatenate(all_results_Adam_n_resolved_coordinates, axis=0)\n",
    "    all_results_Adam_n_resolved_coordinates[:, 1] += 3\n",
    "    \n",
    "    label = acquisition_function_name_maps[acquisition_function_name]\n",
    "    \n",
    "    ax.hist2d(\n",
    "        all_results_Adam_n_resolved_coordinates[:, 0],\n",
    "        all_results_Adam_n_resolved_coordinates[:, 1],\n",
    "        bins=[100, 247], cmap=\"viridis\", vmax=vmax, rasterized=True\n",
    "    )\n",
    "    \n",
    "    utils.set_grids(ax)\n",
    "    ax.set_yticks([3, 100, 250])\n",
    "    ax.text(1.05, 0.5, label, ha=\"left\", va=\"center\", transform=ax.transAxes, rotation=90)\n",
    "    \n",
    "\n",
    "axs[5].set_xlabel(\"$x$~[a.u.]\")\n",
    "axs[3].set_ylabel(r\"$N$\")\n",
    "axs[0].text(0.025, 0.5, \"(a)\", ha=\"left\", va=\"center\", transform=axs[0].transAxes)\n",
    "axs[1].text(0.025, 0.5, \"(b)\", ha=\"left\", va=\"center\", transform=axs[1].transAxes, color=\"white\")\n",
    "axs[2].text(0.025, 0.5, \"(c)\", ha=\"left\", va=\"center\", transform=axs[2].transAxes, color=\"white\")\n",
    "axs[3].text(0.025, 0.5, \"(d)\", ha=\"left\", va=\"center\", transform=axs[3].transAxes, color=\"white\")\n",
    "axs[4].text(0.025, 0.5, \"(e)\", ha=\"left\", va=\"center\", transform=axs[4].transAxes, color=\"white\")\n",
    "axs[5].text(0.025, 0.5, \"(f)\", ha=\"left\", va=\"center\", transform=axs[5].transAxes, color=\"white\")\n",
    "\n",
    "\n",
    "\n",
    "plt.subplots_adjust(hspace=0.4, wspace=0.03)\n",
    "\n",
    "# plt.savefig(\"SI_xrd1d_hist.pdf\", dpi=300, bbox_inches=\"tight\")\n",
    "plt.show()"
   ]
  },
  {
   "cell_type": "markdown",
   "id": "01f22774-81e3-4921-950a-66cdfa800fe4",
   "metadata": {},
   "source": [
    "### Length scales"
   ]
  },
  {
   "cell_type": "code",
   "execution_count": null,
   "id": "feb0d17d-c8f7-4797-9c5c-bdb947ef8b1d",
   "metadata": {},
   "outputs": [],
   "source": [
    "acquisition_function_name_maps = {\n",
    "    \"ExpectedImprovement\": \"EI\",\n",
    "    \"UpperConfidenceBound1\": \"UCB(1)\",\n",
    "    \"UpperConfidenceBound10\": \"UCB(10)\",\n",
    "    \"UpperConfidenceBound20\": \"UCB(20)\",\n",
    "    \"UpperConfidenceBound100\": \"UCB(100)\"\n",
    "}"
   ]
  },
  {
   "cell_type": "code",
   "execution_count": null,
   "id": "0208d11a-1731-4b7b-b360-45548c55a1c1",
   "metadata": {},
   "outputs": [],
   "source": [
    "all_points = dict()\n",
    "for acquisition_function_name, values in results_by_acqf_Adam.items():\n",
    "    tmp_metrics = [exp.data.X for exp in values]\n",
    "    all_points[acquisition_function_name] = np.array(tmp_metrics)"
   ]
  },
  {
   "cell_type": "code",
   "execution_count": null,
   "id": "a6f247bb-6577-429d-b451-3ea9a662b613",
   "metadata": {},
   "outputs": [],
   "source": [
    "n_grid = list(range(3, 251))"
   ]
  },
  {
   "cell_type": "code",
   "execution_count": null,
   "id": "6919b8a8-9ffd-4e35-8df1-b559714024ef",
   "metadata": {},
   "outputs": [],
   "source": [
    "all_length_scales = dict()\n",
    "for acquisition_function_name, values in all_points.items():\n",
    "    tmp_jj = []\n",
    "    \n",
    "    # jj is the experiment index\n",
    "    for jj in tqdm(range(300)):\n",
    "        \n",
    "        tmp_jj_ii = []\n",
    "    \n",
    "        ## ii is the n-points index\n",
    "        for ii in n_grid:\n",
    "\n",
    "            p = values.squeeze()[jj, :ii].reshape(-1, 1)\n",
    "            X_dist = distance_matrix(p, p)\n",
    "            distance = X_dist.copy()\n",
    "            distance[distance == 0.0] = np.inf\n",
    "            sd = distance.min(axis=1).mean()\n",
    "            tmp_jj_ii.append(sd)\n",
    "        tmp_jj.append(tmp_jj_ii)\n",
    "    all_length_scales[acquisition_function_name] = np.array(tmp_jj)"
   ]
  },
  {
   "cell_type": "code",
   "execution_count": null,
   "id": "5f2cf4db-8f82-4cab-bc82-31809ddce2f6",
   "metadata": {},
   "outputs": [],
   "source": [
    "fig, ax = plt.subplots(1, 1, figsize=(2, 1.5))\n",
    "\n",
    "for acquisition_function_name, _ in acquisition_function_name_maps.items():\n",
    "    values = all_length_scales[acquisition_function_name]\n",
    "    mu = values.mean(axis=0)\n",
    "    sd = values.std(axis=0)\n",
    "    p = np.polyfit(np.log10(n_grid)[20:], np.log10(mu)[20:], deg=1)\n",
    "    ax.plot(n_grid, mu, label=acquisition_function_name_maps[acquisition_function_name])\n",
    "    ax.fill_between(n_grid, mu - sd, mu + sd, alpha=0.2)\n",
    "\n",
    "    # ax.plot(n_grid, 10**(p[1]) * n_grid**p[0], \"k--\")\n",
    "\n",
    "ax.set_yscale('log')\n",
    "ax.set_xscale('log')\n",
    "ax.set_ylabel(r\"$\\langle l \\rangle$\")\n",
    "ax.set_xlabel(r\"$N$\")\n",
    "\n",
    "utils.set_grids(ax)\n",
    "# ax.text(0.1, 0.1, \"(a) XRD1dim\", ha=\"left\", va=\"bottom\", transform=ax.transAxes)\n",
    "\n",
    "ax.legend(frameon=False, bbox_to_anchor=(1.05, 0.5), loc=\"center left\")\n",
    "\n",
    "# plt.savefig(\"figures_xrd1dim/SI_xrd1dim_sigma_with_N.pdf\", bbox_inches=\"tight\", dpi=300)\n",
    "plt.show()"
   ]
  },
  {
   "cell_type": "code",
   "execution_count": null,
   "id": "308747b6-9fd2-47ee-9970-ce71b9a9aeec",
   "metadata": {},
   "outputs": [],
   "source": []
  }
 ],
 "metadata": {
  "kernelspec": {
   "display_name": "Python 3 (ipykernel)",
   "language": "python",
   "name": "python3"
  },
  "language_info": {
   "codemirror_mode": {
    "name": "ipython",
    "version": 3
   },
   "file_extension": ".py",
   "mimetype": "text/x-python",
   "name": "python",
   "nbconvert_exporter": "python",
   "pygments_lexer": "ipython3",
   "version": "3.9.16"
  }
 },
 "nbformat": 4,
 "nbformat_minor": 5
}
