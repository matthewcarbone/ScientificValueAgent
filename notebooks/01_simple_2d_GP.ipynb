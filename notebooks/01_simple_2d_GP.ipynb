{
 "cells": [
  {
   "cell_type": "code",
   "execution_count": null,
   "id": "e571f209-db40-493c-a035-901ae1fd3227",
   "metadata": {},
   "outputs": [],
   "source": [
    "%load_ext autoreload\n",
    "%autoreload 2\n",
    "%config Completer.use_jedi = False"
   ]
  },
  {
   "cell_type": "code",
   "execution_count": null,
   "id": "aa91026d-9a8e-4435-8f2f-b81b9190d46b",
   "metadata": {},
   "outputs": [],
   "source": [
    "import numpy as np\n",
    "import matplotlib.pyplot as plt\n",
    "import matplotlib as mpl\n",
    "import torch"
   ]
  },
  {
   "cell_type": "code",
   "execution_count": null,
   "id": "18e32e86-8fc9-4f4e-8aa3-283ed87763cf",
   "metadata": {},
   "outputs": [],
   "source": [
    "mpl.rcParams['mathtext.fontset'] = 'stix'\n",
    "mpl.rcParams['font.family'] = 'STIXGeneral'\n",
    "mpl.rcParams['text.usetex'] = False\n",
    "plt.rc('xtick', labelsize=12)\n",
    "plt.rc('ytick', labelsize=12)\n",
    "plt.rc('axes', labelsize=12)\n",
    "mpl.rcParams['figure.dpi'] = 300"
   ]
  },
  {
   "cell_type": "code",
   "execution_count": null,
   "id": "7a1f6053-640b-4cdb-9e4e-82ec87ee4bd1",
   "metadata": {},
   "outputs": [],
   "source": [
    "import sys\n",
    "sys.path.append(\"..\")"
   ]
  },
  {
   "cell_type": "code",
   "execution_count": null,
   "id": "0f97685c-3980-4e41-8ced-5db4592bdf08",
   "metadata": {},
   "outputs": [],
   "source": [
    "# Import the various experiments we need for the notebook\n",
    "from sva.experiments import Simple2d\n",
    "\n",
    "# Import the helper functions for Gaussian Processes\n",
    "from sva.models.gp import EasySingleTaskGP"
   ]
  },
  {
   "cell_type": "markdown",
   "id": "56f9eb37-bca5-4832-8c4a-de60b3c3275e",
   "metadata": {},
   "source": [
    "# A simple 2d example"
   ]
  },
  {
   "cell_type": "code",
   "execution_count": null,
   "id": "addfd9f2-9c94-4a78-8447-4e067ee27339",
   "metadata": {},
   "outputs": [],
   "source": [
    "experiment = Simple2d()\n",
    "experiment.initialize_data(n=35, protocol=\"random\", seed=123)\n",
    "extent = experiment.get_experimental_domain_mpl_extent()\n",
    "X = experiment.data.X"
   ]
  },
  {
   "cell_type": "code",
   "execution_count": null,
   "id": "b6e7455c-1660-4c34-b8be-7c88da1902ca",
   "metadata": {},
   "outputs": [],
   "source": [
    "# Get the ground truth results\n",
    "x = experiment.get_dense_coordinates(ppd=100)\n",
    "y = experiment(x)"
   ]
  },
  {
   "cell_type": "code",
   "execution_count": null,
   "id": "0bdf5f15-9164-448f-8756-cc236deb8543",
   "metadata": {},
   "outputs": [],
   "source": [
    "# Train a GP on the current data\n",
    "gp = EasySingleTaskGP.from_default(X, experiment(X))\n",
    "gp.fit_mll()\n",
    "mu, var = gp.predict(x)"
   ]
  },
  {
   "cell_type": "code",
   "execution_count": null,
   "id": "1466cdab-1a4c-40bd-9ff1-d23a216b2adb",
   "metadata": {},
   "outputs": [],
   "source": [
    "fig, axs = plt.subplots(1, 3, figsize=(6, 3), sharex=True, sharey=True)\n",
    "\n",
    "ax = axs[0]\n",
    "ax.imshow(y.reshape(100, 100).T, extent=extent, interpolation='nearest', origin='lower')\n",
    "ax.scatter(X[:, 0], X[:, 1], color=\"black\", s=0.5)\n",
    "ax.set_title(\"Ground Truth\")\n",
    "\n",
    "\n",
    "ax = axs[1]\n",
    "ax.imshow(mu.reshape(100, 100).T, extent=extent, interpolation='nearest', origin='lower')\n",
    "ax.scatter(X[:, 0], X[:, 1], color=\"black\", s=0.5)\n",
    "ax.set_title(\"GP Prediction\")\n",
    "\n",
    "\n",
    "ax = axs[2]\n",
    "ax.imshow(mu.reshape(100, 100).T - y.reshape(100, 100).T, extent=extent, interpolation='nearest', origin='lower', cmap=\"RdBu\")\n",
    "ax.scatter(X[:, 0], X[:, 1], color=\"black\", s=0.5)\n",
    "ax.set_title(\"Delta\")\n",
    "\n",
    "plt.show()"
   ]
  }
 ],
 "metadata": {
  "kernelspec": {
   "display_name": "Python 3 (ipykernel)",
   "language": "python",
   "name": "python3"
  },
  "language_info": {
   "codemirror_mode": {
    "name": "ipython",
    "version": 3
   },
   "file_extension": ".py",
   "mimetype": "text/x-python",
   "name": "python",
   "nbconvert_exporter": "python",
   "pygments_lexer": "ipython3",
   "version": "3.11.6"
  }
 },
 "nbformat": 4,
 "nbformat_minor": 5
}
