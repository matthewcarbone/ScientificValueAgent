{
 "cells": [
  {
   "cell_type": "code",
   "execution_count": null,
   "id": "e571f209-db40-493c-a035-901ae1fd3227",
   "metadata": {},
   "outputs": [],
   "source": [
    "%load_ext autoreload\n",
    "%autoreload 2\n",
    "%config Completer.use_jedi = False"
   ]
  },
  {
   "cell_type": "code",
   "execution_count": null,
   "id": "aa91026d-9a8e-4435-8f2f-b81b9190d46b",
   "metadata": {},
   "outputs": [],
   "source": [
    "import numpy as np\n",
    "import matplotlib.pyplot as plt\n",
    "import matplotlib as mpl\n",
    "import torch\n",
    "from tqdm import tqdm\n",
    "from tempfile import TemporaryDirectory\n",
    "import imageio"
   ]
  },
  {
   "cell_type": "code",
   "execution_count": null,
   "id": "18e32e86-8fc9-4f4e-8aa3-283ed87763cf",
   "metadata": {},
   "outputs": [],
   "source": [
    "mpl.rcParams['mathtext.fontset'] = 'stix'\n",
    "mpl.rcParams['font.family'] = 'STIXGeneral'\n",
    "mpl.rcParams['text.usetex'] = False\n",
    "plt.rc('xtick', labelsize=12)\n",
    "plt.rc('ytick', labelsize=12)\n",
    "plt.rc('axes', labelsize=12)\n",
    "mpl.rcParams['figure.dpi'] = 300"
   ]
  },
  {
   "cell_type": "code",
   "execution_count": null,
   "id": "7a1f6053-640b-4cdb-9e4e-82ec87ee4bd1",
   "metadata": {},
   "outputs": [],
   "source": [
    "import sys\n",
    "sys.path.append(\"..\")"
   ]
  },
  {
   "cell_type": "code",
   "execution_count": null,
   "id": "0f97685c-3980-4e41-8ced-5db4592bdf08",
   "metadata": {},
   "outputs": [],
   "source": [
    "# Import the various experiments we need for the notebook\n",
    "from sva.experiments import Sine2Phase\n",
    "\n",
    "# Import the helper functions for Gaussian Processes\n",
    "from sva.models.gp import EasySingleTaskGP\n",
    "\n",
    "# Import the value function\n",
    "from sva.value import SVF\n",
    "\n",
    "# Import ask utility for Bayesian Optimization\n",
    "from sva.models.gp.bo import ask"
   ]
  },
  {
   "cell_type": "markdown",
   "id": "56f9eb37-bca5-4832-8c4a-de60b3c3275e",
   "metadata": {},
   "source": [
    "# A simple 2d example"
   ]
  },
  {
   "cell_type": "code",
   "execution_count": null,
   "id": "addfd9f2-9c94-4a78-8447-4e067ee27339",
   "metadata": {},
   "outputs": [],
   "source": [
    "experiment = Sine2Phase()"
   ]
  },
  {
   "cell_type": "code",
   "execution_count": null,
   "id": "4e1e7596-37c2-4a16-aa15-d03ca3aca05d",
   "metadata": {},
   "outputs": [],
   "source": [
    "experiment.initialize_data(n=3, protocol=\"random\", seed=123)\n",
    "extent = experiment.get_experimental_domain_mpl_extent()\n",
    "X = experiment.data.X"
   ]
  },
  {
   "cell_type": "code",
   "execution_count": null,
   "id": "b6e7455c-1660-4c34-b8be-7c88da1902ca",
   "metadata": {},
   "outputs": [],
   "source": [
    "# Get the ground truth results\n",
    "x = experiment.get_dense_coordinates(ppd=100)\n",
    "y = experiment(x)"
   ]
  },
  {
   "cell_type": "code",
   "execution_count": null,
   "id": "e69ad84b-60cf-4822-a5d2-30f1dbc22c0b",
   "metadata": {},
   "outputs": [],
   "source": [
    "svf = SVF()"
   ]
  },
  {
   "cell_type": "code",
   "execution_count": null,
   "id": "97ff5dbf-3e4f-425a-a83e-1c9f4c941613",
   "metadata": {},
   "outputs": [],
   "source": [
    "value = svf(X, experiment(X)).reshape(-1, 1)"
   ]
  },
  {
   "cell_type": "code",
   "execution_count": null,
   "id": "0bdf5f15-9164-448f-8756-cc236deb8543",
   "metadata": {},
   "outputs": [],
   "source": [
    "# Train a GP on the current data\n",
    "gp = EasySingleTaskGP.from_default(X, value)\n",
    "gp.fit_mll()\n",
    "mu, var = gp.predict(x)"
   ]
  },
  {
   "cell_type": "code",
   "execution_count": null,
   "id": "1466cdab-1a4c-40bd-9ff1-d23a216b2adb",
   "metadata": {},
   "outputs": [],
   "source": [
    "fig, axs = plt.subplots(1, 1, figsize=(2, 2), sharex=True, sharey=True)\n",
    "\n",
    "ax = axs\n",
    "ax.imshow(mu.reshape(100, 100).T, extent=extent, interpolation='nearest', origin='lower')\n",
    "ax.scatter(X[:, 0], X[:, 1], color=\"black\", s=0.5)\n",
    "\n",
    "plt.show()"
   ]
  },
  {
   "cell_type": "markdown",
   "id": "441a19eb-c233-4b41-ae8b-ce31d1c78bfa",
   "metadata": {},
   "source": [
    "# Running the experiment (short version)"
   ]
  },
  {
   "cell_type": "code",
   "execution_count": null,
   "id": "f3a07d73-b5f9-4052-92f7-478f52ecde07",
   "metadata": {},
   "outputs": [],
   "source": [
    "svf = SVF()\n",
    "experiment = Sine2Phase()\n",
    "experiment.initialize_data(n=3, protocol=\"random\", seed=123)\n",
    "extent = experiment.get_experimental_domain_mpl_extent()"
   ]
  },
  {
   "cell_type": "code",
   "execution_count": null,
   "id": "d1091340-5b19-4b59-892a-a7beba440070",
   "metadata": {},
   "outputs": [],
   "source": [
    "x = experiment.get_dense_coordinates(ppd=100)\n",
    "y = experiment(x)"
   ]
  },
  {
   "cell_type": "code",
   "execution_count": null,
   "id": "06750691-33e1-49e2-ab83-618d394617cd",
   "metadata": {},
   "outputs": [],
   "source": [
    "experiment.run_gp_experiment(150, svf=svf)"
   ]
  },
  {
   "cell_type": "code",
   "execution_count": null,
   "id": "c1f9a15b-140f-4ee2-835e-93738038b824",
   "metadata": {},
   "outputs": [],
   "source": [
    "grid = np.linspace(0, 1, 100)\n",
    "b = 0.5 + 0.25 * np.sin(2.0 * np.pi * grid)"
   ]
  },
  {
   "cell_type": "code",
   "execution_count": null,
   "id": "adb88571-f2fe-4372-a819-5038871bf02a",
   "metadata": {},
   "outputs": [],
   "source": [
    "gp = experiment.data.history[-1][\"easy_gp\"]\n",
    "mu, var = gp.predict(x)\n",
    "mu = mu.reshape(100, 100).T\n",
    "mu -= mu.min()\n",
    "mu /= mu.max()\n",
    "var = var.reshape(100, 100).T\n",
    "var -= var.min()\n",
    "var /= var.max()"
   ]
  },
  {
   "cell_type": "code",
   "execution_count": null,
   "id": "920167fd-99c7-48dc-8d6f-265a35dab688",
   "metadata": {},
   "outputs": [],
   "source": [
    "fig, axs = plt.subplots(1, 1, figsize=(2, 2), sharex=True, sharey=True)\n",
    "\n",
    "ax = axs\n",
    "\n",
    "X = experiment.data.X\n",
    "im = ax.imshow(mu, extent=extent, interpolation='nearest', origin='lower')\n",
    "ax.scatter(X[:, 0], X[:, 1], color=\"red\", s=0.5, zorder=3)\n",
    "ax.plot(grid, b, linestyle=\"--\", linewidth=0.5, color=\"black\")\n",
    "\n",
    "ax.set_xticks([0, 1])\n",
    "ax.set_yticks([0, 1])\n",
    "\n",
    "ax.set_xlabel(\"$x_1$\")\n",
    "ax.set_ylabel(\"$x_2$\")\n",
    "\n",
    "plt.show()"
   ]
  },
  {
   "cell_type": "markdown",
   "id": "fa6b4fde-71e3-459f-9e4d-8a0c10dac906",
   "metadata": {},
   "source": [
    "## Let's make a GIF of the mean"
   ]
  },
  {
   "cell_type": "code",
   "execution_count": null,
   "id": "0b118e6f-28bf-44e2-8620-0cb3b4154551",
   "metadata": {},
   "outputs": [],
   "source": [
    "with TemporaryDirectory() as f:\n",
    "\n",
    "    filenames = []\n",
    "\n",
    "    for ii, datum in tqdm(enumerate(experiment.data.history)):\n",
    "\n",
    "        gp = datum[\"easy_gp\"]\n",
    "        mu, var = gp.predict(x)\n",
    "        mu = mu.reshape(100, 100).T\n",
    "        mu -= mu.min()\n",
    "        mu /= mu.max()\n",
    "    \n",
    "        fig, axs = plt.subplots(1, 1, figsize=(3, 3), sharex=True, sharey=True)\n",
    "        \n",
    "        ax = axs\n",
    "    \n",
    "        n = ii + 3\n",
    "        im = ax.imshow(mu, extent=extent, interpolation='nearest', origin='lower')\n",
    "        ax.scatter(X[:n, 0], X[:n, 1], color=\"red\", s=0.5, zorder=3)\n",
    "        ax.plot(grid, b, linestyle=\"--\", linewidth=0.5, color=\"black\")\n",
    "        \n",
    "        ax.set_xticks([0, 1])\n",
    "        ax.set_yticks([0, 1])\n",
    "        \n",
    "        ax.set_xlabel(\"$x_1$\")\n",
    "        ax.set_ylabel(\"$x_2$\")\n",
    "    \n",
    "        ax.set_title(f\"$N={n}$\")\n",
    "        \n",
    "        cbar = plt.colorbar(im, ax=ax)\n",
    "        cbar.set_ticks([0, 1])\n",
    "        cbar.set_label(r\"$\\mathcal{G}(\\mathbf{x}) \\approx U_i(D_N)$\")\n",
    "\n",
    "        filename = f'{f}/{ii}.png'\n",
    "        filenames.append(filename)\n",
    "\n",
    "        plt.savefig(filename)\n",
    "        plt.close()\n",
    "    \n",
    "    frames = []\n",
    "    for filename in filenames:\n",
    "        frames.append(imageio.imread(filename))\n",
    "        \n",
    "    exportname = \"sine2phase.gif\"\n",
    "    kwargs = { 'duration': 1.0 }\n",
    "    imageio.mimsave(exportname, frames, 'GIF', **kwargs)"
   ]
  }
 ],
 "metadata": {
  "kernelspec": {
   "display_name": "Python 3 (ipykernel)",
   "language": "python",
   "name": "python3"
  },
  "language_info": {
   "codemirror_mode": {
    "name": "ipython",
    "version": 3
   },
   "file_extension": ".py",
   "mimetype": "text/x-python",
   "name": "python",
   "nbconvert_exporter": "python",
   "pygments_lexer": "ipython3",
   "version": "3.11.6"
  }
 },
 "nbformat": 4,
 "nbformat_minor": 5
}
