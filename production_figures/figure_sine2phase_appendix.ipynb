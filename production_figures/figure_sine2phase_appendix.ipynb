{
 "cells": [
  {
   "cell_type": "code",
   "execution_count": null,
   "id": "9b0f74b9-cb13-4f43-bf4b-afe47baf145f",
   "metadata": {},
   "outputs": [],
   "source": [
    "%load_ext autoreload\n",
    "%autoreload 2\n",
    "%config Completer.use_jedi = False"
   ]
  },
  {
   "cell_type": "markdown",
   "id": "bb6d903c-d364-4598-8e03-f735f12463c6",
   "metadata": {},
   "source": [
    "Notebook local path should be at `ScientificValueAgent/production_figures`."
   ]
  },
  {
   "cell_type": "code",
   "execution_count": null,
   "id": "68d9ceee-3f21-446a-b48a-092d5bb511c9",
   "metadata": {},
   "outputs": [],
   "source": [
    "import sys\n",
    "sys.path.append(\"..\")"
   ]
  },
  {
   "cell_type": "code",
   "execution_count": null,
   "id": "e8e3981a-c176-4f5c-b0d4-2445e277bab1",
   "metadata": {},
   "outputs": [],
   "source": [
    "from itertools import product\n",
    "from pathlib import Path\n",
    "\n",
    "import matplotlib.pyplot as plt\n",
    "import matplotlib as mpl\n",
    "import numpy as np\n",
    "from tqdm import tqdm\n",
    "from scipy.spatial import distance_matrix"
   ]
  },
  {
   "cell_type": "code",
   "execution_count": null,
   "id": "8fc26b18-c721-453c-bd35-8271421cd30b",
   "metadata": {},
   "outputs": [],
   "source": [
    "from sva import utils"
   ]
  },
  {
   "cell_type": "markdown",
   "id": "48186279-79f9-46f6-ae02-9796a9296980",
   "metadata": {},
   "source": [
    "Set some plotting defaults."
   ]
  },
  {
   "cell_type": "code",
   "execution_count": null,
   "id": "599e9082-d385-48dd-b341-07a133dd0157",
   "metadata": {},
   "outputs": [],
   "source": [
    "utils.set_defaults()"
   ]
  },
  {
   "cell_type": "markdown",
   "id": "2cad6ac1-6915-4f9a-8090-a4b9871c7a81",
   "metadata": {
    "tags": []
   },
   "source": [
    "# Two-phase sine result"
   ]
  },
  {
   "cell_type": "code",
   "execution_count": null,
   "id": "cf0fc662-3a56-4bfa-a792-66204d731111",
   "metadata": {},
   "outputs": [],
   "source": [
    "from sva.postprocessing import read_data, parse_results_by_acquisition_function\n",
    "from sva.truth.sine2phase import (\n",
    "    phase_1_sine_on_2d_raster,\n",
    "    truth_sine2phase,\n",
    "    sine2phase_interpolant_2d,\n",
    "    sine2phase_compute_metrics_all_acquisition_functions_and_LTB,\n",
    "    sine2phase_residual_2d_phase_relative_mae,\n",
    "    _truth_sine2phase_a30\n",
    ")\n",
    "from sva.truth.common import limited_time_budget, get_phase_plot_info"
   ]
  },
  {
   "cell_type": "markdown",
   "id": "9e766271-cfba-4f33-8104-0ae68d9dfdff",
   "metadata": {},
   "source": [
    "Get the results. This is a few GB of raw data and thus could take a little time to load."
   ]
  },
  {
   "cell_type": "code",
   "execution_count": null,
   "id": "52607c0f-f17a-4a30-9009-69cb4f9785d1",
   "metadata": {
    "tags": []
   },
   "outputs": [],
   "source": [
    "results = read_data(\"../results/results_23-05-02-sine2phase/\")"
   ]
  },
  {
   "cell_type": "code",
   "execution_count": null,
   "id": "008c577d-5caa-4b89-b069-449c83a5878f",
   "metadata": {},
   "outputs": [],
   "source": [
    "results_by_acqf = parse_results_by_acquisition_function(results)"
   ]
  },
  {
   "cell_type": "markdown",
   "id": "4bffcfcb-fbf8-4760-bc67-53312d2ac7ea",
   "metadata": {
    "tags": []
   },
   "source": [
    "## Core manuscript figure"
   ]
  },
  {
   "cell_type": "code",
   "execution_count": null,
   "id": "0a97e3a8-e402-4229-b35d-70ec22fb7ad6",
   "metadata": {},
   "outputs": [],
   "source": [
    "x, y, Z = get_phase_plot_info(phase_1_sine_on_2d_raster)\n",
    "X, Y = np.meshgrid(x, y)\n",
    "gradZ = np.array(np.gradient(Z))\n",
    "gradZ = np.sqrt((gradZ**2).sum(axis=0))"
   ]
  },
  {
   "cell_type": "code",
   "execution_count": null,
   "id": "327735e2-bbb5-4cf8-9d07-d84a8ea0dd41",
   "metadata": {},
   "outputs": [],
   "source": [
    "extent = (x[0], x[-1], y[0], y[-1])\n",
    "scale = 1\n",
    "lw = 0.5\n",
    "\n",
    "g = np.linspace(0, 1, 200)"
   ]
  },
  {
   "cell_type": "markdown",
   "id": "1c17e853-1450-4024-9f28-efd16b80c708",
   "metadata": {},
   "source": [
    "### Subfigure (a)"
   ]
  },
  {
   "cell_type": "code",
   "execution_count": null,
   "id": "88b5ac53-ab1f-48b1-bb03-6f5c1e5121f4",
   "metadata": {},
   "outputs": [],
   "source": [
    "color=\"black\"\n",
    "\n",
    "fig, ax = plt.subplots(1, 1, figsize=(2*scale, 2*scale), sharex=True, sharey=True)\n",
    "\n",
    "im = ax.imshow(Z, interpolation='bilinear', origin='lower', cmap=mpl.cm.seismic, extent=extent, alpha=0.6)\n",
    "\n",
    "ax.text(0.05, 0.95, r\"(a)\", ha=\"left\", va=\"top\", transform=ax.transAxes, color=color)\n",
    "ax.text(0.95, 0.95, \"Phase 1\", ha=\"right\", va=\"top\", transform=ax.transAxes, color=color)\n",
    "ax.text(0.05, 0.05, \"Phase 2\", ha=\"left\", va=\"bottom\", transform=ax.transAxes, color=color)\n",
    "\n",
    "ax.set_xticks([0, 1])\n",
    "ax.set_yticks([0, 1])\n",
    "\n",
    "utils.set_grids(ax, grid=False)\n",
    "ax.set_ylabel(\"$x_2$~[a.u.]\")\n",
    "ax.set_xlabel(\"$x_1$~[a.u.]\")\n",
    "\n",
    "# plt.savefig(\"figures_sine2phase/sine2phase_subfigure_a.svg\", dpi=300, bbox_inches=\"tight\")\n",
    "plt.show()"
   ]
  },
  {
   "cell_type": "markdown",
   "id": "1c6a7fff-4d93-4fc0-a240-7fc223189b75",
   "metadata": {},
   "source": [
    "### Subfigure $p(x)$ colorbar"
   ]
  },
  {
   "cell_type": "code",
   "execution_count": null,
   "id": "dc7e31e7-f227-4ca8-a510-fc484858f79f",
   "metadata": {},
   "outputs": [],
   "source": [
    "fig, ax = plt.subplots(1, 1, figsize=(2*scale, 2*scale), sharex=True, sharey=True)\n",
    "\n",
    "im = ax.imshow(Z, interpolation='bilinear', origin='lower', cmap=mpl.cm.seismic, extent=extent, alpha=0.6)\n",
    "\n",
    "cbar = utils.add_colorbar(im, aspect=20)\n",
    "cbar.set_ticks([0, 1])\n",
    "cbar.set_label(r\"$p(\\mathbf{x})$\", labelpad=-10)\n",
    "\n",
    "ax.remove()\n",
    "\n",
    "plt.savefig(\"figures_sine2phase/sine2phase_p_cbar.svg\", dpi=300, bbox_inches=\"tight\")\n",
    "# plt.show()"
   ]
  },
  {
   "cell_type": "markdown",
   "id": "5b7ac2bf-63ee-4c01-90b6-5d9bbaff29a7",
   "metadata": {},
   "source": [
    "### Subfigure (b)"
   ]
  },
  {
   "cell_type": "code",
   "execution_count": null,
   "id": "332d7a3d-334e-499d-b845-3862a3ad3660",
   "metadata": {},
   "outputs": [],
   "source": [
    "single_result = results_by_acqf[\"UpperConfidenceBound10\"][0]\n",
    "Z = single_result._record[-1][\"mu\"].reshape(50, 50).T\n",
    "Z = Z - Z.min()\n",
    "Z = Z / Z.max()\n",
    "cmap = mpl.cm.magma"
   ]
  },
  {
   "cell_type": "code",
   "execution_count": null,
   "id": "2e8bf2a4-aa40-44c4-a40b-f1a77370eaf5",
   "metadata": {},
   "outputs": [],
   "source": [
    "fig, ax = plt.subplots(1, 1, figsize=(2*scale, 2*scale), sharex=True, sharey=True)\n",
    "\n",
    "im = ax.imshow(Z, interpolation='bilinear', origin='lower', cmap=cmap, extent=extent, alpha=0.4)\n",
    "\n",
    "sine = 0.5 + np.sin(2.0 * np.pi * g) / 4\n",
    "sine_upper = sine + 0.05\n",
    "sine_lower = sine - 0.05\n",
    "\n",
    "# ax.fill_between(g, sine_lower, sine_upper, hatch=\"|\"*10, color=None, alpha=0, linewidth=0)\n",
    "color=\"k\"\n",
    "ax.plot(g, sine, f\"{color}--\", linewidth=lw,)\n",
    "# ax.plot(g, sine_upper, f\"{color}--\", linewidth=lw)\n",
    "# ax.plot(g, sine_lower, f\"{color}--\", linewidth=lw)\n",
    "\n",
    "X = single_result.data.X\n",
    "ax.scatter(X[:, 0], X[:, 1], color=\"black\", s=0.5, zorder=3)\n",
    "\n",
    "ax.text(0.05, 0.95, r\"(b)\", ha=\"left\", va=\"top\", transform=ax.transAxes)\n",
    "\n",
    "ax.set_xticks([0, 1])\n",
    "ax.set_yticks([0, 1])\n",
    "\n",
    "utils.set_grids(ax, grid=False)\n",
    "ax.set_ylabel(\"$x_2$~[a.u.]\")\n",
    "ax.set_xlabel(\"$x_1$~[a.u.]\")\n",
    "\n",
    "# plt.savefig(\"figures_sine2phase/sine2phase_subfigure_b.svg\", dpi=300, bbox_inches=\"tight\")\n",
    "plt.show()"
   ]
  },
  {
   "cell_type": "markdown",
   "id": "8e2811d8-af80-4072-82c9-25ccf822d2a3",
   "metadata": {},
   "source": [
    "### Subfigure value colorbar"
   ]
  },
  {
   "cell_type": "code",
   "execution_count": null,
   "id": "9790d326-5a0f-4651-8ed5-3d945f15a9f4",
   "metadata": {},
   "outputs": [],
   "source": [
    "fig, ax = plt.subplots(1, 1, figsize=(2*scale, 2*scale), sharex=True, sharey=True)\n",
    "\n",
    "im = ax.imshow(Z, interpolation='bilinear', origin='lower', cmap=cmap, extent=extent, alpha=0.4)\n",
    "\n",
    "cbar = utils.add_colorbar(im, aspect=20)\n",
    "cbar.set_ticks([0, 1])\n",
    "cbar.set_label(r\"$U(\\mathbf{x})$\", labelpad=-10)\n",
    "\n",
    "ax.remove()\n",
    "\n",
    "plt.savefig(\"figures_sine2phase/sine2phase_U_cbar.svg\", dpi=300, bbox_inches=\"tight\")\n",
    "# plt.show()"
   ]
  },
  {
   "cell_type": "markdown",
   "id": "a1115843-0696-4840-9597-c22087f1d050",
   "metadata": {},
   "source": [
    "### Subfigure (c): select metrics"
   ]
  },
  {
   "cell_type": "code",
   "execution_count": null,
   "id": "eee6cdac-e9f4-4466-8e19-66f4eaea7e46",
   "metadata": {},
   "outputs": [],
   "source": [
    "acquisition_function_name_maps = {\n",
    "    \"Random\": \"Random\",\n",
    "    \"Linear\": \"LTB\",\n",
    "    \"ExpectedImprovement\": \"EI\",\n",
    "    \"UpperConfidenceBound1\": \"UCB(1)\",\n",
    "    \"UpperConfidenceBound10\": \"UCB(10)\",\n",
    "    \"UpperConfidenceBound20\": \"UCB(20)\",\n",
    "    \"UpperConfidenceBound100\": \"UCB(100)\"\n",
    "}"
   ]
  },
  {
   "cell_type": "code",
   "execution_count": null,
   "id": "c878d601-6b2e-4a43-abc0-1b3247c89edf",
   "metadata": {},
   "outputs": [],
   "source": [
    "metrics_grid = list(range(6, 251, 6)) + [250]\n",
    "metrics_grid = np.unique(metrics_grid).tolist()\n",
    "metrics_grid_linear = [ii for ii in range(2, 16)]\n",
    "grid_points = 200\n",
    "metric = \"mse\""
   ]
  },
  {
   "cell_type": "code",
   "execution_count": null,
   "id": "cdab8ff6-3b34-4fbf-8d19-0717c475fe6c",
   "metadata": {},
   "outputs": [],
   "source": [
    "all_metrics_linear = sine2phase_compute_metrics_all_acquisition_functions_and_LTB(\n",
    "    results_by_acqf,\n",
    "    metrics_grid=metrics_grid,\n",
    "    metrics_grid_linear=metrics_grid_linear,\n",
    "    metric=metric,\n",
    "    grid_points=grid_points,\n",
    "    interpolation_method=\"linear\",\n",
    "    disable_pbar=False\n",
    ")"
   ]
  },
  {
   "cell_type": "code",
   "execution_count": null,
   "id": "442ceaf2-ce3f-48bb-b12a-8a8d449ca329",
   "metadata": {},
   "outputs": [],
   "source": [
    "only_plot = [\"LTB\", \"EI\", \"UCB(10)\"]"
   ]
  },
  {
   "cell_type": "code",
   "execution_count": null,
   "id": "3da253f8-41a4-48c8-b053-50ae409e0056",
   "metadata": {},
   "outputs": [],
   "source": [
    "fig, ax = plt.subplots(1, 1, figsize=(1.5, 2))\n",
    "    \n",
    "for acquisition_function_name in acquisition_function_name_maps.keys():\n",
    "\n",
    "    values = all_metrics_linear[\"metrics\"][acquisition_function_name]\n",
    "    metrics_grid = all_metrics_linear[\"metrics_grid\"]\n",
    "    metrics_grid_linear = all_metrics_linear[\"metrics_grid_linear\"]\n",
    "    label = acquisition_function_name_maps[acquisition_function_name]\n",
    "\n",
    "    \n",
    "    if only_plot is None or label in only_plot:\n",
    "        mu = np.log(values).mean(axis=1)\n",
    "        sd = np.log(values).std(axis=1) * 2\n",
    "        label = label if label != \"LTB\" else \"Grid\"\n",
    "        if label == \"Grid\":\n",
    "            # print(metrics_grid_linear.shape)\n",
    "            ax.plot(metrics_grid_linear, mu, label=label)\n",
    "            ax.fill_between(metrics_grid_linear, mu - sd, mu + sd, linewidth=0, alpha=0.3)\n",
    "        elif label == \"Random\":\n",
    "            ax.plot(metrics_grid_linear[1:], mu[1:], label=label)\n",
    "            ax.fill_between(metrics_grid_linear[1:], mu[1:] - sd[1:], mu[1:] + sd[1:], linewidth=0, alpha=0.3)\n",
    "        else:\n",
    "            ax.plot(metrics_grid, mu, label=label)\n",
    "            ax.fill_between(metrics_grid, mu - sd, mu + sd, linewidth=0, alpha=0.3)\n",
    "\n",
    "# plt.show()\n",
    "\n",
    "utils.set_grids(ax)\n",
    "ax.tick_params(which=\"minor\", bottom=False, top=False)\n",
    "ax.set_xticks([4, 50, 150, 250])\n",
    "# ax.set_yscale('log')\n",
    "\n",
    "# yticks = np.array([-1, -2, -3])\n",
    "# ax.set_yticks((10.0**yticks).tolist())\n",
    "# ax.set_yticklabels([f\"${ii}$\" for ii in yticks])\n",
    "\n",
    "# ax.axhline(0.1, color=\"black\", linewidth=0.5, linestyle=\"--\", zorder=-1)\n",
    "\n",
    "# ax.legend(frameon=False, bbox_to_anchor=(1, 0.5), loc=\"center left\")\n",
    "ax.legend(frameon=False, loc=\"upper right\", fontsize=8)\n",
    "# ax.text(0.05, 0.05, r\"$\\mu \\pm \\sigma / 3$\", ha=\"left\", va=\"bottom\", transform=ax.transAxes)\n",
    "ax.text(0.05, 0.05, r\"(c)\", ha=\"left\", va=\"bottom\", transform=ax.transAxes)\n",
    "ax.set_ylim(top=0.5, bottom=-7.5)\n",
    "\n",
    "ax.set_xlabel(r\"$N$\")\n",
    "ax.set_ylabel(r\"$\\ln$(MSE)\")\n",
    "\n",
    "# plt.savefig(\"figures_sine2phase/sine2phase_subfigure_c.svg\", dpi=300, bbox_inches=\"tight\")\n",
    "plt.show()"
   ]
  },
  {
   "cell_type": "markdown",
   "id": "4c85e036-d4a0-49af-90d5-1ff816d0aca8",
   "metadata": {},
   "source": [
    "## Supplementary information"
   ]
  },
  {
   "cell_type": "markdown",
   "id": "aa7dbf1c-d94c-433e-8716-bfd18085b277",
   "metadata": {},
   "source": [
    "### Run a single random experiment as a control"
   ]
  },
  {
   "cell_type": "code",
   "execution_count": null,
   "id": "484a7d21-c119-48eb-a836-b809ab88ac15",
   "metadata": {
    "tags": []
   },
   "outputs": [],
   "source": [
    "from sva.experiments import Experiment, Data\n",
    "from sva.value import default_asymmetric_value_function\n",
    "from sva.truth.sine2phase import truth_sine2phase"
   ]
  },
  {
   "cell_type": "code",
   "execution_count": null,
   "id": "b59ad7fb-5f17-449e-9ab9-d17114c9c336",
   "metadata": {
    "tags": []
   },
   "outputs": [],
   "source": [
    "del data\n",
    "del random_experiment"
   ]
  },
  {
   "cell_type": "code",
   "execution_count": null,
   "id": "04264e9b-a27e-4f72-8f8f-7a6c3729d997",
   "metadata": {
    "tags": []
   },
   "outputs": [],
   "source": [
    "data = Data.from_initial_conditions(\n",
    "    truth=truth_sine2phase,\n",
    "    value=default_asymmetric_value_function,\n",
    "    seed=123,\n",
    "    how=\"random\",\n",
    "    value_kwargs={\"sd\": None, \"multiplier\": 1.0},\n",
    ")\n",
    "\n",
    "random_experiment = Experiment(\n",
    "    data=data,\n",
    "    acqf_signature=\"random\"\n",
    ")"
   ]
  },
  {
   "cell_type": "code",
   "execution_count": null,
   "id": "7aebb176-a7a5-4010-b854-5db334f5ac96",
   "metadata": {
    "tags": []
   },
   "outputs": [],
   "source": [
    "random_experiment.run(max_n_dat=250, pbar=True, record_gp_every=50, points_per_dimension_full_grid=50)"
   ]
  },
  {
   "cell_type": "markdown",
   "id": "39dd9de6-7c88-4040-a427-b6b664a27308",
   "metadata": {},
   "source": [
    "### 2d histograms and single-experiment plots"
   ]
  },
  {
   "cell_type": "code",
   "execution_count": null,
   "id": "88158667-e955-45a4-93a6-d9f94a865835",
   "metadata": {},
   "outputs": [],
   "source": [
    "acquisition_function_name_maps = {\n",
    "    \"ExpectedImprovement\": \"EI\",\n",
    "    \"UpperConfidenceBound1\": \"UCB(1)\",\n",
    "    \"UpperConfidenceBound10\": \"UCB(10)\",\n",
    "    \"UpperConfidenceBound20\": \"UCB(20)\",\n",
    "    \"UpperConfidenceBound100\": \"UCB(100)\",\n",
    "    \"Random\": \"Random\",\n",
    "}"
   ]
  },
  {
   "cell_type": "code",
   "execution_count": null,
   "id": "ff528a96-86a2-44a3-8360-662b45772edf",
   "metadata": {},
   "outputs": [],
   "source": [
    "all_points = dict()\n",
    "for acquisition_function_name, values in results_by_acqf.items():\n",
    "    tmp_metrics = [exp.data.X for exp in values]\n",
    "    all_points[acquisition_function_name] = np.array(tmp_metrics)"
   ]
  },
  {
   "cell_type": "code",
   "execution_count": null,
   "id": "ffc74d25-d5e9-4b13-be15-0525cc6d7d8e",
   "metadata": {},
   "outputs": [],
   "source": [
    "N_to_plot = [3, 50, 100, 150, 200, 249]"
   ]
  },
  {
   "cell_type": "code",
   "execution_count": null,
   "id": "09092cbb-f015-4690-af71-5104782cd90a",
   "metadata": {
    "tags": []
   },
   "outputs": [],
   "source": [
    "L1 = len(acquisition_function_name_maps)\n",
    "L2 = len(N_to_plot)\n",
    "index = 1\n",
    "cmap = mpl.cm.magma\n",
    "fig, axs = plt.subplots(L1, L2, figsize=(L2, L1), sharex=True, sharey=True)\n",
    "\n",
    "for ii, acquisition_function_name in enumerate(acquisition_function_name_maps.keys()):\n",
    "    \n",
    "    label = acquisition_function_name_maps[acquisition_function_name]\n",
    "    \n",
    "    if acquisition_function_name == \"Random\":\n",
    "        value = random_experiment.data.X\n",
    "        print(value.shape)\n",
    "        \n",
    "        for jj, N in enumerate(N_to_plot):\n",
    "            ax = axs[ii, jj]\n",
    "            X = value[:N, :]  #.reshape(-1, 2)\n",
    "\n",
    "            if N == 250:\n",
    "                N = 249\n",
    "            Z = random_experiment._record[N-3][\"mu\"].reshape(50, 50).T\n",
    "            Z = Z - Z.min()\n",
    "            Z = Z / Z.max()\n",
    "            im = ax.imshow(Z, interpolation='bilinear', origin='lower', cmap=cmap, extent=extent, alpha=0.4)\n",
    "            ax.scatter(X[:, 0], X[:, 1], s=0.1, color=\"black\")\n",
    "        \n",
    "    else:\n",
    "        value = all_points[acquisition_function_name]\n",
    "        all_results = results_by_acqf[acquisition_function_name]\n",
    "    \n",
    "        for jj, N in enumerate(N_to_plot):\n",
    "            ax = axs[ii, jj]\n",
    "            X = value[:, :N, :]  #.reshape(-1, 2)\n",
    "\n",
    "            if N == 250:\n",
    "                N = 249\n",
    "            Z = all_results[index]._record[N-3][\"mu\"].reshape(50, 50).T\n",
    "            Z = Z - Z.min()\n",
    "            Z = Z / Z.max()\n",
    "            im = ax.imshow(Z, interpolation='bilinear', origin='lower', cmap=cmap, extent=extent, alpha=0.4)\n",
    "\n",
    "            # ax.hist2d(X[:, 0], X[:, 1], bins=50, cmap=\"RdBu_r\")\n",
    "            ax.scatter(X[index, :, 0], X[index, :, 1], s=0.1, color=\"black\")\n",
    "            # ax.scatter(X[index, :3, 0], X[index, :3, 1], s=2, color=\"blue\")\n",
    "        \n",
    "\n",
    "        \n",
    "\n",
    "for jj, N in enumerate(N_to_plot):\n",
    "    ax = axs[0, jj]\n",
    "    ax.set_title(r\"$N=%i$\" % N)\n",
    "for ii, acquisition_function_name in enumerate(acquisition_function_name_maps.keys()):\n",
    "    label = acquisition_function_name_maps[acquisition_function_name]\n",
    "    ax = axs[ii, -1]\n",
    "    ax.text(1.05, 0.5, label, ha=\"left\", va=\"center\", transform=ax.transAxes, rotation=90)\n",
    "for ax in axs.flatten():\n",
    "    # ax.set_axis_off()\n",
    "    ax.set_xticks([])\n",
    "    ax.set_yticks([])\n",
    "\n",
    "ax = fig.add_subplot(111, frameon=False)\n",
    "# hide tick and tick label of the big axes\n",
    "plt.tick_params(labelcolor='none', top='off', bottom='off', left='off', right='off')\n",
    "ax.set_xticks([])\n",
    "ax.set_yticks([])\n",
    "# Use `labelpad=...` for padding when using ax.set_xlabel(...)\n",
    "ax.set_ylabel(\"$x_2$~[a.u.]\")\n",
    "ax.set_xlabel(\"$x_1$~[a.u.]\")\n",
    "\n",
    "plt.subplots_adjust(hspace=0.03, wspace=0.03)\n",
    "\n",
    "plt.savefig(\"figures_sine2phase/SI_sine2phase_single_experiment.pdf\", dpi=300, bbox_inches=\"tight\")\n",
    "# plt.show()"
   ]
  },
  {
   "cell_type": "code",
   "execution_count": null,
   "id": "49fe8ddc-4480-4cc1-adf4-b0d33e9a471b",
   "metadata": {
    "tags": []
   },
   "outputs": [],
   "source": [
    "acquisition_function_name_maps = {\n",
    "    \"ExpectedImprovement\": \"EI\",\n",
    "    \"UpperConfidenceBound1\": \"UCB(1)\",\n",
    "    \"UpperConfidenceBound10\": \"UCB(10)\",\n",
    "    \"UpperConfidenceBound20\": \"UCB(20)\",\n",
    "    \"UpperConfidenceBound100\": \"UCB(100)\",\n",
    "}"
   ]
  },
  {
   "cell_type": "code",
   "execution_count": null,
   "id": "df7f2d12-8d47-43be-a1f0-62e485fac77f",
   "metadata": {
    "tags": []
   },
   "outputs": [],
   "source": [
    "N_to_plot = [3, 50, 100, 150, 200, 250]"
   ]
  },
  {
   "cell_type": "code",
   "execution_count": null,
   "id": "f2ba1b1b-40c0-43ab-9a8e-56873e0dc5e1",
   "metadata": {},
   "outputs": [],
   "source": [
    "L1 = len(acquisition_function_name_maps)\n",
    "L2 = len(N_to_plot)\n",
    "fig, axs = plt.subplots(L1, L2, figsize=(L2, L1), sharex=True, sharey=True)\n",
    "\n",
    "for ii, acquisition_function_name in enumerate(acquisition_function_name_maps.keys()):\n",
    "    value = all_points[acquisition_function_name]\n",
    "    label = acquisition_function_name_maps[acquisition_function_name]\n",
    "    for jj, N in enumerate(N_to_plot):\n",
    "        ax = axs[ii, jj]\n",
    "        X = value[:, :N, :].reshape(-1, 2)\n",
    "        ax.hist2d(X[:, 0], X[:, 1], bins=50, cmap=\"RdBu_r\")\n",
    "\n",
    "for jj, N in enumerate(N_to_plot):\n",
    "    ax = axs[0, jj]\n",
    "    ax.set_title(r\"$N=%i$\" % N)\n",
    "for ii, acquisition_function_name in enumerate(acquisition_function_name_maps.keys()):\n",
    "    label = acquisition_function_name_maps[acquisition_function_name]\n",
    "    ax = axs[ii, -1]\n",
    "    ax.text(1.05, 0.5, label, ha=\"left\", va=\"center\", transform=ax.transAxes, rotation=90)\n",
    "for ax in axs.flatten():\n",
    "    ax.set_axis_off()\n",
    "\n",
    "ax = fig.add_subplot(111, frameon=False)\n",
    "# hide tick and tick label of the big axes\n",
    "plt.tick_params(labelcolor='none', top='off', bottom='off', left='off', right='off')\n",
    "ax.set_xticks([])\n",
    "ax.set_yticks([])\n",
    "# Use `labelpad=...` for padding when using ax.set_xlabel(...)\n",
    "ax.set_ylabel(\"$x_2$~[a.u.]\")\n",
    "ax.set_xlabel(\"$x_1$~[a.u.]\")\n",
    "\n",
    "plt.subplots_adjust(hspace=0.03, wspace=0.03)\n",
    "\n",
    "# plt.savefig(\"figures_sine2phase/SI_sine2phase.pdf\", dpi=300, bbox_inches=\"tight\")\n",
    "plt.show()"
   ]
  },
  {
   "cell_type": "markdown",
   "id": "ff0fcd5e-1413-4a05-bd10-cec0fb51b74f",
   "metadata": {},
   "source": [
    "### All acquisition functions for the metric"
   ]
  },
  {
   "cell_type": "code",
   "execution_count": null,
   "id": "37627236-f42c-46bc-b3f3-4bce17d0f9b4",
   "metadata": {},
   "outputs": [],
   "source": [
    "acquisition_function_name_maps = {\n",
    "    \"Linear\": \"LTB\",\n",
    "    \"Random\": \"Random\",\n",
    "    \"ExpectedImprovement\": \"EI\",\n",
    "    \"UpperConfidenceBound1\": \"UCB(1)\",\n",
    "    \"UpperConfidenceBound10\": \"UCB(10)\",\n",
    "    \"UpperConfidenceBound20\": \"UCB(20)\",\n",
    "    \"UpperConfidenceBound100\": \"UCB(100)\"\n",
    "}"
   ]
  },
  {
   "cell_type": "code",
   "execution_count": null,
   "id": "866f2b6e-2174-449f-abbc-51f1082f9a02",
   "metadata": {},
   "outputs": [],
   "source": [
    "only_plot = [\"Random\", \"LTB\", \"EI\", \"UCB(1)\", \"UCB(10)\", \"UCB(20)\", \"UCB(100)\"]"
   ]
  },
  {
   "cell_type": "code",
   "execution_count": null,
   "id": "06a4726a-28ad-4a79-a192-2a35f2e6200f",
   "metadata": {},
   "outputs": [],
   "source": [
    "fig, ax = plt.subplots(1, 1, figsize=(3, 2))\n",
    "    \n",
    "for acquisition_function_name in acquisition_function_name_maps.keys():\n",
    "\n",
    "    values = all_metrics_linear[\"metrics\"][acquisition_function_name]\n",
    "    metrics_grid = all_metrics_linear[\"metrics_grid\"]\n",
    "    metrics_grid_linear = all_metrics_linear[\"metrics_grid_linear\"]\n",
    "    label = acquisition_function_name_maps[acquisition_function_name]\n",
    "\n",
    "    if only_plot is None or label in only_plot:\n",
    "        mu = values.mean(axis=1)\n",
    "        sd = values.std(axis=1)\n",
    "        if label == \"LTB\":\n",
    "            label = \"Grid\"\n",
    "            ax.plot(metrics_grid_linear, mu, label=label)\n",
    "            ax.fill_between(metrics_grid_linear, mu - sd, mu + sd, linewidth=0, alpha=0.3)\n",
    "        elif label == \"Random\":\n",
    "            ax.plot(metrics_grid_linear[1:], mu[1:], label=label)\n",
    "            ax.fill_between(metrics_grid_linear[1:], mu[1:] - sd[1:], mu[1:] + sd[1:], linewidth=0, alpha=0.3)\n",
    "        else:\n",
    "            ax.plot(metrics_grid, mu, label=label)\n",
    "            ax.fill_between(metrics_grid, mu - sd, mu + sd, linewidth=0, alpha=0.3)\n",
    "\n",
    "utils.set_grids(ax)\n",
    "ax.tick_params(which=\"minor\", bottom=False, top=False)\n",
    "ax.set_xticks([4, 50, 150, 250])\n",
    "ax.set_yscale('log')\n",
    "\n",
    "yticks = np.array([-1, -2, -3])\n",
    "ax.set_yticks((10.0**yticks).tolist())\n",
    "ax.set_yticklabels([f\"${ii}$\" for ii in yticks])\n",
    "\n",
    "ax.legend(frameon=False, bbox_to_anchor=(1, 0.5), loc=\"center left\")\n",
    "ax.set_ylim(top=10**-0.5)\n",
    "\n",
    "ax.set_xlabel(r\"$N$\")\n",
    "ax.set_ylabel(r\"$\\ln$(MSE)\")\n",
    "\n",
    "plt.savefig(\"figures_sine2phase/SI_sine2phase_all_MSE_metrics.pdf\", dpi=300, bbox_inches=\"tight\")\n",
    "# plt.show()"
   ]
  },
  {
   "cell_type": "markdown",
   "id": "94fb0a68-dd71-4539-88e8-9fb7d5ffd530",
   "metadata": {},
   "source": [
    "## Extra"
   ]
  },
  {
   "cell_type": "markdown",
   "id": "5206f74f-fbf7-4bee-8e61-ca66e85d5cc8",
   "metadata": {},
   "source": [
    "### Different interpolation schemes"
   ]
  },
  {
   "cell_type": "markdown",
   "id": "b98d5ab0-bca7-4d7e-884f-22dc085e241a",
   "metadata": {},
   "source": [
    "This was used for debugging only."
   ]
  },
  {
   "cell_type": "code",
   "execution_count": null,
   "id": "87ac1090-60f4-4e5f-bb85-3df0e61a3420",
   "metadata": {},
   "outputs": [],
   "source": [
    "all_metrics_linear = sine2phase_compute_metrics_all_acquisition_functions_and_LTB(\n",
    "    results_by_acqf,\n",
    "    metrics_grid=metrics_grid,\n",
    "    metrics_grid_linear=metrics_grid_linear,\n",
    "    metric=metric,\n",
    "    grid_points=grid_points,\n",
    "    interpolation_method=\"linear\",\n",
    "    disable_pbar=False,\n",
    ")"
   ]
  },
  {
   "cell_type": "code",
   "execution_count": null,
   "id": "51f70cdc-27c3-4f2e-8d70-867f172b370a",
   "metadata": {},
   "outputs": [],
   "source": [
    "all_metrics_nearest = sine2phase_compute_metrics_all_acquisition_functions_and_LTB(\n",
    "    results_by_acqf,\n",
    "    metrics_grid=metrics_grid,\n",
    "    metrics_grid_linear=metrics_grid_linear,\n",
    "    metric=metric,\n",
    "    grid_points=grid_points,\n",
    "    interpolation_method=\"nearest\",\n",
    "    disable_pbar=False,\n",
    ")"
   ]
  },
  {
   "cell_type": "code",
   "execution_count": null,
   "id": "3bf5aa77-9e0f-4d0b-8480-f2b394da44f6",
   "metadata": {},
   "outputs": [],
   "source": [
    "all_metrics_cubic = sine2phase_compute_metrics_all_acquisition_functions_and_LTB(\n",
    "    results_by_acqf,\n",
    "    metrics_grid=metrics_grid,\n",
    "    metrics_grid_linear=metrics_grid_linear,\n",
    "    metric=metric,\n",
    "    grid_points=grid_points,\n",
    "    interpolation_method=\"cubic\",\n",
    "    disable_pbar=False,\n",
    ")"
   ]
  },
  {
   "cell_type": "code",
   "execution_count": null,
   "id": "a18c5367-8bf7-42f2-82a4-bc5d11251a51",
   "metadata": {},
   "outputs": [],
   "source": [
    "only_plot = [\"LTB\", \"EI\", \"UCB(10)\"]\n",
    "metric_dictionarys = {\"nearest\": all_metrics_nearest, \"linear\": all_metrics_linear, \"cubic\": all_metrics_cubic}"
   ]
  },
  {
   "cell_type": "code",
   "execution_count": null,
   "id": "dafa1f47-5033-4219-8a09-96e0af3e13fb",
   "metadata": {},
   "outputs": [],
   "source": [
    "n_plots = 3\n",
    "fig, axs = plt.subplots(1, n_plots, figsize=(1.5 * n_plots, 2), sharex=True, sharey=False)\n",
    "\n",
    "for ii, (metric_method_name, metric_dictionary) in enumerate(metric_dictionarys.items()):\n",
    "    \n",
    "    ax = axs[ii]\n",
    "    ax.set_title(metric_method_name)\n",
    "    \n",
    "    for acquisition_function_name in acquisition_function_name_maps.keys():\n",
    "\n",
    "        values = metric_dictionary[\"metrics\"][acquisition_function_name]\n",
    "        metrics_grid = metric_dictionary[\"metrics_grid\"]\n",
    "        metrics_grid_linear = metric_dictionary[\"metrics_grid_linear\"]\n",
    "        label = acquisition_function_name_maps[acquisition_function_name]\n",
    "\n",
    "        if only_plot is None or label in only_plot:\n",
    "            mu = values.mean(axis=1)\n",
    "            sd = values.std(axis=1) / 2.0\n",
    "            if label == \"LTB\":\n",
    "                ax.plot(metrics_grid_linear, mu, label=label)\n",
    "                ax.fill_between(metrics_grid_linear, mu - sd, mu + sd, linewidth=0, alpha=0.3)\n",
    "            else:\n",
    "                ax.plot(metrics_grid, mu, label=label)\n",
    "                ax.fill_between(metrics_grid, mu - sd, mu + sd, linewidth=0, alpha=0.3)\n",
    "\n",
    "\n",
    "for ax in axs.flatten():\n",
    "    utils.set_grids(ax)\n",
    "    ax.tick_params(which=\"minor\", bottom=False, top=False)\n",
    "    ax.set_xticks([3, 50, 150, 250])\n",
    "    ax.set_yscale('log')\n",
    "\n",
    "# ax.axhline(0.1, color=\"black\", linewidth=0.5, linestyle=\"--\", zorder=-1)\n",
    "\n",
    "ax.legend(frameon=False, bbox_to_anchor=(1, 0.5), loc=\"center left\")\n",
    "ax.text(0.05, 0.05, r\"$\\mu \\pm \\sigma / 3$\", ha=\"left\", va=\"bottom\", transform=ax.transAxes)\n",
    "axs[0].text(0.95, 0.95, r\"(a)\", ha=\"right\", va=\"top\", transform=ax.transAxes)\n",
    "axs[1].text(0.95, 0.95, r\"(b)\", ha=\"right\", va=\"top\", transform=ax.transAxes)\n",
    "axs[2].text(0.95, 0.95, r\"(c)\", ha=\"right\", va=\"top\", transform=ax.transAxes)\n",
    "\n",
    "axs[1].set_xlabel(r\"$N$\")\n",
    "axs[0].set_ylabel(r\"MSE\")\n",
    "\n",
    "plt.subplots_adjust(wspace=0.5)\n",
    "\n",
    "plt.show()"
   ]
  },
  {
   "cell_type": "markdown",
   "id": "042476af-7f45-40aa-ac64-2f38e2668eda",
   "metadata": {},
   "source": [
    "### Plot the 2-dimensional interpolation"
   ]
  },
  {
   "cell_type": "markdown",
   "id": "298c1327-d93d-45a1-ba1f-4c97ec9631e4",
   "metadata": {},
   "source": [
    "This is mainly for debugging the 2d interpolation metric which will be used in this example and `xrd4phase` (aka `xrd2dim`)."
   ]
  },
  {
   "cell_type": "code",
   "execution_count": null,
   "id": "6e58461b-4f14-431c-8f3d-e68512d899b9",
   "metadata": {},
   "outputs": [],
   "source": [
    "interpolation_method=\"nearest\""
   ]
  },
  {
   "cell_type": "code",
   "execution_count": null,
   "id": "3665b1ad-55bb-44b8-b4a9-2e1c22f55ded",
   "metadata": {},
   "outputs": [],
   "source": [
    "single_result = results_by_acqf[\"ExpectedImprovement\"][1]\n",
    "X = single_result.data.X[:240, :]\n",
    "true_phase_prop, interpolated_phase_prop = sine2phase_interpolant_2d(\n",
    "    X,\n",
    "    grid_points=200,\n",
    "    interpolation_method=interpolation_method\n",
    ")"
   ]
  },
  {
   "cell_type": "code",
   "execution_count": null,
   "id": "21b43591-a7f1-4a55-9519-df3680a4d63e",
   "metadata": {},
   "outputs": [],
   "source": [
    "X_LTB = limited_time_budget(12, 2)\n",
    "_, interpolated_phase_prop_LTB = sine2phase_interpolant_2d(X_LTB, grid_points=200, interpolation_method=interpolation_method)"
   ]
  },
  {
   "cell_type": "code",
   "execution_count": null,
   "id": "7216d9f0-3f4a-4336-91bf-c4d964d8ee4f",
   "metadata": {},
   "outputs": [],
   "source": [
    "fig, axs = plt.subplots(1, 3, figsize=(6*scale, 2*scale), sharex=True, sharey=True)\n",
    "\n",
    "ax = axs[0]\n",
    "\n",
    "im = ax.imshow(true_phase_prop, interpolation='bilinear', origin='lower', cmap=mpl.cm.PuOr, extent=extent, alpha=0.8)\n",
    "\n",
    "ax.text(0.05, 0.95, r\"(a)\", ha=\"left\", va=\"top\", transform=ax.transAxes, color=\"white\")\n",
    "ax.text(0.95, 0.95, \"Phase 1\", ha=\"right\", va=\"top\", transform=ax.transAxes, color=\"white\")\n",
    "ax.text(0.05, 0.05, \"Phase 2\", ha=\"left\", va=\"bottom\", transform=ax.transAxes)\n",
    "ax.set_title(\"Dense Grid\")\n",
    "\n",
    "ax = axs[1]\n",
    "im = ax.imshow(interpolated_phase_prop - true_phase_prop, interpolation='bilinear', origin='lower', cmap=mpl.cm.seismic, extent=extent, alpha=0.4, vmin=-0.2, vmax=0.2)\n",
    "ax.scatter(X[:, 0], X[:, 1], s=0.3, color='black', alpha=1)\n",
    "ax.text(0.05, 0.95, r\"(b)\", ha=\"left\", va=\"top\", transform=ax.transAxes)\n",
    "ax.set_title(\"AQF: EI\")\n",
    "# utils.add_colorbar(im)\n",
    "\n",
    "ax = axs[2]\n",
    "im = ax.imshow(interpolated_phase_prop_LTB - true_phase_prop, interpolation='bilinear', origin='lower', cmap=mpl.cm.seismic, extent=extent, alpha=0.4, vmin=-0.2, vmax=0.2)\n",
    "ax.scatter(X_LTB[:, 0], X_LTB[:, 1], s=0.3, color='black', alpha=1)\n",
    "ax.text(0.05, 0.95, r\"(c)\", ha=\"left\", va=\"top\", transform=ax.transAxes)\n",
    "ax.set_title(\"LTB\")\n",
    "utils.add_colorbar(im)\n",
    "\n",
    "\n",
    "ax.set_xticks([0, 1])\n",
    "ax.set_yticks([0, 1])\n",
    "for ax in axs:\n",
    "    utils.set_grids(ax, grid=False)\n",
    "\n",
    "ax = fig.add_subplot(111, frameon=False)\n",
    "# hide tick and tick label of the big axes\n",
    "plt.tick_params(labelcolor='none', top='off', bottom='off', left='off', right='off')\n",
    "ax.set_xticks([])\n",
    "ax.set_yticks([])\n",
    "ax.set_ylabel(\"$x_2$~[a.u.]\", labelpad=10)\n",
    "ax.set_xlabel(\"$x_1$~[a.u.]\", labelpad=10)\n",
    "\n",
    "plt.show()"
   ]
  },
  {
   "cell_type": "markdown",
   "id": "737b4ea1-b5e4-49d4-925e-3e17cfe12daf",
   "metadata": {},
   "source": [
    "### Length scales"
   ]
  },
  {
   "cell_type": "code",
   "execution_count": null,
   "id": "a4eb3600-65de-4e06-8e5e-c1aa18f0e130",
   "metadata": {},
   "outputs": [],
   "source": [
    "acquisition_function_name_maps = {\n",
    "    \"ExpectedImprovement\": \"EI\",\n",
    "    \"UpperConfidenceBound1\": \"UCB(1)\",\n",
    "    \"UpperConfidenceBound10\": \"UCB(10)\",\n",
    "    \"UpperConfidenceBound20\": \"UCB(20)\",\n",
    "    \"UpperConfidenceBound100\": \"UCB(100)\"\n",
    "}"
   ]
  },
  {
   "cell_type": "code",
   "execution_count": null,
   "id": "651d499e-7509-431e-8fa8-136c70a1ddac",
   "metadata": {},
   "outputs": [],
   "source": [
    "all_points = dict()\n",
    "for acquisition_function_name, values in results_by_acqf.items():\n",
    "    tmp_metrics = [exp.data.X for exp in values]\n",
    "    all_points[acquisition_function_name] = np.array(tmp_metrics)"
   ]
  },
  {
   "cell_type": "code",
   "execution_count": null,
   "id": "84624cb8-20e4-4431-929b-4629dbcb7154",
   "metadata": {},
   "outputs": [],
   "source": [
    "n_grid = list(range(3, 251))"
   ]
  },
  {
   "cell_type": "code",
   "execution_count": null,
   "id": "a1fca9ec-8170-4376-8b4f-b22c3a99119c",
   "metadata": {},
   "outputs": [],
   "source": [
    "all_length_scales = dict()\n",
    "for acquisition_function_name, values in all_points.items():\n",
    "    tmp_jj = []\n",
    "    \n",
    "    # jj is the experiment index\n",
    "    for jj in tqdm(range(300)):\n",
    "        \n",
    "        tmp_jj_ii = []\n",
    "    \n",
    "        ## ii is the n-points index\n",
    "        for ii in n_grid:\n",
    "            p = values.squeeze()[jj, :ii, :]\n",
    "            X_dist = distance_matrix(p, p)\n",
    "            distance = X_dist.copy()\n",
    "            distance[distance == 0.0] = np.inf\n",
    "            sd = distance.min(axis=1).mean()\n",
    "            tmp_jj_ii.append(sd)\n",
    "\n",
    "        tmp_jj.append(tmp_jj_ii)\n",
    "\n",
    "    all_length_scales[acquisition_function_name] = np.array(tmp_jj)"
   ]
  },
  {
   "cell_type": "code",
   "execution_count": null,
   "id": "ffe7c952-6b26-426a-80d9-942a34f0f518",
   "metadata": {},
   "outputs": [],
   "source": [
    "fig, ax = plt.subplots(1, 1, figsize=(2, 1.5))\n",
    "\n",
    "for acquisition_function_name, _ in acquisition_function_name_maps.items():\n",
    "    values = all_length_scales[acquisition_function_name]\n",
    "    mu = values.mean(axis=0)\n",
    "    sd = values.std(axis=0)\n",
    "    p = np.polyfit(np.log10(n_grid)[20:], np.log10(mu)[20:], deg=1)\n",
    "    print(p)\n",
    "    ax.plot(n_grid, mu, label=acquisition_function_name_maps[acquisition_function_name])\n",
    "    ax.fill_between(n_grid, mu - sd, mu + sd, alpha=0.2)\n",
    "\n",
    "    # ax.plot(n_grid, 10**(p[1]) * n_grid**p[0], \"k--\")\n",
    "\n",
    "ax.set_yscale('log')\n",
    "ax.set_xscale('log')\n",
    "ax.set_ylabel(r\"$\\langle l \\rangle$\")\n",
    "ax.set_xlabel(r\"$N$\")\n",
    "\n",
    "utils.set_grids(ax)\n",
    "# ax.text(0.1, 0.1, \"(b) Sine2phase\", ha=\"left\", va=\"bottom\", transform=ax.transAxes)\n",
    "\n",
    "ax.legend(frameon=False, bbox_to_anchor=(1.05, 0.5), loc=\"center left\")\n",
    "\n",
    "# plt.show()\n",
    "plt.savefig(\"figures_sine2phase/SI_sine2phase_sigma_with_N.pdf\", bbox_inches=\"tight\", dpi=300)"
   ]
  },
  {
   "cell_type": "markdown",
   "id": "e8939cf5-0cb5-411a-bc04-7075d411b0cd",
   "metadata": {},
   "source": [
    "## What happens if you use a fixed $l$?"
   ]
  },
  {
   "cell_type": "code",
   "execution_count": null,
   "id": "d835b275-f668-483f-89a2-79232413976d",
   "metadata": {},
   "outputs": [],
   "source": [
    "results_by_acqf_05 = parse_results_by_acquisition_function(read_data(\"../results/results_23-09-02-sine2phase-sigma-0.05\"))\n",
    "results_by_acqf_15 = parse_results_by_acquisition_function(read_data(\"../results/results_23-09-02-sine2phase-sigma-0.15\"))\n",
    "results_by_acqf_25 = parse_results_by_acquisition_function(read_data(\"../results/results_23-09-02-sine2phase-sigma-0.25\"))\n",
    "results_by_acqf_50 = parse_results_by_acquisition_function(read_data(\"../results/results_23-09-02-sine2phase-sigma-0.5\"))"
   ]
  },
  {
   "cell_type": "code",
   "execution_count": null,
   "id": "2ffd0df5-a92e-49f4-b232-3dce582e7a0b",
   "metadata": {},
   "outputs": [],
   "source": []
  }
 ],
 "metadata": {
  "kernelspec": {
   "display_name": "Python 3 (ipykernel)",
   "language": "python",
   "name": "python3"
  },
  "language_info": {
   "codemirror_mode": {
    "name": "ipython",
    "version": 3
   },
   "file_extension": ".py",
   "mimetype": "text/x-python",
   "name": "python",
   "nbconvert_exporter": "python",
   "pygments_lexer": "ipython3",
   "version": "3.9.16"
  },
  "toc-showtags": false
 },
 "nbformat": 4,
 "nbformat_minor": 5
}
