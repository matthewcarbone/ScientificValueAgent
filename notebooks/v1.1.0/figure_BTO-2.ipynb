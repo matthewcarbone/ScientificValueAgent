{
 "cells": [
  {
   "cell_type": "code",
   "execution_count": null,
   "id": "9b0f74b9-cb13-4f43-bf4b-afe47baf145f",
   "metadata": {},
   "outputs": [],
   "source": [
    "%load_ext autoreload\n",
    "%autoreload 2\n",
    "%config Completer.use_jedi = False"
   ]
  },
  {
   "cell_type": "markdown",
   "id": "bb6d903c-d364-4598-8e03-f735f12463c6",
   "metadata": {},
   "source": [
    "Notebook local path should be at `ScientificValueAgent/figures`."
   ]
  },
  {
   "cell_type": "code",
   "execution_count": null,
   "id": "68d9ceee-3f21-446a-b48a-092d5bb511c9",
   "metadata": {},
   "outputs": [],
   "source": [
    "import sys\n",
    "sys.path.append(\"..\")"
   ]
  },
  {
   "cell_type": "code",
   "execution_count": null,
   "id": "e8e3981a-c176-4f5c-b0d4-2445e277bab1",
   "metadata": {},
   "outputs": [],
   "source": [
    "from collections import Counter\n",
    "from itertools import product\n",
    "from pathlib import Path\n",
    "\n",
    "import matplotlib.pyplot as plt\n",
    "import matplotlib as mpl\n",
    "import numpy as np\n",
    "import pickle\n",
    "from scipy.stats import pearsonr\n",
    "from tqdm import tqdm\n",
    "import xarray as xr"
   ]
  },
  {
   "cell_type": "code",
   "execution_count": null,
   "id": "8fc26b18-c721-453c-bd35-8271421cd30b",
   "metadata": {},
   "outputs": [],
   "source": [
    "from sva import utils"
   ]
  },
  {
   "cell_type": "markdown",
   "id": "48186279-79f9-46f6-ae02-9796a9296980",
   "metadata": {},
   "source": [
    "Set some plotting defaults."
   ]
  },
  {
   "cell_type": "code",
   "execution_count": null,
   "id": "599e9082-d385-48dd-b341-07a133dd0157",
   "metadata": {},
   "outputs": [],
   "source": [
    "utils.set_defaults()"
   ]
  },
  {
   "cell_type": "markdown",
   "id": "2cad6ac1-6915-4f9a-8090-a4b9871c7a81",
   "metadata": {
    "tags": []
   },
   "source": [
    "# BTO results"
   ]
  },
  {
   "cell_type": "code",
   "execution_count": null,
   "id": "cf0fc662-3a56-4bfa-a792-66204d731111",
   "metadata": {},
   "outputs": [],
   "source": [
    "from sva.postprocessing import read_data, parse_results_by_acquisition_function\n",
    "from sva.truth.bto import cmf_predicted_mse, bto_compute_metrics_all_acquisition_functions_and_LTB, truth_bto"
   ]
  },
  {
   "cell_type": "code",
   "execution_count": null,
   "id": "ba98eb8c-d355-429a-8a33-f6fc70edd262",
   "metadata": {},
   "outputs": [],
   "source": [
    "results_Adam = read_data(\"../results/results_23-05-02-BTO-2\")"
   ]
  },
  {
   "cell_type": "code",
   "execution_count": null,
   "id": "008c577d-5caa-4b89-b069-449c83a5878f",
   "metadata": {},
   "outputs": [],
   "source": [
    "results_by_acqf_Adam = parse_results_by_acquisition_function(results_Adam)"
   ]
  },
  {
   "cell_type": "code",
   "execution_count": null,
   "id": "b27be10d-bc97-4400-b9f4-886b91255150",
   "metadata": {},
   "outputs": [],
   "source": [
    "cache = Path(\"cache\")\n",
    "cache.mkdir(exist_ok=True)\n",
    "# cache = None"
   ]
  },
  {
   "cell_type": "markdown",
   "id": "4bffcfcb-fbf8-4760-bc67-53312d2ac7ea",
   "metadata": {
    "tags": []
   },
   "source": [
    "## Core manuscript figure"
   ]
  },
  {
   "cell_type": "markdown",
   "id": "3f207a9a-6a59-4b68-9da4-4828a598b11b",
   "metadata": {
    "tags": []
   },
   "source": [
    "### Weights"
   ]
  },
  {
   "cell_type": "markdown",
   "id": "2bb1f496-5a0a-4daa-9362-5e403206290a",
   "metadata": {},
   "source": [
    "Load in the NMF weights from Phil's paper: Applied Physics Reviews 8, 041410 (2021); https://doi.org/10.1063/5.0052859"
   ]
  },
  {
   "cell_type": "code",
   "execution_count": null,
   "id": "18d4bb55-c379-459d-b3ed-e1a2e3b23233",
   "metadata": {},
   "outputs": [],
   "source": [
    "weights = xr.open_dataarray(\"../sva/truth/bto_rietveld_weights.nc\")"
   ]
  },
  {
   "cell_type": "code",
   "execution_count": null,
   "id": "bd440b04-400e-4417-bdf2-f0002a070a1a",
   "metadata": {},
   "outputs": [],
   "source": [
    "temperature_grid = weights[\"temperature\"]"
   ]
  },
  {
   "cell_type": "code",
   "execution_count": null,
   "id": "fcfdbae3-6ea4-45ca-904d-1034ef6abcbc",
   "metadata": {},
   "outputs": [],
   "source": [
    "fig, ax = plt.subplots(1, 1, figsize=(3, 2))\n",
    "\n",
    "ax.plot(temperature_grid, weights.data[:, 0])\n",
    "ax.plot(temperature_grid, weights.data[:, 1])\n",
    "ax.plot(temperature_grid, weights.data[:, 2])\n",
    "ax.plot(temperature_grid, weights.data[:, 3])\n",
    "\n",
    "plt.show()"
   ]
  },
  {
   "cell_type": "markdown",
   "id": "1c17e853-1450-4024-9f28-efd16b80c708",
   "metadata": {},
   "source": [
    "### Subfigure (a)"
   ]
  },
  {
   "cell_type": "code",
   "execution_count": null,
   "id": "928bb216-ce49-4f41-85d0-802aea5ace5e",
   "metadata": {},
   "outputs": [],
   "source": [
    "acquisition_function = \"ExpectedImprovement\"\n",
    "all_results_Adam = np.array([xx.data.X.squeeze() for xx in results_by_acqf_Adam[acquisition_function]])"
   ]
  },
  {
   "cell_type": "markdown",
   "id": "9d1a4f79-4b5b-4dc4-9f0b-09fd0d185716",
   "metadata": {},
   "source": [
    "Resolve by the experiment iteration..."
   ]
  },
  {
   "cell_type": "code",
   "execution_count": null,
   "id": "932e40e7-f23a-4e4f-8516-5a853a870e89",
   "metadata": {},
   "outputs": [],
   "source": [
    "all_results_Adam_n_resolved = [all_results_Adam[:, :nn].flatten() for nn in range(3, all_results_Adam.shape[1] + 1)]"
   ]
  },
  {
   "cell_type": "code",
   "execution_count": null,
   "id": "bf95efbc-37a6-4e8e-80cb-694ba531774e",
   "metadata": {},
   "outputs": [],
   "source": [
    "all_results_Adam_n_resolved_coordinates = []\n",
    "for ii, res in enumerate(all_results_Adam_n_resolved):\n",
    "    n = len(res)\n",
    "    coords = (np.ones(shape=(n,)) * ii).astype(int)\n",
    "    arr = np.array([res, coords]).T\n",
    "    all_results_Adam_n_resolved_coordinates.append(arr)\n",
    "all_results_Adam_n_resolved_coordinates = np.concatenate(all_results_Adam_n_resolved_coordinates, axis=0)\n",
    "all_results_Adam_n_resolved_coordinates[:, 1] += 3"
   ]
  },
  {
   "cell_type": "code",
   "execution_count": null,
   "id": "38a5c248-0790-4a34-82d7-784b61362c99",
   "metadata": {},
   "outputs": [],
   "source": [
    "vmax = 1500\n",
    "vline_color = \"black\""
   ]
  },
  {
   "cell_type": "code",
   "execution_count": null,
   "id": "25ecc65d-ec5e-4074-be8c-2d616512ab80",
   "metadata": {
    "tags": []
   },
   "outputs": [],
   "source": [
    "fig, axs = plt.subplots(2, 1, figsize=(3, 3), gridspec_kw={'height_ratios':[1, 2]}, sharex=True)\n",
    "\n",
    "ax = axs[0]\n",
    "ax.plot(temperature_grid, weights[:, 0], label=\"Rhomb\")\n",
    "ax.plot(temperature_grid, weights[:, 1], label=\"Ortho\")\n",
    "ax.plot(temperature_grid, weights[:, 2], label=\"Tetra\")\n",
    "ax.plot(temperature_grid, weights[:, 3], label=\"Cubic\")\n",
    "axlims = ax.get_ylim()\n",
    "ax.text(1.05, 1.0, \"Component\", ha=\"left\", va=\"bottom\", transform=ax.transAxes)\n",
    "ax.text(0.025, 0.5, \"(a)\", ha=\"left\", va=\"center\", transform=ax.transAxes)\n",
    "ax.legend(frameon=False, bbox_to_anchor=(1.0, 0.5), loc=\"center left\")\n",
    "\n",
    "# d = (\n",
    "#     np.abs(np.gradient(weights[:, 0])) +\n",
    "#     np.abs(np.gradient(weights[:, 1])) +\n",
    "#     np.abs(np.gradient(weights[:, 2])) +\n",
    "#     np.abs(np.gradient(weights[:, 3]))\n",
    "# ) / 4.0\n",
    "# d = d / d.max()\n",
    "# ax.plot(temperature_grid, d, \"k-\")\n",
    "# ax.plot(temperature_grid, grad / grad.max(), color=\"cyan\")\n",
    "\n",
    "ax.axvline(200, color=vline_color, linewidth=0.5, linestyle=\"--\")\n",
    "ax.axvline(286, color=vline_color, linewidth=0.5, linestyle=\"--\")\n",
    "ax.axvline(410, color=vline_color, linewidth=0.5, linestyle=\"--\")\n",
    "\n",
    "\n",
    "# ax.fill_betweenx(np.linspace(*axlims, 10), 10, 50, color=\"black\", alpha=0.1, linewidth=0)\n",
    "# ax.fill_betweenx(np.linspace(*axlims, 10), 60, 80, color=\"black\", alpha=0.1, linewidth=0)\n",
    "# ax.fill_betweenx(np.linspace(*axlims, 10), 88.5, 91.5, color=\"black\", alpha=0.1, linewidth=0)\n",
    "\n",
    "utils.set_grids(ax)\n",
    "ax.set_ylabel(\"$w(T)$\")\n",
    "ax.set_ylim(*axlims)\n",
    "\n",
    "ax = axs[1]\n",
    "ax.hist2d(all_results_Adam_n_resolved_coordinates[:, 0], all_results_Adam_n_resolved_coordinates[:, 1], bins=[100, 247], cmap=\"viridis\", vmax=vmax, rasterized=True)\n",
    "ax.axvline(200, color=vline_color, linewidth=0.5, linestyle=\"--\")\n",
    "ax.axvline(286, color=vline_color, linewidth=0.5, linestyle=\"--\")\n",
    "ax.axvline(410, color=vline_color, linewidth=0.5, linestyle=\"--\")\n",
    "ax.set_yticks([3, 50, 150, 250])\n",
    "# ax.set_xticks([0, 20, 40, 60, 80, 100])\n",
    "utils.set_grids(ax)\n",
    "ax.tick_params(which=\"minor\", left=False, right=False)\n",
    "ax.set_ylabel(r\"$N$\")\n",
    "ax.set_xlabel(\"$T$~[K]\")\n",
    "ax.text(0.025, 0.9, \"(b)\", ha=\"left\", va=\"top\", transform=ax.transAxes, color=\"white\")\n",
    "\n",
    "plt.savefig(\"figures_BTO-2/bto_subfigure_a_b.svg\", dpi=300, bbox_inches=\"tight\")\n",
    "# plt.show()"
   ]
  },
  {
   "cell_type": "markdown",
   "id": "b5cbe80b-1c84-461c-8aa7-c3d5cd62b491",
   "metadata": {},
   "source": [
    "### Subfigure (a) colorbar"
   ]
  },
  {
   "cell_type": "code",
   "execution_count": null,
   "id": "3dafb5ea-fbdd-4172-b69c-1d22a188bd84",
   "metadata": {},
   "outputs": [],
   "source": [
    "fig, ax = plt.subplots(1, 1, figsize=(2, 2), sharex=True, sharey=True)\n",
    "\n",
    "im = ax.hist2d(all_results_Adam_n_resolved_coordinates[:, 0], all_results_Adam_n_resolved_coordinates[:, 1], bins=[100, 247], cmap=\"viridis\", vmax=vmax)\n",
    "\n",
    "cbar = utils.add_colorbar(im[-1], aspect=6)\n",
    "cbar.set_ticks([0, vmax])\n",
    "cbar.set_ticklabels([0, f\"$\\geq$ %i\" % int(vmax / 300)])\n",
    "cbar.set_label(r\"Average Counts\", labelpad=-10)\n",
    "\n",
    "ax.remove()\n",
    "\n",
    "plt.savefig(\"figures_BTO-2/bto_cbar.svg\", dpi=300, bbox_inches=\"tight\")\n",
    "# plt.show()"
   ]
  },
  {
   "cell_type": "markdown",
   "id": "53685370-d662-45ff-a0d4-3ea7db37faac",
   "metadata": {},
   "source": [
    "### Subfigure metrics"
   ]
  },
  {
   "cell_type": "code",
   "execution_count": null,
   "id": "fe9c4dac-5601-4c00-acb7-66491fa237e2",
   "metadata": {},
   "outputs": [],
   "source": [
    "acquisition_function_name_maps = {\n",
    "    \"Linear\": \"LTB\",\n",
    "    \"UpperConfidenceBound10\": \"UCB(10)\",\n",
    "    \"ExpectedImprovement\": \"EI\",\n",
    "    \"UpperConfidenceBound20\": \"UCB(20)\",\n",
    "    \"UpperConfidenceBound100\": \"UCB(100)\",\n",
    "    \"UpperConfidenceBound1000\": \"UCB(1000)\"\n",
    "}"
   ]
  },
  {
   "cell_type": "code",
   "execution_count": null,
   "id": "9516542c-d67f-492e-a4d4-3bcc29015053",
   "metadata": {},
   "outputs": [],
   "source": [
    "metrics_grid = list(range(3, 251, 10))\n",
    "linspace_points = 10000"
   ]
  },
  {
   "cell_type": "code",
   "execution_count": null,
   "id": "d8f23938-86c4-4f0b-857d-46f790cd3046",
   "metadata": {},
   "outputs": [],
   "source": [
    "path = cache / \"bto-2_all.pkl\"\n",
    "if not path.exists():\n",
    "    print(\"Recalculating...\")\n",
    "    _m = bto_compute_metrics_all_acquisition_functions_and_LTB(\n",
    "        results_by_acqf_Adam,\n",
    "        metrics_grid=metrics_grid,\n",
    "        metrics_grid_linear=metrics_grid,\n",
    "        metric=\"mse\",\n",
    "        grid_points=linspace_points,\n",
    "        disable_pbar=False,\n",
    "        xmin=150.0,\n",
    "        xmax=445.0,\n",
    "    )\n",
    "    all_metrics = _m[\"metrics\"]\n",
    "    pickle.dump(all_metrics, open(path, \"wb\"), protocol=pickle.HIGHEST_PROTOCOL)\n",
    "else:\n",
    "    all_metrics = pickle.load(open(path, \"rb\"))"
   ]
  },
  {
   "cell_type": "code",
   "execution_count": null,
   "id": "96263f7b-0ecc-4d88-a130-441dae290f05",
   "metadata": {},
   "outputs": [],
   "source": [
    "only_plot = [\"LTB\", \"EI\", \"UCB(10)\"]#, \"UCB(20)\", \"UCB(100)\", \"UCB(1000)\"]"
   ]
  },
  {
   "cell_type": "code",
   "execution_count": null,
   "id": "7012cc12-d798-47b8-a3b7-9fafa05d2649",
   "metadata": {},
   "outputs": [],
   "source": [
    "fig, ax = plt.subplots(1, 1, figsize=(2, 3))\n",
    "\n",
    "for acquisition_function_name in acquisition_function_name_maps.keys():\n",
    "    values = all_metrics[acquisition_function_name]\n",
    "    label = acquisition_function_name_maps[acquisition_function_name]\n",
    "    if only_plot is None or label in only_plot:\n",
    "        mu = np.nanmean(np.log(values), axis=1)\n",
    "        sd = np.nanstd(np.log(values), axis=1) * 2\n",
    "        ax.plot(metrics_grid, mu, label=label if label != \"LTB\" else \"Grid\")\n",
    "        ax.fill_between(metrics_grid, mu - sd, mu + sd, linewidth=0, alpha=0.3)\n",
    "\n",
    "utils.set_grids(ax)\n",
    "ax.tick_params(which=\"minor\", bottom=False, top=False)\n",
    "ax.set_xticks([3, 50, 150, 250])\n",
    "\n",
    "ax.legend(frameon=False, loc=\"upper right\")\n",
    "# ax.text(0.1, 0.05, r\"$\\mu \\pm 2\\sigma$\", ha=\"left\", va=\"bottom\", transform=ax.transAxes)\n",
    "ax.text(0.1, 0.95, r\"(c)\", ha=\"left\", va=\"top\", transform=ax.transAxes)\n",
    "\n",
    "# ax.set_yscale(\"log\")\n",
    "# yticks = np.array([-1, -2, -3, -4, -5, -6, -7])\n",
    "# ax.set_yticks((10.0**yticks).tolist())\n",
    "# ax.set_yticklabels([f\"${ii}$\" for ii in yticks])\n",
    "# ax.set_ylim(10**-7.3, 10**-0.7)\n",
    "ax.tick_params(axis='y', which='minor', left=True, right=True)\n",
    "plt.tick_params(axis='y', which='minor')\n",
    "\n",
    "ax.set_xlabel(r\"$N$\")\n",
    "ax.set_ylabel(r\"$\\ln$(MSE)\")\n",
    "\n",
    "plt.savefig(\"figures_BTO-2/bto_subfigure_c.svg\", dpi=300, bbox_inches=\"tight\")\n",
    "# plt.show()"
   ]
  },
  {
   "cell_type": "code",
   "execution_count": null,
   "id": "f68b4fd9-08ef-41be-b468-e0fda5538119",
   "metadata": {},
   "outputs": [],
   "source": []
  }
 ],
 "metadata": {
  "kernelspec": {
   "display_name": "Python 3 (ipykernel)",
   "language": "python",
   "name": "python3"
  },
  "language_info": {
   "codemirror_mode": {
    "name": "ipython",
    "version": 3
   },
   "file_extension": ".py",
   "mimetype": "text/x-python",
   "name": "python",
   "nbconvert_exporter": "python",
   "pygments_lexer": "ipython3",
   "version": "3.9.16"
  }
 },
 "nbformat": 4,
 "nbformat_minor": 5
}
