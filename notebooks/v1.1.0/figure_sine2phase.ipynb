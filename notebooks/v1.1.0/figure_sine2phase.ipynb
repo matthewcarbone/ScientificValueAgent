{
 "cells": [
  {
   "cell_type": "code",
   "execution_count": null,
   "id": "9b0f74b9-cb13-4f43-bf4b-afe47baf145f",
   "metadata": {},
   "outputs": [],
   "source": [
    "%load_ext autoreload\n",
    "%autoreload 2\n",
    "%config Completer.use_jedi = False"
   ]
  },
  {
   "cell_type": "markdown",
   "id": "bb6d903c-d364-4598-8e03-f735f12463c6",
   "metadata": {},
   "source": [
    "Notebook local path should be at `ScientificValueAgent/production_figures`."
   ]
  },
  {
   "cell_type": "code",
   "execution_count": null,
   "id": "68d9ceee-3f21-446a-b48a-092d5bb511c9",
   "metadata": {},
   "outputs": [],
   "source": [
    "import sys\n",
    "\n",
    "sys.path.append(\"..\")"
   ]
  },
  {
   "cell_type": "code",
   "execution_count": null,
   "id": "e8e3981a-c176-4f5c-b0d4-2445e277bab1",
   "metadata": {},
   "outputs": [],
   "source": [
    "from itertools import product\n",
    "from pathlib import Path\n",
    "\n",
    "import matplotlib.pyplot as plt\n",
    "import matplotlib as mpl\n",
    "import numpy as np\n",
    "from tqdm import tqdm\n",
    "from scipy.spatial import distance_matrix\n",
    "from sklearn.cluster import KMeans\n",
    "from sklearn.linear_model import LogisticRegression\n",
    "import warnings"
   ]
  },
  {
   "cell_type": "code",
   "execution_count": null,
   "id": "8fc26b18-c721-453c-bd35-8271421cd30b",
   "metadata": {},
   "outputs": [],
   "source": [
    "from sva import utils"
   ]
  },
  {
   "cell_type": "markdown",
   "id": "48186279-79f9-46f6-ae02-9796a9296980",
   "metadata": {},
   "source": [
    "Set some plotting defaults."
   ]
  },
  {
   "cell_type": "code",
   "execution_count": null,
   "id": "599e9082-d385-48dd-b341-07a133dd0157",
   "metadata": {},
   "outputs": [],
   "source": [
    "utils.set_defaults()"
   ]
  },
  {
   "cell_type": "markdown",
   "id": "2cad6ac1-6915-4f9a-8090-a4b9871c7a81",
   "metadata": {
    "tags": []
   },
   "source": [
    "# Two-phase sine result"
   ]
  },
  {
   "cell_type": "code",
   "execution_count": null,
   "id": "cf0fc662-3a56-4bfa-a792-66204d731111",
   "metadata": {},
   "outputs": [],
   "source": [
    "from sva.postprocessing import read_data, parse_results_by_acquisition_function\n",
    "from sva.truth.sine2phase import (\n",
    "    phase_1_sine_on_2d_raster,\n",
    "    truth_sine2phase,\n",
    "    sine2phase_interpolant_2d,\n",
    "    sine2phase_compute_metrics_all_acquisition_functions_and_LTB,\n",
    "    sine2phase_residual_2d_phase_mse,\n",
    ")\n",
    "from sva.truth.common import limited_time_budget, get_phase_plot_info"
   ]
  },
  {
   "cell_type": "markdown",
   "id": "9e766271-cfba-4f33-8104-0ae68d9dfdff",
   "metadata": {},
   "source": [
    "Get the results. This is a few GB of raw data and thus could take a little time to load."
   ]
  },
  {
   "cell_type": "code",
   "execution_count": null,
   "id": "52607c0f-f17a-4a30-9009-69cb4f9785d1",
   "metadata": {
    "tags": []
   },
   "outputs": [],
   "source": [
    "results = read_data(\"../results/results_23-05-02-sine2phase/\")"
   ]
  },
  {
   "cell_type": "code",
   "execution_count": null,
   "id": "008c577d-5caa-4b89-b069-449c83a5878f",
   "metadata": {},
   "outputs": [],
   "source": [
    "results_by_acqf = parse_results_by_acquisition_function(results)"
   ]
  },
  {
   "cell_type": "markdown",
   "id": "4bffcfcb-fbf8-4760-bc67-53312d2ac7ea",
   "metadata": {
    "tags": []
   },
   "source": [
    "## Core manuscript figure"
   ]
  },
  {
   "cell_type": "code",
   "execution_count": null,
   "id": "0a97e3a8-e402-4229-b35d-70ec22fb7ad6",
   "metadata": {},
   "outputs": [],
   "source": [
    "x, y, Z = get_phase_plot_info(phase_1_sine_on_2d_raster)\n",
    "X, Y = np.meshgrid(x, y)\n",
    "gradZ = np.array(np.gradient(Z))\n",
    "gradZ = np.sqrt((gradZ**2).sum(axis=0))"
   ]
  },
  {
   "cell_type": "code",
   "execution_count": null,
   "id": "327735e2-bbb5-4cf8-9d07-d84a8ea0dd41",
   "metadata": {},
   "outputs": [],
   "source": [
    "extent = (x[0], x[-1], y[0], y[-1])\n",
    "scale = 1\n",
    "lw = 0.5\n",
    "\n",
    "g = np.linspace(0, 1, 200)"
   ]
  },
  {
   "cell_type": "markdown",
   "id": "1c17e853-1450-4024-9f28-efd16b80c708",
   "metadata": {},
   "source": [
    "### Subfigure (a)"
   ]
  },
  {
   "cell_type": "code",
   "execution_count": null,
   "id": "88b5ac53-ab1f-48b1-bb03-6f5c1e5121f4",
   "metadata": {},
   "outputs": [],
   "source": [
    "color = \"black\"\n",
    "\n",
    "fig, ax = plt.subplots(1, 1, figsize=(2 * scale, 2 * scale), sharex=True, sharey=True)\n",
    "\n",
    "im = ax.imshow(Z, interpolation=\"bilinear\", origin=\"lower\", cmap=mpl.cm.seismic, extent=extent, alpha=0.6)\n",
    "\n",
    "ax.text(0.05, 0.95, r\"(a)\", ha=\"left\", va=\"top\", transform=ax.transAxes, color=color)\n",
    "ax.text(0.95, 0.95, \"Phase 1\", ha=\"right\", va=\"top\", transform=ax.transAxes, color=color)\n",
    "ax.text(0.05, 0.05, \"Phase 2\", ha=\"left\", va=\"bottom\", transform=ax.transAxes, color=color)\n",
    "\n",
    "ax.set_xticks([0, 1])\n",
    "ax.set_yticks([0, 1])\n",
    "\n",
    "utils.set_grids(ax, grid=False)\n",
    "ax.set_ylabel(\"$x_2$~[a.u.]\")\n",
    "ax.set_xlabel(\"$x_1$~[a.u.]\")\n",
    "\n",
    "# plt.savefig(\"figures_sine2phase/sine2phase_subfigure_a.svg\", dpi=300, bbox_inches=\"tight\")\n",
    "plt.show()"
   ]
  },
  {
   "cell_type": "markdown",
   "id": "1c6a7fff-4d93-4fc0-a240-7fc223189b75",
   "metadata": {},
   "source": [
    "### Subfigure $p(x)$ colorbar"
   ]
  },
  {
   "cell_type": "code",
   "execution_count": null,
   "id": "dc7e31e7-f227-4ca8-a510-fc484858f79f",
   "metadata": {},
   "outputs": [],
   "source": [
    "fig, ax = plt.subplots(1, 1, figsize=(2 * scale, 2 * scale), sharex=True, sharey=True)\n",
    "\n",
    "im = ax.imshow(Z, interpolation=\"bilinear\", origin=\"lower\", cmap=mpl.cm.seismic, extent=extent, alpha=0.6)\n",
    "\n",
    "cbar = utils.add_colorbar(im, aspect=20)\n",
    "cbar.set_ticks([0, 1])\n",
    "cbar.set_label(r\"$p(\\mathbf{x})$\", labelpad=-10)\n",
    "\n",
    "ax.remove()\n",
    "\n",
    "# plt.savefig(\"figures_sine2phase/sine2phase_p_cbar.svg\", dpi=300, bbox_inches=\"tight\")\n",
    "plt.show()"
   ]
  },
  {
   "cell_type": "markdown",
   "id": "5b7ac2bf-63ee-4c01-90b6-5d9bbaff29a7",
   "metadata": {},
   "source": [
    "### Subfigure (b)"
   ]
  },
  {
   "cell_type": "code",
   "execution_count": null,
   "id": "332d7a3d-334e-499d-b845-3862a3ad3660",
   "metadata": {},
   "outputs": [],
   "source": [
    "single_result = results_by_acqf[\"UpperConfidenceBound10\"][0]\n",
    "Z = single_result._record[-1][\"mu\"].reshape(50, 50).T\n",
    "Z = Z - Z.min()\n",
    "Z = Z / Z.max()\n",
    "cmap = mpl.cm.magma"
   ]
  },
  {
   "cell_type": "code",
   "execution_count": null,
   "id": "2e8bf2a4-aa40-44c4-a40b-f1a77370eaf5",
   "metadata": {},
   "outputs": [],
   "source": [
    "fig, ax = plt.subplots(1, 1, figsize=(2 * scale, 2 * scale), sharex=True, sharey=True)\n",
    "\n",
    "im = ax.imshow(Z, interpolation=\"bilinear\", origin=\"lower\", cmap=cmap, extent=extent, alpha=0.4)\n",
    "\n",
    "sine = 0.5 + np.sin(2.0 * np.pi * g) / 4\n",
    "sine_upper = sine + 0.05\n",
    "sine_lower = sine - 0.05\n",
    "\n",
    "# ax.fill_between(g, sine_lower, sine_upper, hatch=\"|\"*10, color=None, alpha=0, linewidth=0)\n",
    "color = \"k\"\n",
    "ax.plot(\n",
    "    g,\n",
    "    sine,\n",
    "    f\"{color}--\",\n",
    "    linewidth=lw,\n",
    ")\n",
    "# ax.plot(g, sine_upper, f\"{color}--\", linewidth=lw)\n",
    "# ax.plot(g, sine_lower, f\"{color}--\", linewidth=lw)\n",
    "\n",
    "X = single_result.data.X\n",
    "ax.scatter(X[:, 0], X[:, 1], color=\"black\", s=0.5, zorder=3)\n",
    "\n",
    "ax.text(0.05, 0.95, r\"(b)\", ha=\"left\", va=\"top\", transform=ax.transAxes)\n",
    "\n",
    "ax.set_xticks([0, 1])\n",
    "ax.set_yticks([0, 1])\n",
    "\n",
    "utils.set_grids(ax, grid=False)\n",
    "ax.set_ylabel(\"$x_2$~[a.u.]\")\n",
    "ax.set_xlabel(\"$x_1$~[a.u.]\")\n",
    "\n",
    "# plt.savefig(\"figures_sine2phase/sine2phase_subfigure_b.svg\", dpi=300, bbox_inches=\"tight\")\n",
    "plt.show()"
   ]
  },
  {
   "cell_type": "markdown",
   "id": "8e2811d8-af80-4072-82c9-25ccf822d2a3",
   "metadata": {},
   "source": [
    "### Subfigure value colorbar"
   ]
  },
  {
   "cell_type": "code",
   "execution_count": null,
   "id": "9790d326-5a0f-4651-8ed5-3d945f15a9f4",
   "metadata": {},
   "outputs": [],
   "source": [
    "fig, ax = plt.subplots(1, 1, figsize=(2 * scale, 2 * scale), sharex=True, sharey=True)\n",
    "\n",
    "im = ax.imshow(Z, interpolation=\"bilinear\", origin=\"lower\", cmap=cmap, extent=extent, alpha=0.4)\n",
    "\n",
    "cbar = utils.add_colorbar(im, aspect=20)\n",
    "cbar.set_ticks([0, 1])\n",
    "cbar.set_label(r\"$U(\\mathbf{x})$\", labelpad=-10)\n",
    "\n",
    "ax.remove()\n",
    "\n",
    "# plt.savefig(\"figures_sine2phase/sine2phase_U_cbar.svg\", dpi=300, bbox_inches=\"tight\")\n",
    "plt.show()"
   ]
  },
  {
   "cell_type": "markdown",
   "id": "a1115843-0696-4840-9597-c22087f1d050",
   "metadata": {},
   "source": [
    "### Subfigure (c): select metrics"
   ]
  },
  {
   "cell_type": "code",
   "execution_count": null,
   "id": "eee6cdac-e9f4-4466-8e19-66f4eaea7e46",
   "metadata": {},
   "outputs": [],
   "source": [
    "acquisition_function_name_maps = {\n",
    "    \"Linear\": \"LTB\",\n",
    "    \"UpperConfidenceBound10\": \"UCB(10)\",\n",
    "    \"ExpectedImprovement\": \"EI\",\n",
    "    \"UpperConfidenceBound1\": \"UCB(1)\",\n",
    "    \"UpperConfidenceBound20\": \"UCB(20)\",\n",
    "    \"UpperConfidenceBound100\": \"UCB(100)\",\n",
    "}"
   ]
  },
  {
   "cell_type": "code",
   "execution_count": null,
   "id": "c878d601-6b2e-4a43-abc0-1b3247c89edf",
   "metadata": {},
   "outputs": [],
   "source": [
    "metrics_grid = list(range(6, 251, 6)) + [250]\n",
    "metrics_grid = np.unique(metrics_grid).tolist()\n",
    "metrics_grid_linear = [ii for ii in range(2, 16)]\n",
    "grid_points = 200\n",
    "metric = \"mse\""
   ]
  },
  {
   "cell_type": "code",
   "execution_count": null,
   "id": "cdab8ff6-3b34-4fbf-8d19-0717c475fe6c",
   "metadata": {},
   "outputs": [],
   "source": [
    "all_metrics_linear = sine2phase_compute_metrics_all_acquisition_functions_and_LTB(\n",
    "    results_by_acqf,\n",
    "    metrics_grid=metrics_grid,\n",
    "    metrics_grid_linear=metrics_grid_linear,\n",
    "    metric=metric,\n",
    "    grid_points=grid_points,\n",
    "    interpolation_method=\"linear\",\n",
    "    disable_pbar=False,\n",
    ")"
   ]
  },
  {
   "cell_type": "code",
   "execution_count": null,
   "id": "442ceaf2-ce3f-48bb-b12a-8a8d449ca329",
   "metadata": {},
   "outputs": [],
   "source": [
    "only_plot = [\"LTB\", \"EI\", \"UCB(10)\"]"
   ]
  },
  {
   "cell_type": "code",
   "execution_count": null,
   "id": "3da253f8-41a4-48c8-b053-50ae409e0056",
   "metadata": {},
   "outputs": [],
   "source": [
    "fig, ax = plt.subplots(1, 1, figsize=(1.5, 2))\n",
    "\n",
    "for acquisition_function_name in acquisition_function_name_maps.keys():\n",
    "    values = all_metrics_linear[\"metrics\"][acquisition_function_name]\n",
    "    metrics_grid = all_metrics_linear[\"metrics_grid\"]\n",
    "    metrics_grid_linear = all_metrics_linear[\"metrics_grid_linear\"]\n",
    "    label = acquisition_function_name_maps[acquisition_function_name]\n",
    "\n",
    "    if only_plot is None or label in only_plot:\n",
    "        mu = np.log(values).mean(axis=1)\n",
    "        sd = np.log(values).std(axis=1) * 2\n",
    "        label = label if label != \"LTB\" else \"Grid\"\n",
    "        if label == \"Grid\":\n",
    "            ax.plot(metrics_grid_linear, mu, label=label)\n",
    "            ax.fill_between(metrics_grid_linear, mu - sd, mu + sd, linewidth=0, alpha=0.3)\n",
    "        else:\n",
    "            ax.plot(metrics_grid, mu, label=label)\n",
    "            ax.fill_between(metrics_grid, mu - sd, mu + sd, linewidth=0, alpha=0.3)\n",
    "\n",
    "utils.set_grids(ax)\n",
    "ax.tick_params(which=\"minor\", bottom=False, top=False)\n",
    "ax.set_xticks([4, 50, 150, 250])\n",
    "\n",
    "\n",
    "ax.legend(frameon=False, loc=\"upper right\", fontsize=8)\n",
    "ax.text(0.05, 0.05, r\"(c)\", ha=\"left\", va=\"bottom\", transform=ax.transAxes)\n",
    "ax.set_ylim(top=0.5, bottom=-7.5)\n",
    "\n",
    "ax.set_xlabel(r\"$N$\")\n",
    "ax.set_ylabel(r\"$\\ln$(MSE)\")\n",
    "\n",
    "# plt.savefig(\"figures_sine2phase/sine2phase_subfigure_c.svg\", dpi=300, bbox_inches=\"tight\")\n",
    "plt.show()"
   ]
  },
  {
   "cell_type": "markdown",
   "id": "8f1ef0d0-99c9-4c77-87b4-e6cb9d56c12a",
   "metadata": {},
   "source": [
    "## Supplementary information"
   ]
  },
  {
   "cell_type": "markdown",
   "id": "98cd6591",
   "metadata": {},
   "source": [
    "### Bayesian inference via clustering then classification then sampling maximal uncertainty"
   ]
  },
  {
   "cell_type": "code",
   "execution_count": null,
   "id": "5079d55b",
   "metadata": {},
   "outputs": [],
   "source": [
    "max_queries = 250\n",
    "grid_points = 100\n",
    "N_exp = 10"
   ]
  },
  {
   "cell_type": "code",
   "execution_count": null,
   "id": "f3b66d76",
   "metadata": {},
   "outputs": [],
   "source": [
    "np.random.seed(123)\n",
    "new_metrics = {}\n",
    "\n",
    "with warnings.catch_warnings():\n",
    "    warnings.simplefilter(\"ignore\")\n",
    "\n",
    "    for k_clusters in [2, 3]:\n",
    "        metrics_grid = list(range(3, max_queries + 1, 10))\n",
    "        new_metrics[f\"Bayesian_{k_clusters}\"] = []\n",
    "\n",
    "        for exp in tqdm(range(N_exp)):\n",
    "            k_means = KMeans(k_clusters, n_init=\"auto\")\n",
    "            clf = LogisticRegression()\n",
    "            x = list(np.random.rand(k_clusters, 2))\n",
    "            y = truth_sine2phase(\n",
    "                np.array(x)\n",
    "            )  # This won't take single items, so we feed it the entire array each time???\n",
    "\n",
    "            for _ in range(k_clusters + 1, max_queries + 1):\n",
    "                labels = k_means.fit_predict(y)\n",
    "                try:\n",
    "                    clf.fit(np.array(x).reshape(-1, 2), labels)\n",
    "                    x_grid, y_grid = np.meshgrid(np.linspace(0, 1, grid_points), np.linspace(0, 1, grid_points))\n",
    "                    grid_array = np.column_stack((x_grid.ravel(), y_grid.ravel()))\n",
    "                    proby = clf.predict_proba(grid_array)\n",
    "                    shannon = np.sum(proby * np.log(1 / proby), axis=-1)\n",
    "                    max_entropy_loc = grid_array[np.argmax(shannon)]\n",
    "                except ValueError:  # Not enough examples of both classes to fit a logistic regression\n",
    "                    max_entropy_loc = np.random.rand(2)\n",
    "\n",
    "                x.append(max_entropy_loc)\n",
    "                y = truth_sine2phase(np.array(x))\n",
    "\n",
    "            _metrics = []\n",
    "            for N in metrics_grid:\n",
    "                res = sine2phase_residual_2d_phase_mse(\n",
    "                    np.array(x)[:N,].reshape(-1, 2),\n",
    "                    grid_points=grid_points,\n",
    "                )\n",
    "                _metrics.append(res)\n",
    "            new_metrics[f\"Bayesian_{k_clusters}\"].append(_metrics)\n",
    "\n",
    "for k_clusters in [2, 3]:\n",
    "    new_metrics[f\"Bayesian_{k_clusters}\"] = np.array(new_metrics[f\"Bayesian_{k_clusters}\"])"
   ]
  },
  {
   "cell_type": "code",
   "execution_count": null,
   "id": "1cd84101",
   "metadata": {},
   "outputs": [],
   "source": [
    "metric_grids_bayesian = []\n",
    "for k_clusters in [3, 4, 5]:\n",
    "    metric_grids_bayesian.append(list(range(k_clusters, max_queries + 1, 10)))"
   ]
  },
  {
   "cell_type": "code",
   "execution_count": null,
   "id": "dc1fd378",
   "metadata": {},
   "outputs": [],
   "source": [
    "fig, ax = plt.subplots(1, 1, figsize=(2, 3))\n",
    "\n",
    "for acquisition_function_name in acquisition_function_name_maps.keys():\n",
    "    values = all_metrics_linear[\"metrics\"][acquisition_function_name]\n",
    "    metrics_grid = all_metrics_linear[\"metrics_grid\"]\n",
    "    metrics_grid_linear = all_metrics_linear[\"metrics_grid_linear\"]\n",
    "    label = acquisition_function_name_maps[acquisition_function_name]\n",
    "\n",
    "    if only_plot is None or label in only_plot:\n",
    "        mu = np.log(values).mean(axis=1)\n",
    "        sd = np.log(values).std(axis=1) * 2\n",
    "        label = label if label != \"LTB\" else \"Grid\"\n",
    "        if label == \"Grid\":\n",
    "            ax.plot(metrics_grid_linear, mu, label=label)\n",
    "            ax.fill_between(metrics_grid_linear, mu - sd, mu + sd, linewidth=0, alpha=0.3)\n",
    "        else:\n",
    "            ax.plot(metrics_grid, mu, label=label)\n",
    "            ax.fill_between(metrics_grid, mu - sd, mu + sd, linewidth=0, alpha=0.3)\n",
    "\n",
    "acquisition_function_name_maps_bayesian = {\n",
    "    f\"Bayesian_{k_clusters}\": f\"Bayesian_{k_clusters}_clusters\" for k_clusters in [2, 3]\n",
    "}\n",
    "for ii, acquisition_function_name in enumerate(acquisition_function_name_maps_bayesian.keys()):\n",
    "    values = new_metrics[acquisition_function_name]\n",
    "    label = acquisition_function_name_maps_bayesian[acquisition_function_name]\n",
    "    mu = np.nanmean(np.log(values), axis=0)\n",
    "    sd = np.nanstd(np.log(values), axis=0) * 2\n",
    "    ax.plot(metric_grids_bayesian[ii], mu, label=label.replace(\"_\", \" \"))\n",
    "    ax.fill_between(metric_grids_bayesian[ii], mu - sd, mu + sd, linewidth=0, alpha=0.3)\n",
    "\n",
    "utils.set_grids(ax)\n",
    "ax.tick_params(which=\"minor\", bottom=False, top=False)\n",
    "ax.set_xticks([4, 50, 150, 250])\n",
    "# ax.set_yscale('log')\n",
    "\n",
    "# yticks = np.array([-1, -2, -3])\n",
    "# ax.set_yticks((10.0**yticks).tolist())\n",
    "# ax.set_yticklabels([f\"${ii}$\" for ii in yticks])\n",
    "\n",
    "# ax.axhline(0.1, color=\"black\", linewidth=0.5, linestyle=\"--\", zorder=-1)\n",
    "\n",
    "# ax.legend(frameon=False, bbox_to_anchor=(1, 0.5), loc=\"center left\")\n",
    "ax.legend(frameon=False, loc=\"center left\", fontsize=8, bbox_to_anchor=(1, 0.5))\n",
    "ax.set_ylim(top=0.5, bottom=-7.5)\n",
    "\n",
    "ax.set_xlabel(r\"$N$\")\n",
    "ax.set_ylabel(r\"$\\ln$(MSE)\")\n",
    "\n",
    "# plt.savefig(\"figures_sine2phase/SI_sine2phase_Bayesian.pdf\", dpi=300, bbox_inches=\"tight\")\n",
    "plt.show()"
   ]
  },
  {
   "cell_type": "markdown",
   "id": "84bb0440-fb57-4557-84d4-486216b72c51",
   "metadata": {},
   "source": [
    "### Plot of the basis functions"
   ]
  },
  {
   "cell_type": "code",
   "execution_count": null,
   "id": "bfd9ad71-6f7c-48e5-85bf-5778e9548a20",
   "metadata": {
    "tags": []
   },
   "outputs": [],
   "source": [
    "from sva.truth.common import mu_Gaussians"
   ]
  },
  {
   "cell_type": "code",
   "execution_count": null,
   "id": "fc48cf2d-dc05-4c49-8a60-7638ef09d3c3",
   "metadata": {
    "tags": []
   },
   "outputs": [],
   "source": [
    "E = np.linspace(-1, 1, 100)"
   ]
  },
  {
   "cell_type": "code",
   "execution_count": null,
   "id": "75eaa3ea-a482-4a49-abdf-5fa097fa219e",
   "metadata": {
    "tags": []
   },
   "outputs": [],
   "source": [
    "pure1 = mu_Gaussians(0)\n",
    "pure2 = mu_Gaussians(1)"
   ]
  },
  {
   "cell_type": "code",
   "execution_count": null,
   "id": "21a90200-e947-4790-8bf2-febcb7b36594",
   "metadata": {
    "tags": []
   },
   "outputs": [],
   "source": [
    "fig, ax = plt.subplots(1, 1, figsize=(3, 1))\n",
    "\n",
    "ax.plot(E, pure1, color=\"red\", label=\"Phase 1\")\n",
    "ax.plot(E, pure2, color=\"blue\", label=\"Phase 2\")\n",
    "\n",
    "ax.legend(frameon=False, bbox_to_anchor=(1.0, 0.5), loc=\"center left\")\n",
    "ax.set_xlabel(\"$Q$~[a.u.]\")\n",
    "ax.set_ylabel(\"$I(Q)$~[a.u.]\")\n",
    "\n",
    "# plt.savefig(\"figures_sine2phase/SI_sine2phase_phases.pdf\", bbox_inches=\"tight\", dpi=300)\n",
    "plt.show()"
   ]
  },
  {
   "cell_type": "markdown",
   "id": "d1bb80e1-3170-49df-8e68-901d98250201",
   "metadata": {},
   "source": [
    "### Run a single random experiment as a control"
   ]
  },
  {
   "cell_type": "code",
   "execution_count": null,
   "id": "046e854a-e08e-43e0-bef8-0afb97205aed",
   "metadata": {
    "tags": []
   },
   "outputs": [],
   "source": [
    "from sva.experiments import Experiment, Data\n",
    "from sva.value import default_asymmetric_value_function\n",
    "from sva.truth.sine2phase import truth_sine2phase"
   ]
  },
  {
   "cell_type": "code",
   "execution_count": null,
   "id": "13b6ee1f-ccd8-4ad8-9059-29d989719837",
   "metadata": {
    "tags": []
   },
   "outputs": [],
   "source": [
    "data = Data.from_initial_conditions(\n",
    "    truth=truth_sine2phase,\n",
    "    value=default_asymmetric_value_function,\n",
    "    seed=123,\n",
    "    how=\"random\",\n",
    "    value_kwargs={\"sd\": None, \"multiplier\": 1.0},\n",
    ")\n",
    "\n",
    "random_experiment = Experiment(\n",
    "    data=data,\n",
    "    acqf_signature=\"random\"\n",
    ")"
   ]
  },
  {
   "cell_type": "code",
   "execution_count": null,
   "id": "87bffbc0-0a94-46af-b961-9f36ab5c929f",
   "metadata": {
    "tags": []
   },
   "outputs": [],
   "source": [
    "random_experiment.run(max_n_dat=250, pbar=True, record_gp_every=50, points_per_dimension_full_grid=50)"
   ]
  },
  {
   "cell_type": "markdown",
   "id": "88fcf4e6-939b-4102-9808-84e2e3180472",
   "metadata": {},
   "source": [
    "### 2d histograms and single-experiment plots"
   ]
  },
  {
   "cell_type": "code",
   "execution_count": null,
   "id": "c3de1fdb-5e73-4e7b-b832-9bc31e93d969",
   "metadata": {},
   "outputs": [],
   "source": [
    "acquisition_function_name_maps = {\n",
    "    \"ExpectedImprovement\": \"EI\",\n",
    "    \"UpperConfidenceBound1\": \"UCB(1)\",\n",
    "    \"UpperConfidenceBound10\": \"UCB(10)\",\n",
    "    \"UpperConfidenceBound20\": \"UCB(20)\",\n",
    "    \"UpperConfidenceBound100\": \"UCB(100)\",\n",
    "    \"Random\": \"Random\",\n",
    "}"
   ]
  },
  {
   "cell_type": "code",
   "execution_count": null,
   "id": "0a504579-0925-42ee-94d8-c37701ac2cb1",
   "metadata": {},
   "outputs": [],
   "source": [
    "all_points = dict()\n",
    "for acquisition_function_name, values in results_by_acqf.items():\n",
    "    tmp_metrics = [exp.data.X for exp in values]\n",
    "    all_points[acquisition_function_name] = np.array(tmp_metrics)"
   ]
  },
  {
   "cell_type": "code",
   "execution_count": null,
   "id": "d5d9dbc8-a16e-4c6f-9fce-ef1ce20dafdf",
   "metadata": {},
   "outputs": [],
   "source": [
    "N_to_plot = [3, 50, 100, 150, 200, 249]"
   ]
  },
  {
   "cell_type": "code",
   "execution_count": null,
   "id": "2c5975e9-e795-422b-99c3-f7b1dbb26d2c",
   "metadata": {
    "tags": []
   },
   "outputs": [],
   "source": [
    "L1 = len(acquisition_function_name_maps)\n",
    "L2 = len(N_to_plot)\n",
    "index = 1\n",
    "cmap = mpl.cm.magma\n",
    "fig, axs = plt.subplots(L1, L2, figsize=(L2, L1), sharex=True, sharey=True)\n",
    "\n",
    "for ii, acquisition_function_name in enumerate(acquisition_function_name_maps.keys()):\n",
    "    \n",
    "    label = acquisition_function_name_maps[acquisition_function_name]\n",
    "    \n",
    "    if acquisition_function_name == \"Random\":\n",
    "        value = random_experiment.data.X\n",
    "        \n",
    "        for jj, N in enumerate(N_to_plot):\n",
    "            ax = axs[ii, jj]\n",
    "            X = value[:N, :]  #.reshape(-1, 2)\n",
    "\n",
    "            if N == 250:\n",
    "                N = 249\n",
    "            Z = random_experiment._record[N-3][\"mu\"].reshape(50, 50).T\n",
    "            Z = Z - Z.min()\n",
    "            Z = Z / Z.max()\n",
    "            im = ax.imshow(Z, interpolation='bilinear', origin='lower', cmap=cmap, extent=extent, alpha=0.4)\n",
    "            ax.scatter(X[:, 0], X[:, 1], s=0.1, color=\"black\")\n",
    "        \n",
    "    else:\n",
    "        value = all_points[acquisition_function_name]\n",
    "        all_results = results_by_acqf[acquisition_function_name]\n",
    "    \n",
    "        for jj, N in enumerate(N_to_plot):\n",
    "            ax = axs[ii, jj]\n",
    "            X = value[:, :N, :]  #.reshape(-1, 2)\n",
    "\n",
    "            if N == 250:\n",
    "                N = 249\n",
    "            Z = all_results[index]._record[N-3][\"mu\"].reshape(50, 50).T\n",
    "            Z = Z - Z.min()\n",
    "            Z = Z / Z.max()\n",
    "            im = ax.imshow(Z, interpolation='bilinear', origin='lower', cmap=cmap, extent=extent, alpha=0.4)\n",
    "\n",
    "            # ax.hist2d(X[:, 0], X[:, 1], bins=50, cmap=\"RdBu_r\")\n",
    "            ax.scatter(X[index, :, 0], X[index, :, 1], s=0.1, color=\"black\")\n",
    "            # ax.scatter(X[index, :3, 0], X[index, :3, 1], s=2, color=\"blue\")\n",
    "        \n",
    "\n",
    "        \n",
    "\n",
    "for jj, N in enumerate(N_to_plot):\n",
    "    ax = axs[0, jj]\n",
    "    ax.set_title(r\"$N=%i$\" % N)\n",
    "for ii, acquisition_function_name in enumerate(acquisition_function_name_maps.keys()):\n",
    "    label = acquisition_function_name_maps[acquisition_function_name]\n",
    "    ax = axs[ii, -1]\n",
    "    ax.text(1.05, 0.5, label, ha=\"left\", va=\"center\", transform=ax.transAxes, rotation=90)\n",
    "for ax in axs.flatten():\n",
    "    # ax.set_axis_off()\n",
    "    ax.set_xticks([])\n",
    "    ax.set_yticks([])\n",
    "\n",
    "ax = fig.add_subplot(111, frameon=False)\n",
    "# hide tick and tick label of the big axes\n",
    "plt.tick_params(labelcolor='none', top='off', bottom='off', left='off', right='off')\n",
    "ax.set_xticks([])\n",
    "ax.set_yticks([])\n",
    "# Use `labelpad=...` for padding when using ax.set_xlabel(...)\n",
    "ax.set_ylabel(\"$x_2$~[a.u.]\")\n",
    "ax.set_xlabel(\"$x_1$~[a.u.]\")\n",
    "\n",
    "plt.subplots_adjust(hspace=0.03, wspace=0.03)\n",
    "\n",
    "# plt.savefig(\"figures_sine2phase/SI_sine2phase_single_experiment.pdf\", dpi=300, bbox_inches=\"tight\")\n",
    "plt.show()"
   ]
  },
  {
   "cell_type": "code",
   "execution_count": null,
   "id": "4b9649f2-0bd7-4489-9d07-caa9fff14258",
   "metadata": {
    "tags": []
   },
   "outputs": [],
   "source": [
    "acquisition_function_name_maps = {\n",
    "    \"ExpectedImprovement\": \"EI\",\n",
    "    \"UpperConfidenceBound1\": \"UCB(1)\",\n",
    "    \"UpperConfidenceBound10\": \"UCB(10)\",\n",
    "    \"UpperConfidenceBound20\": \"UCB(20)\",\n",
    "    \"UpperConfidenceBound100\": \"UCB(100)\",\n",
    "}"
   ]
  },
  {
   "cell_type": "code",
   "execution_count": null,
   "id": "38185141-5a39-4b83-8b72-707f5046048d",
   "metadata": {
    "tags": []
   },
   "outputs": [],
   "source": [
    "N_to_plot = [3, 50, 100, 150, 200, 250]"
   ]
  },
  {
   "cell_type": "code",
   "execution_count": null,
   "id": "684126f4-d8b0-484f-a94a-fe4610656838",
   "metadata": {},
   "outputs": [],
   "source": [
    "L1 = len(acquisition_function_name_maps)\n",
    "L2 = len(N_to_plot)\n",
    "fig, axs = plt.subplots(L1, L2, figsize=(L2, L1), sharex=True, sharey=True)\n",
    "\n",
    "for ii, acquisition_function_name in enumerate(acquisition_function_name_maps.keys()):\n",
    "    value = all_points[acquisition_function_name]\n",
    "    label = acquisition_function_name_maps[acquisition_function_name]\n",
    "    for jj, N in enumerate(N_to_plot):\n",
    "        ax = axs[ii, jj]\n",
    "        X = value[:, :N, :].reshape(-1, 2)\n",
    "        ax.hist2d(X[:, 0], X[:, 1], bins=50, cmap=\"RdBu_r\")\n",
    "\n",
    "for jj, N in enumerate(N_to_plot):\n",
    "    ax = axs[0, jj]\n",
    "    ax.set_title(r\"$N=%i$\" % N)\n",
    "for ii, acquisition_function_name in enumerate(acquisition_function_name_maps.keys()):\n",
    "    label = acquisition_function_name_maps[acquisition_function_name]\n",
    "    ax = axs[ii, -1]\n",
    "    ax.text(1.05, 0.5, label, ha=\"left\", va=\"center\", transform=ax.transAxes, rotation=90)\n",
    "for ax in axs.flatten():\n",
    "    ax.set_axis_off()\n",
    "\n",
    "ax = fig.add_subplot(111, frameon=False)\n",
    "# hide tick and tick label of the big axes\n",
    "plt.tick_params(labelcolor='none', top='off', bottom='off', left='off', right='off')\n",
    "ax.set_xticks([])\n",
    "ax.set_yticks([])\n",
    "# Use `labelpad=...` for padding when using ax.set_xlabel(...)\n",
    "ax.set_ylabel(\"$x_2$~[a.u.]\")\n",
    "ax.set_xlabel(\"$x_1$~[a.u.]\")\n",
    "\n",
    "plt.subplots_adjust(hspace=0.03, wspace=0.03)\n",
    "\n",
    "# plt.savefig(\"figures_sine2phase/SI_sine2phase.pdf\", dpi=300, bbox_inches=\"tight\")\n",
    "plt.show()"
   ]
  },
  {
   "cell_type": "markdown",
   "id": "048c8a6f-0e75-4c77-aa09-bd97badc82bf",
   "metadata": {},
   "source": [
    "### All acquisition functions for the metric"
   ]
  },
  {
   "cell_type": "code",
   "execution_count": null,
   "id": "e8607a90-c0ef-451d-b73b-bf5b16f258cb",
   "metadata": {},
   "outputs": [],
   "source": [
    "acquisition_function_name_maps = {\n",
    "    \"Linear\": \"LTB\",\n",
    "    \"Random\": \"Random\",\n",
    "    \"ExpectedImprovement\": \"EI\",\n",
    "    \"UpperConfidenceBound1\": \"UCB(1)\",\n",
    "    \"UpperConfidenceBound10\": \"UCB(10)\",\n",
    "    \"UpperConfidenceBound20\": \"UCB(20)\",\n",
    "    \"UpperConfidenceBound100\": \"UCB(100)\"\n",
    "}"
   ]
  },
  {
   "cell_type": "code",
   "execution_count": null,
   "id": "d22803ef-2286-4c58-b0f4-a95a6ed1345d",
   "metadata": {},
   "outputs": [],
   "source": [
    "only_plot = [\"Random\", \"LTB\", \"EI\", \"UCB(1)\", \"UCB(10)\", \"UCB(20)\", \"UCB(100)\"]"
   ]
  },
  {
   "cell_type": "code",
   "execution_count": null,
   "id": "5cd13fa1-9f9a-4f17-9fbe-fe0d2ae9771b",
   "metadata": {},
   "outputs": [],
   "source": [
    "fig, ax = plt.subplots(1, 1, figsize=(3, 2))\n",
    "    \n",
    "for acquisition_function_name in acquisition_function_name_maps.keys():\n",
    "\n",
    "    values = all_metrics_linear[\"metrics\"][acquisition_function_name]\n",
    "    metrics_grid = all_metrics_linear[\"metrics_grid\"]\n",
    "    metrics_grid_linear = all_metrics_linear[\"metrics_grid_linear\"]\n",
    "    label = acquisition_function_name_maps[acquisition_function_name]\n",
    "\n",
    "    if only_plot is None or label in only_plot:\n",
    "        mu = values.mean(axis=1)\n",
    "        sd = values.std(axis=1)\n",
    "        if label == \"LTB\":\n",
    "            label = \"Grid\"\n",
    "            ax.plot(metrics_grid_linear, mu, label=label)\n",
    "            ax.fill_between(metrics_grid_linear, mu - sd, mu + sd, linewidth=0, alpha=0.3)\n",
    "        elif label == \"Random\":\n",
    "            ax.plot(metrics_grid_linear[1:], mu[1:], label=label)\n",
    "            ax.fill_between(metrics_grid_linear[1:], mu[1:] - sd[1:], mu[1:] + sd[1:], linewidth=0, alpha=0.3)\n",
    "        else:\n",
    "            ax.plot(metrics_grid, mu, label=label)\n",
    "            ax.fill_between(metrics_grid, mu - sd, mu + sd, linewidth=0, alpha=0.3)\n",
    "\n",
    "utils.set_grids(ax)\n",
    "ax.tick_params(which=\"minor\", bottom=False, top=False)\n",
    "ax.set_xticks([4, 50, 150, 250])\n",
    "ax.set_yscale('log')\n",
    "\n",
    "yticks = np.array([-1, -2, -3])\n",
    "ax.set_yticks((10.0**yticks).tolist())\n",
    "ax.set_yticklabels([f\"${ii}$\" for ii in yticks])\n",
    "\n",
    "ax.legend(frameon=False, bbox_to_anchor=(1, 0.5), loc=\"center left\")\n",
    "ax.set_ylim(top=10**-0.5)\n",
    "\n",
    "ax.set_xlabel(r\"$N$\")\n",
    "ax.set_ylabel(r\"$\\ln$(MSE)\")\n",
    "\n",
    "# plt.savefig(\"figures_sine2phase/SI_sine2phase_all_MSE_metrics.pdf\", dpi=300, bbox_inches=\"tight\")\n",
    "plt.show()"
   ]
  },
  {
   "cell_type": "markdown",
   "id": "29d27738-39f2-4b14-b82a-6e347cb2eb52",
   "metadata": {},
   "source": [
    "### Length scales"
   ]
  },
  {
   "cell_type": "code",
   "execution_count": null,
   "id": "f9db2b5c-7df7-4c84-a5cc-8bb60d4ec569",
   "metadata": {},
   "outputs": [],
   "source": [
    "acquisition_function_name_maps = {\n",
    "    \"ExpectedImprovement\": \"EI\",\n",
    "    \"UpperConfidenceBound1\": \"UCB(1)\",\n",
    "    \"UpperConfidenceBound10\": \"UCB(10)\",\n",
    "    \"UpperConfidenceBound20\": \"UCB(20)\",\n",
    "    \"UpperConfidenceBound100\": \"UCB(100)\"\n",
    "}"
   ]
  },
  {
   "cell_type": "code",
   "execution_count": null,
   "id": "e5f9bcf3-c84f-4441-a6a6-1a312bc13989",
   "metadata": {},
   "outputs": [],
   "source": [
    "all_points = dict()\n",
    "for acquisition_function_name, values in results_by_acqf.items():\n",
    "    tmp_metrics = [exp.data.X for exp in values]\n",
    "    all_points[acquisition_function_name] = np.array(tmp_metrics)"
   ]
  },
  {
   "cell_type": "code",
   "execution_count": null,
   "id": "0695d222-898c-4987-9772-0a2cc87e82e0",
   "metadata": {},
   "outputs": [],
   "source": [
    "n_grid = list(range(3, 251))"
   ]
  },
  {
   "cell_type": "code",
   "execution_count": null,
   "id": "27311534-99c7-4af1-acd7-c347973e8b40",
   "metadata": {},
   "outputs": [],
   "source": [
    "all_length_scales = dict()\n",
    "for acquisition_function_name, values in all_points.items():\n",
    "    tmp_jj = []\n",
    "    \n",
    "    # jj is the experiment index\n",
    "    for jj in tqdm(range(300)):\n",
    "        \n",
    "        tmp_jj_ii = []\n",
    "    \n",
    "        ## ii is the n-points index\n",
    "        for ii in n_grid:\n",
    "            p = values.squeeze()[jj, :ii, :]\n",
    "            X_dist = distance_matrix(p, p)\n",
    "            distance = X_dist.copy()\n",
    "            distance[distance == 0.0] = np.inf\n",
    "            sd = distance.min(axis=1).mean()\n",
    "            tmp_jj_ii.append(sd)\n",
    "\n",
    "        tmp_jj.append(tmp_jj_ii)\n",
    "\n",
    "    all_length_scales[acquisition_function_name] = np.array(tmp_jj)"
   ]
  },
  {
   "cell_type": "code",
   "execution_count": null,
   "id": "7411f93c-bf1e-4706-9b5c-153084ba6645",
   "metadata": {},
   "outputs": [],
   "source": [
    "fig, ax = plt.subplots(1, 1, figsize=(2, 1.5))\n",
    "\n",
    "for acquisition_function_name, _ in acquisition_function_name_maps.items():\n",
    "    values = all_length_scales[acquisition_function_name]\n",
    "    mu = values.mean(axis=0)\n",
    "    sd = values.std(axis=0)\n",
    "    ax.plot(n_grid, mu, label=acquisition_function_name_maps[acquisition_function_name])\n",
    "    ax.fill_between(n_grid, mu - sd, mu + sd, alpha=0.2)\n",
    "\n",
    "ax.set_yscale('log')\n",
    "ax.set_xscale('log')\n",
    "ax.set_ylabel(r\"$\\langle l \\rangle$\")\n",
    "ax.set_xlabel(r\"$N$\")\n",
    "\n",
    "utils.set_grids(ax)\n",
    "\n",
    "ax.legend(frameon=False, bbox_to_anchor=(1.05, 0.5), loc=\"center left\")\n",
    "\n",
    "# plt.savefig(\"figures_sine2phase/SI_sine2phase_sigma_with_N.pdf\", bbox_inches=\"tight\", dpi=300)\n",
    "plt.show()"
   ]
  },
  {
   "cell_type": "markdown",
   "id": "6f8df8b3-9c57-4ef1-b304-5ba3ff6a586d",
   "metadata": {},
   "source": [
    "### What happens if you use a fixed $l$?"
   ]
  },
  {
   "cell_type": "code",
   "execution_count": null,
   "id": "ca8613cc-bbab-496d-b845-e74bd57bcd2e",
   "metadata": {},
   "outputs": [],
   "source": [
    "results_by_acqf_05 = parse_results_by_acquisition_function(read_data(\"../results/results_23-09-02-sine2phase-sigma-0.05\"))\n",
    "results_by_acqf_15 = parse_results_by_acquisition_function(read_data(\"../results/results_23-09-02-sine2phase-sigma-0.15\"))\n",
    "results_by_acqf_25 = parse_results_by_acquisition_function(read_data(\"../results/results_23-09-02-sine2phase-sigma-0.25\"))\n",
    "results_by_acqf_50 = parse_results_by_acquisition_function(read_data(\"../results/results_23-09-02-sine2phase-sigma-0.5\"))"
   ]
  },
  {
   "cell_type": "code",
   "execution_count": null,
   "id": "df997d72-86e1-4e0c-9090-19fd5e06345c",
   "metadata": {},
   "outputs": [],
   "source": [
    "acquisition_function_name_maps = {\n",
    "    \"ExpectedImprovement\": \"EI\",\n",
    "    \"UpperConfidenceBound1\": \"UCB(1)\",\n",
    "    \"UpperConfidenceBound10\": \"UCB(10)\",\n",
    "    \"UpperConfidenceBound20\": \"UCB(20)\",\n",
    "    \"UpperConfidenceBound100\": \"UCB(100)\",\n",
    "}"
   ]
  },
  {
   "cell_type": "code",
   "execution_count": null,
   "id": "f86dfe30-84a5-4074-b022-9d3b96f17cd4",
   "metadata": {},
   "outputs": [],
   "source": [
    "all_points_fixled_l = dict()\n",
    "for name, results in zip([0.15, 0.25, 0.5], [results_by_acqf_15, results_by_acqf_25, results_by_acqf_50]):\n",
    "    all_points_fixled_l[name] = dict()\n",
    "    for acquisition_function_name, values in results.items():\n",
    "        all_points_fixled_l[name][acquisition_function_name] = values"
   ]
  },
  {
   "cell_type": "code",
   "execution_count": null,
   "id": "33fd0d5e-acf0-46bc-a134-d5e1fbbe69f1",
   "metadata": {
    "tags": []
   },
   "outputs": [],
   "source": [
    "L1 = len(acquisition_function_name_maps)\n",
    "L2 = 4\n",
    "index = 3\n",
    "cmap = mpl.cm.magma\n",
    "fig, axs = plt.subplots(L1, L2, figsize=(L2, L1), sharex=True, sharey=True)\n",
    "\n",
    "for jj, (sigma, results) in enumerate(all_points_fixled_l.items()):\n",
    "\n",
    "    for ii, acquisition_function_name in enumerate(acquisition_function_name_maps.keys()):\n",
    "        \n",
    "        experiments = results[acquisition_function_name]\n",
    "\n",
    "        label = acquisition_function_name_maps[acquisition_function_name]\n",
    "        \n",
    "\n",
    "        ax = axs[ii, jj]\n",
    "        values = np.array([exp.data.X for exp in experiments])\n",
    "        X = values[index, :, :]\n",
    "\n",
    "        Z = experiments[index]._record[-1][\"mu\"].reshape(50, 50).T\n",
    "        Z = Z - Z.min()\n",
    "        Z = Z / Z.max()\n",
    "        im = ax.imshow(Z, interpolation='bilinear', origin='lower', cmap=cmap, extent=extent, alpha=0.4)\n",
    "\n",
    "        ax.scatter(X[:, 0], X[:, 1], s=0.1, color=\"black\")\n",
    "\n",
    "for ii, acquisition_function_name in enumerate(acquisition_function_name_maps.keys()):\n",
    "    \n",
    "    experiments = results_by_acqf[acquisition_function_name]\n",
    "    \n",
    "    label = acquisition_function_name_maps[acquisition_function_name]\n",
    "\n",
    "    ax = axs[ii, -1]\n",
    "    values = np.array([exp.data.X for exp in experiments])\n",
    "    X = values[index, :, :]\n",
    "\n",
    "    Z = experiments[index]._record[-1][\"mu\"].reshape(50, 50).T\n",
    "    Z = Z - Z.min()\n",
    "    Z = Z / Z.max()\n",
    "    im = ax.imshow(Z, interpolation='bilinear', origin='lower', cmap=cmap, extent=extent, alpha=0.4)\n",
    "\n",
    "    ax.scatter(X[:, 0], X[:, 1], s=0.1, color=\"black\")\n",
    "\n",
    "        \n",
    "# for jj, N in enumerate(N_to_plot):\n",
    "#     ax = axs[0, jj]\n",
    "#     ax.set_title(r\"$N=%i$\" % N)\n",
    "\n",
    "axs[0, 0].set_title(r\"$l=0.15$\")\n",
    "axs[0, 1].set_title(r\"$l=0.25$\")\n",
    "axs[0, 2].set_title(r\"$l=0.5$\")\n",
    "\n",
    "for ii, acquisition_function_name in enumerate(acquisition_function_name_maps.keys()):\n",
    "    label = acquisition_function_name_maps[acquisition_function_name]\n",
    "    ax = axs[ii, -1]\n",
    "    ax.text(1.05, 0.5, label, ha=\"left\", va=\"center\", transform=ax.transAxes, rotation=90)\n",
    "for ax in axs.flatten():\n",
    "    # ax.set_axis_off()\n",
    "    ax.set_xticks([])\n",
    "    ax.set_yticks([])\n",
    "    \n",
    "plt.subplots_adjust(hspace=0.03, wspace=0.03)\n",
    "\n",
    "ax = fig.add_subplot(111, frameon=False)\n",
    "# hide tick and tick label of the big axes\n",
    "plt.tick_params(labelcolor='none', top='off', bottom='off', left='off', right='off')\n",
    "ax.set_xticks([])\n",
    "ax.set_yticks([])\n",
    "# Use `labelpad=...` for padding when using ax.set_xlabel(...)\n",
    "ax.set_ylabel(\"$x_2$~[a.u.]\")\n",
    "ax.set_xlabel(\"$x_1$~[a.u.]\")\n",
    "\n",
    "# plt.savefig(\"figures_sine2phase/SI_sine2phase_fixed_l_2d_plots.pdf\", dpi=300, bbox_inches=\"tight\")\n",
    "plt.show()"
   ]
  },
  {
   "cell_type": "code",
   "execution_count": null,
   "id": "d2b0a406-7fd2-4d59-acec-7bddf71ba9ad",
   "metadata": {},
   "outputs": [],
   "source": []
  }
 ],
 "metadata": {
  "kernelspec": {
   "display_name": "Python 3 (ipykernel)",
   "language": "python",
   "name": "python3"
  },
  "language_info": {
   "codemirror_mode": {
    "name": "ipython",
    "version": 3
   },
   "file_extension": ".py",
   "mimetype": "text/x-python",
   "name": "python",
   "nbconvert_exporter": "python",
   "pygments_lexer": "ipython3",
   "version": "3.9.16"
  },
  "toc-showtags": false
 },
 "nbformat": 4,
 "nbformat_minor": 5
}
